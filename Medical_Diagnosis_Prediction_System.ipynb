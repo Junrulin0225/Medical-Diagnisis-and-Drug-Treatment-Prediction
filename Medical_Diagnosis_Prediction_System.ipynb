{
  "cells": [
    {
      "cell_type": "markdown",
      "metadata": {
        "id": "view-in-github",
        "colab_type": "text"
      },
      "source": [
        "<a href=\"https://colab.research.google.com/github/Junrulin0225/Medical-Diagnosis-and-Drug-Treatment-Prediction/blob/main/Medical_Diagnosis_Prediction_System.ipynb\" target=\"_parent\"><img src=\"https://colab.research.google.com/assets/colab-badge.svg\" alt=\"Open In Colab\"/></a>"
      ]
    },
    {
      "cell_type": "markdown",
      "metadata": {
        "id": "U39Vs_a7lbmp"
      },
      "source": [
        "# **🩺 Welcome to my Medical Diagnosis Prediction System!**\n",
        "\n",
        "In this project, we want to analyze five cancer type and predict their outcome.\n",
        "*   Diabetes\n",
        "*   Liver Disease\n",
        "*   Breast Cancer\n",
        "*   Heart Disease\n",
        "*   Chronic Kidney Disease\n",
        "\n",
        "Then, we want to predict what drug to assign for patients with certain data.\n",
        "\n",
        "*   Drug Treatment\n",
        "\n",
        "\n"
      ]
    },
    {
      "cell_type": "code",
      "execution_count": null,
      "metadata": {
        "colab": {
          "background_save": true
        },
        "id": "xOuB7IU6Hpb9",
        "outputId": "e820dd1b-4a2b-46e7-89df-70e629f8333f"
      },
      "outputs": [
        {
          "name": "stdout",
          "output_type": "stream",
          "text": [
            "Required packages are installed!\n"
          ]
        }
      ],
      "source": [
        "#import some modules we need.\n",
        "import pandas as pd\n",
        "import numpy as np\n",
        "import matplotlib.pyplot as plt\n",
        "import seaborn as sns\n",
        "print('Required packages are installed!')"
      ]
    },
    {
      "cell_type": "code",
      "execution_count": null,
      "metadata": {
        "colab": {
          "background_save": true
        },
        "id": "0U22rEGbRHQm"
      },
      "outputs": [],
      "source": [
        "#import all the data\n",
        "df_Diabetes= pd.read_csv('Diabetes.csv')\n",
        "df_Liver_Disease = pd.read_csv('Liver Disease.csv')\n",
        "df_Breast_Cancer = pd.read_csv('Breast Cancer.csv')\n",
        "df_Heart_Disease = pd.read_csv('Heart Disease.csv')\n",
        "df_CKD = pd.read_csv('Chronic Kidney Disease.csv')\n",
        "df_Drug = pd.read_csv('Drug Treatment.csv')"
      ]
    },
    {
      "cell_type": "markdown",
      "metadata": {
        "id": "ZzvkA7N_lvlD"
      },
      "source": [
        "# **🧋 Diabetes Dataset**"
      ]
    },
    {
      "cell_type": "code",
      "execution_count": null,
      "metadata": {
        "colab": {
          "background_save": true
        },
        "id": "0Pf56_CaRbMD",
        "outputId": "c276f776-8493-4855-ce7b-fc419550b7e2"
      },
      "outputs": [
        {
          "data": {
            "application/vnd.google.colaboratory.intrinsic+json": {
              "summary": "{\n  \"name\": \"df_Diabetes\",\n  \"rows\": 768,\n  \"fields\": [\n    {\n      \"column\": \"Pregnancies\",\n      \"properties\": {\n        \"dtype\": \"number\",\n        \"std\": 3,\n        \"min\": 0,\n        \"max\": 17,\n        \"samples\": [\n          6,\n          1,\n          3\n        ],\n        \"num_unique_values\": 17,\n        \"semantic_type\": \"\",\n        \"description\": \"\"\n      }\n    },\n    {\n      \"column\": \"Glucose\",\n      \"properties\": {\n        \"dtype\": \"number\",\n        \"std\": 31,\n        \"min\": 0,\n        \"max\": 199,\n        \"samples\": [\n          151,\n          101,\n          112\n        ],\n        \"num_unique_values\": 136,\n        \"semantic_type\": \"\",\n        \"description\": \"\"\n      }\n    },\n    {\n      \"column\": \"BloodPressure\",\n      \"properties\": {\n        \"dtype\": \"number\",\n        \"std\": 19,\n        \"min\": 0,\n        \"max\": 122,\n        \"samples\": [\n          86,\n          46,\n          85\n        ],\n        \"num_unique_values\": 47,\n        \"semantic_type\": \"\",\n        \"description\": \"\"\n      }\n    },\n    {\n      \"column\": \"SkinThickness\",\n      \"properties\": {\n        \"dtype\": \"number\",\n        \"std\": 15,\n        \"min\": 0,\n        \"max\": 99,\n        \"samples\": [\n          7,\n          12,\n          48\n        ],\n        \"num_unique_values\": 51,\n        \"semantic_type\": \"\",\n        \"description\": \"\"\n      }\n    },\n    {\n      \"column\": \"Insulin\",\n      \"properties\": {\n        \"dtype\": \"number\",\n        \"std\": 115,\n        \"min\": 0,\n        \"max\": 846,\n        \"samples\": [\n          52,\n          41,\n          183\n        ],\n        \"num_unique_values\": 186,\n        \"semantic_type\": \"\",\n        \"description\": \"\"\n      }\n    },\n    {\n      \"column\": \"BMI\",\n      \"properties\": {\n        \"dtype\": \"number\",\n        \"std\": 7.884160320375446,\n        \"min\": 0.0,\n        \"max\": 67.1,\n        \"samples\": [\n          19.9,\n          31.0,\n          38.1\n        ],\n        \"num_unique_values\": 248,\n        \"semantic_type\": \"\",\n        \"description\": \"\"\n      }\n    },\n    {\n      \"column\": \"DiabetesPedigreeFunction\",\n      \"properties\": {\n        \"dtype\": \"number\",\n        \"std\": 0.3313285950127749,\n        \"min\": 0.078,\n        \"max\": 2.42,\n        \"samples\": [\n          1.731,\n          0.426,\n          0.138\n        ],\n        \"num_unique_values\": 517,\n        \"semantic_type\": \"\",\n        \"description\": \"\"\n      }\n    },\n    {\n      \"column\": \"Age\",\n      \"properties\": {\n        \"dtype\": \"number\",\n        \"std\": 11,\n        \"min\": 21,\n        \"max\": 81,\n        \"samples\": [\n          60,\n          47,\n          72\n        ],\n        \"num_unique_values\": 52,\n        \"semantic_type\": \"\",\n        \"description\": \"\"\n      }\n    },\n    {\n      \"column\": \"Outcome\",\n      \"properties\": {\n        \"dtype\": \"number\",\n        \"std\": 0,\n        \"min\": 0,\n        \"max\": 1,\n        \"samples\": [\n          0,\n          1\n        ],\n        \"num_unique_values\": 2,\n        \"semantic_type\": \"\",\n        \"description\": \"\"\n      }\n    }\n  ]\n}",
              "type": "dataframe",
              "variable_name": "df_Diabetes"
            },
            "text/html": [
              "\n",
              "  <div id=\"df-31a41a8a-d3e8-40f0-9f90-c5c9154da010\" class=\"colab-df-container\">\n",
              "    <div>\n",
              "<style scoped>\n",
              "    .dataframe tbody tr th:only-of-type {\n",
              "        vertical-align: middle;\n",
              "    }\n",
              "\n",
              "    .dataframe tbody tr th {\n",
              "        vertical-align: top;\n",
              "    }\n",
              "\n",
              "    .dataframe thead th {\n",
              "        text-align: right;\n",
              "    }\n",
              "</style>\n",
              "<table border=\"1\" class=\"dataframe\">\n",
              "  <thead>\n",
              "    <tr style=\"text-align: right;\">\n",
              "      <th></th>\n",
              "      <th>Pregnancies</th>\n",
              "      <th>Glucose</th>\n",
              "      <th>BloodPressure</th>\n",
              "      <th>SkinThickness</th>\n",
              "      <th>Insulin</th>\n",
              "      <th>BMI</th>\n",
              "      <th>DiabetesPedigreeFunction</th>\n",
              "      <th>Age</th>\n",
              "      <th>Outcome</th>\n",
              "    </tr>\n",
              "  </thead>\n",
              "  <tbody>\n",
              "    <tr>\n",
              "      <th>0</th>\n",
              "      <td>6</td>\n",
              "      <td>148</td>\n",
              "      <td>72</td>\n",
              "      <td>35</td>\n",
              "      <td>0</td>\n",
              "      <td>33.6</td>\n",
              "      <td>0.627</td>\n",
              "      <td>50</td>\n",
              "      <td>1</td>\n",
              "    </tr>\n",
              "    <tr>\n",
              "      <th>1</th>\n",
              "      <td>1</td>\n",
              "      <td>85</td>\n",
              "      <td>66</td>\n",
              "      <td>29</td>\n",
              "      <td>0</td>\n",
              "      <td>26.6</td>\n",
              "      <td>0.351</td>\n",
              "      <td>31</td>\n",
              "      <td>0</td>\n",
              "    </tr>\n",
              "    <tr>\n",
              "      <th>2</th>\n",
              "      <td>8</td>\n",
              "      <td>183</td>\n",
              "      <td>64</td>\n",
              "      <td>0</td>\n",
              "      <td>0</td>\n",
              "      <td>23.3</td>\n",
              "      <td>0.672</td>\n",
              "      <td>32</td>\n",
              "      <td>1</td>\n",
              "    </tr>\n",
              "    <tr>\n",
              "      <th>3</th>\n",
              "      <td>1</td>\n",
              "      <td>89</td>\n",
              "      <td>66</td>\n",
              "      <td>23</td>\n",
              "      <td>94</td>\n",
              "      <td>28.1</td>\n",
              "      <td>0.167</td>\n",
              "      <td>21</td>\n",
              "      <td>0</td>\n",
              "    </tr>\n",
              "    <tr>\n",
              "      <th>4</th>\n",
              "      <td>0</td>\n",
              "      <td>137</td>\n",
              "      <td>40</td>\n",
              "      <td>35</td>\n",
              "      <td>168</td>\n",
              "      <td>43.1</td>\n",
              "      <td>2.288</td>\n",
              "      <td>33</td>\n",
              "      <td>1</td>\n",
              "    </tr>\n",
              "  </tbody>\n",
              "</table>\n",
              "</div>\n",
              "    <div class=\"colab-df-buttons\">\n",
              "\n",
              "  <div class=\"colab-df-container\">\n",
              "    <button class=\"colab-df-convert\" onclick=\"convertToInteractive('df-31a41a8a-d3e8-40f0-9f90-c5c9154da010')\"\n",
              "            title=\"Convert this dataframe to an interactive table.\"\n",
              "            style=\"display:none;\">\n",
              "\n",
              "  <svg xmlns=\"http://www.w3.org/2000/svg\" height=\"24px\" viewBox=\"0 -960 960 960\">\n",
              "    <path d=\"M120-120v-720h720v720H120Zm60-500h600v-160H180v160Zm220 220h160v-160H400v160Zm0 220h160v-160H400v160ZM180-400h160v-160H180v160Zm440 0h160v-160H620v160ZM180-180h160v-160H180v160Zm440 0h160v-160H620v160Z\"/>\n",
              "  </svg>\n",
              "    </button>\n",
              "\n",
              "  <style>\n",
              "    .colab-df-container {\n",
              "      display:flex;\n",
              "      gap: 12px;\n",
              "    }\n",
              "\n",
              "    .colab-df-convert {\n",
              "      background-color: #E8F0FE;\n",
              "      border: none;\n",
              "      border-radius: 50%;\n",
              "      cursor: pointer;\n",
              "      display: none;\n",
              "      fill: #1967D2;\n",
              "      height: 32px;\n",
              "      padding: 0 0 0 0;\n",
              "      width: 32px;\n",
              "    }\n",
              "\n",
              "    .colab-df-convert:hover {\n",
              "      background-color: #E2EBFA;\n",
              "      box-shadow: 0px 1px 2px rgba(60, 64, 67, 0.3), 0px 1px 3px 1px rgba(60, 64, 67, 0.15);\n",
              "      fill: #174EA6;\n",
              "    }\n",
              "\n",
              "    .colab-df-buttons div {\n",
              "      margin-bottom: 4px;\n",
              "    }\n",
              "\n",
              "    [theme=dark] .colab-df-convert {\n",
              "      background-color: #3B4455;\n",
              "      fill: #D2E3FC;\n",
              "    }\n",
              "\n",
              "    [theme=dark] .colab-df-convert:hover {\n",
              "      background-color: #434B5C;\n",
              "      box-shadow: 0px 1px 3px 1px rgba(0, 0, 0, 0.15);\n",
              "      filter: drop-shadow(0px 1px 2px rgba(0, 0, 0, 0.3));\n",
              "      fill: #FFFFFF;\n",
              "    }\n",
              "  </style>\n",
              "\n",
              "    <script>\n",
              "      const buttonEl =\n",
              "        document.querySelector('#df-31a41a8a-d3e8-40f0-9f90-c5c9154da010 button.colab-df-convert');\n",
              "      buttonEl.style.display =\n",
              "        google.colab.kernel.accessAllowed ? 'block' : 'none';\n",
              "\n",
              "      async function convertToInteractive(key) {\n",
              "        const element = document.querySelector('#df-31a41a8a-d3e8-40f0-9f90-c5c9154da010');\n",
              "        const dataTable =\n",
              "          await google.colab.kernel.invokeFunction('convertToInteractive',\n",
              "                                                    [key], {});\n",
              "        if (!dataTable) return;\n",
              "\n",
              "        const docLinkHtml = 'Like what you see? Visit the ' +\n",
              "          '<a target=\"_blank\" href=https://colab.research.google.com/notebooks/data_table.ipynb>data table notebook</a>'\n",
              "          + ' to learn more about interactive tables.';\n",
              "        element.innerHTML = '';\n",
              "        dataTable['output_type'] = 'display_data';\n",
              "        await google.colab.output.renderOutput(dataTable, element);\n",
              "        const docLink = document.createElement('div');\n",
              "        docLink.innerHTML = docLinkHtml;\n",
              "        element.appendChild(docLink);\n",
              "      }\n",
              "    </script>\n",
              "  </div>\n",
              "\n",
              "\n",
              "<div id=\"df-e1543058-3fd9-4926-8c1f-58b7d1fafe50\">\n",
              "  <button class=\"colab-df-quickchart\" onclick=\"quickchart('df-e1543058-3fd9-4926-8c1f-58b7d1fafe50')\"\n",
              "            title=\"Suggest charts\"\n",
              "            style=\"display:none;\">\n",
              "\n",
              "<svg xmlns=\"http://www.w3.org/2000/svg\" height=\"24px\"viewBox=\"0 0 24 24\"\n",
              "     width=\"24px\">\n",
              "    <g>\n",
              "        <path d=\"M19 3H5c-1.1 0-2 .9-2 2v14c0 1.1.9 2 2 2h14c1.1 0 2-.9 2-2V5c0-1.1-.9-2-2-2zM9 17H7v-7h2v7zm4 0h-2V7h2v10zm4 0h-2v-4h2v4z\"/>\n",
              "    </g>\n",
              "</svg>\n",
              "  </button>\n",
              "\n",
              "<style>\n",
              "  .colab-df-quickchart {\n",
              "      --bg-color: #E8F0FE;\n",
              "      --fill-color: #1967D2;\n",
              "      --hover-bg-color: #E2EBFA;\n",
              "      --hover-fill-color: #174EA6;\n",
              "      --disabled-fill-color: #AAA;\n",
              "      --disabled-bg-color: #DDD;\n",
              "  }\n",
              "\n",
              "  [theme=dark] .colab-df-quickchart {\n",
              "      --bg-color: #3B4455;\n",
              "      --fill-color: #D2E3FC;\n",
              "      --hover-bg-color: #434B5C;\n",
              "      --hover-fill-color: #FFFFFF;\n",
              "      --disabled-bg-color: #3B4455;\n",
              "      --disabled-fill-color: #666;\n",
              "  }\n",
              "\n",
              "  .colab-df-quickchart {\n",
              "    background-color: var(--bg-color);\n",
              "    border: none;\n",
              "    border-radius: 50%;\n",
              "    cursor: pointer;\n",
              "    display: none;\n",
              "    fill: var(--fill-color);\n",
              "    height: 32px;\n",
              "    padding: 0;\n",
              "    width: 32px;\n",
              "  }\n",
              "\n",
              "  .colab-df-quickchart:hover {\n",
              "    background-color: var(--hover-bg-color);\n",
              "    box-shadow: 0 1px 2px rgba(60, 64, 67, 0.3), 0 1px 3px 1px rgba(60, 64, 67, 0.15);\n",
              "    fill: var(--button-hover-fill-color);\n",
              "  }\n",
              "\n",
              "  .colab-df-quickchart-complete:disabled,\n",
              "  .colab-df-quickchart-complete:disabled:hover {\n",
              "    background-color: var(--disabled-bg-color);\n",
              "    fill: var(--disabled-fill-color);\n",
              "    box-shadow: none;\n",
              "  }\n",
              "\n",
              "  .colab-df-spinner {\n",
              "    border: 2px solid var(--fill-color);\n",
              "    border-color: transparent;\n",
              "    border-bottom-color: var(--fill-color);\n",
              "    animation:\n",
              "      spin 1s steps(1) infinite;\n",
              "  }\n",
              "\n",
              "  @keyframes spin {\n",
              "    0% {\n",
              "      border-color: transparent;\n",
              "      border-bottom-color: var(--fill-color);\n",
              "      border-left-color: var(--fill-color);\n",
              "    }\n",
              "    20% {\n",
              "      border-color: transparent;\n",
              "      border-left-color: var(--fill-color);\n",
              "      border-top-color: var(--fill-color);\n",
              "    }\n",
              "    30% {\n",
              "      border-color: transparent;\n",
              "      border-left-color: var(--fill-color);\n",
              "      border-top-color: var(--fill-color);\n",
              "      border-right-color: var(--fill-color);\n",
              "    }\n",
              "    40% {\n",
              "      border-color: transparent;\n",
              "      border-right-color: var(--fill-color);\n",
              "      border-top-color: var(--fill-color);\n",
              "    }\n",
              "    60% {\n",
              "      border-color: transparent;\n",
              "      border-right-color: var(--fill-color);\n",
              "    }\n",
              "    80% {\n",
              "      border-color: transparent;\n",
              "      border-right-color: var(--fill-color);\n",
              "      border-bottom-color: var(--fill-color);\n",
              "    }\n",
              "    90% {\n",
              "      border-color: transparent;\n",
              "      border-bottom-color: var(--fill-color);\n",
              "    }\n",
              "  }\n",
              "</style>\n",
              "\n",
              "  <script>\n",
              "    async function quickchart(key) {\n",
              "      const quickchartButtonEl =\n",
              "        document.querySelector('#' + key + ' button');\n",
              "      quickchartButtonEl.disabled = true;  // To prevent multiple clicks.\n",
              "      quickchartButtonEl.classList.add('colab-df-spinner');\n",
              "      try {\n",
              "        const charts = await google.colab.kernel.invokeFunction(\n",
              "            'suggestCharts', [key], {});\n",
              "      } catch (error) {\n",
              "        console.error('Error during call to suggestCharts:', error);\n",
              "      }\n",
              "      quickchartButtonEl.classList.remove('colab-df-spinner');\n",
              "      quickchartButtonEl.classList.add('colab-df-quickchart-complete');\n",
              "    }\n",
              "    (() => {\n",
              "      let quickchartButtonEl =\n",
              "        document.querySelector('#df-e1543058-3fd9-4926-8c1f-58b7d1fafe50 button');\n",
              "      quickchartButtonEl.style.display =\n",
              "        google.colab.kernel.accessAllowed ? 'block' : 'none';\n",
              "    })();\n",
              "  </script>\n",
              "</div>\n",
              "\n",
              "    </div>\n",
              "  </div>\n"
            ],
            "text/plain": [
              "   Pregnancies  Glucose  BloodPressure  SkinThickness  Insulin   BMI  \\\n",
              "0            6      148             72             35        0  33.6   \n",
              "1            1       85             66             29        0  26.6   \n",
              "2            8      183             64              0        0  23.3   \n",
              "3            1       89             66             23       94  28.1   \n",
              "4            0      137             40             35      168  43.1   \n",
              "\n",
              "   DiabetesPedigreeFunction  Age  Outcome  \n",
              "0                     0.627   50        1  \n",
              "1                     0.351   31        0  \n",
              "2                     0.672   32        1  \n",
              "3                     0.167   21        0  \n",
              "4                     2.288   33        1  "
            ]
          },
          "execution_count": 1226,
          "metadata": {},
          "output_type": "execute_result"
        }
      ],
      "source": [
        "df_Diabetes.head()"
      ]
    },
    {
      "cell_type": "code",
      "execution_count": null,
      "metadata": {
        "colab": {
          "background_save": true
        },
        "id": "p6nWF25jRqU5",
        "outputId": "20d0665a-b927-4167-9866-a99d15e6b16e"
      },
      "outputs": [
        {
          "name": "stdout",
          "output_type": "stream",
          "text": [
            "<class 'pandas.core.frame.DataFrame'>\n",
            "RangeIndex: 768 entries, 0 to 767\n",
            "Data columns (total 9 columns):\n",
            " #   Column                    Non-Null Count  Dtype  \n",
            "---  ------                    --------------  -----  \n",
            " 0   Pregnancies               768 non-null    int64  \n",
            " 1   Glucose                   768 non-null    int64  \n",
            " 2   BloodPressure             768 non-null    int64  \n",
            " 3   SkinThickness             768 non-null    int64  \n",
            " 4   Insulin                   768 non-null    int64  \n",
            " 5   BMI                       768 non-null    float64\n",
            " 6   DiabetesPedigreeFunction  768 non-null    float64\n",
            " 7   Age                       768 non-null    int64  \n",
            " 8   Outcome                   768 non-null    int64  \n",
            "dtypes: float64(2), int64(7)\n",
            "memory usage: 54.1 KB\n"
          ]
        }
      ],
      "source": [
        "df_Diabetes.info()"
      ]
    },
    {
      "cell_type": "code",
      "execution_count": null,
      "metadata": {
        "colab": {
          "background_save": true
        },
        "id": "bZ2MgJx7RqW3",
        "outputId": "7da3e41a-cb1d-44d8-b701-733dabe0094b"
      },
      "outputs": [
        {
          "data": {
            "text/plain": [
              "Pregnancies                 0\n",
              "Glucose                     0\n",
              "BloodPressure               0\n",
              "SkinThickness               0\n",
              "Insulin                     0\n",
              "BMI                         0\n",
              "DiabetesPedigreeFunction    0\n",
              "Age                         0\n",
              "Outcome                     0\n",
              "dtype: int64"
            ]
          },
          "execution_count": 1230,
          "metadata": {},
          "output_type": "execute_result"
        }
      ],
      "source": [
        "df_Diabetes.isnull().sum()"
      ]
    },
    {
      "cell_type": "code",
      "execution_count": null,
      "metadata": {
        "colab": {
          "background_save": true
        },
        "id": "mRNJmTiXRqZE",
        "outputId": "fb112877-44fe-4fc2-e76f-262cbfb62bf5"
      },
      "outputs": [
        {
          "data": {
            "text/plain": [
              "(768, 9)"
            ]
          },
          "execution_count": 1232,
          "metadata": {},
          "output_type": "execute_result"
        }
      ],
      "source": [
        "df_Diabetes.shape"
      ]
    },
    {
      "cell_type": "code",
      "execution_count": null,
      "metadata": {
        "colab": {
          "background_save": true
        },
        "id": "joNK23ygRqc6",
        "outputId": "920b7b8c-bdeb-466d-f293-43e7336cff75"
      },
      "outputs": [
        {
          "name": "stdout",
          "output_type": "stream",
          "text": [
            "No. of patients diagnosed with Diabetes:  268\n",
            "No. of patients not diagnosed with Diabetes:  500\n"
          ]
        },
        {
          "data": {
            "image/png": "[encoded data removed]",
            "text/plain": [
              "<Figure size 400x300 with 1 Axes>"
            ]
          },
          "metadata": {},
          "output_type": "display_data"
        }
      ],
      "source": [
        "plt.figure(figsize = (4,3))\n",
        "sns.countplot(x=df_Diabetes.Outcome)\n",
        "NDB, DB  = df_Diabetes.Outcome.value_counts()\n",
        "print('No. of patients diagnosed with Diabetes: ', DB)\n",
        "print('No. of patients not diagnosed with Diabetes: ', NDB)"
      ]
    },
    {
      "cell_type": "markdown",
      "metadata": {
        "id": "HoEeOU7AprNp"
      },
      "source": [
        "Seperate the columns into numeric and categorical."
      ]
    },
    {
      "cell_type": "code",
      "execution_count": null,
      "metadata": {
        "colab": {
          "background_save": true
        },
        "id": "e_VfVJOk-0J5"
      },
      "outputs": [],
      "source": [
        "Diabetes_num = ['Glucose', 'BloodPressure', 'SkinThickness', 'Insulin',\n",
        "       'BMI', 'DiabetesPedigreeFunction', 'Age']\n",
        "Diabetes_cat = ['Pregnancies','Outcome']"
      ]
    },
    {
      "cell_type": "markdown",
      "metadata": {
        "id": "_p_X3sxnny6d"
      },
      "source": [
        "For numeric data, we want to see if there is skew and outliner we should keep in mind."
      ]
    },
    {
      "cell_type": "code",
      "execution_count": null,
      "metadata": {
        "colab": {
          "background_save": true
        },
        "id": "GwWDobJRWz_g",
        "outputId": "e400c079-d2e2-4854-ddf0-68ff7322b69d"
      },
      "outputs": [
        {
          "data": {
            "application/vnd.google.colaboratory.intrinsic+json": {
              "summary": "{\n  \"name\": \"df_Diabetes\",\n  \"rows\": 8,\n  \"fields\": [\n    {\n      \"column\": \"Pregnancies\",\n      \"properties\": {\n        \"dtype\": \"number\",\n        \"std\": 269.85223453356366,\n        \"min\": 0.0,\n        \"max\": 768.0,\n        \"samples\": [\n          3.8450520833333335,\n          3.0,\n          768.0\n        ],\n        \"num_unique_values\": 8,\n        \"semantic_type\": \"\",\n        \"description\": \"\"\n      }\n    },\n    {\n      \"column\": \"Glucose\",\n      \"properties\": {\n        \"dtype\": \"number\",\n        \"std\": 243.73802348295857,\n        \"min\": 0.0,\n        \"max\": 768.0,\n        \"samples\": [\n          120.89453125,\n          117.0,\n          768.0\n        ],\n        \"num_unique_values\": 8,\n        \"semantic_type\": \"\",\n        \"description\": \"\"\n      }\n    },\n    {\n      \"column\": \"BloodPressure\",\n      \"properties\": {\n        \"dtype\": \"number\",\n        \"std\": 252.8525053581062,\n        \"min\": 0.0,\n        \"max\": 768.0,\n        \"samples\": [\n          69.10546875,\n          72.0,\n          768.0\n        ],\n        \"num_unique_values\": 8,\n        \"semantic_type\": \"\",\n        \"description\": \"\"\n      }\n    },\n    {\n      \"column\": \"SkinThickness\",\n      \"properties\": {\n        \"dtype\": \"number\",\n        \"std\": 263.7684730531098,\n        \"min\": 0.0,\n        \"max\": 768.0,\n        \"samples\": [\n          768.0,\n          20.536458333333332,\n          32.0\n        ],\n        \"num_unique_values\": 7,\n        \"semantic_type\": \"\",\n        \"description\": \"\"\n      }\n    },\n    {\n      \"column\": \"Insulin\",\n      \"properties\": {\n        \"dtype\": \"number\",\n        \"std\": 350.26059167945886,\n        \"min\": 0.0,\n        \"max\": 846.0,\n        \"samples\": [\n          768.0,\n          79.79947916666667,\n          127.25\n        ],\n        \"num_unique_values\": 7,\n        \"semantic_type\": \"\",\n        \"description\": \"\"\n      }\n    },\n    {\n      \"column\": \"BMI\",\n      \"properties\": {\n        \"dtype\": \"number\",\n        \"std\": 262.05117817552093,\n        \"min\": 0.0,\n        \"max\": 768.0,\n        \"samples\": [\n          31.992578124999998,\n          32.0,\n          768.0\n        ],\n        \"num_unique_values\": 8,\n        \"semantic_type\": \"\",\n        \"description\": \"\"\n      }\n    },\n    {\n      \"column\": \"DiabetesPedigreeFunction\",\n      \"properties\": {\n        \"dtype\": \"number\",\n        \"std\": 271.3005221658502,\n        \"min\": 0.078,\n        \"max\": 768.0,\n        \"samples\": [\n          0.47187630208333325,\n          0.3725,\n          768.0\n        ],\n        \"num_unique_values\": 8,\n        \"semantic_type\": \"\",\n        \"description\": \"\"\n      }\n    },\n    {\n      \"column\": \"Age\",\n      \"properties\": {\n        \"dtype\": \"number\",\n        \"std\": 260.1941178528413,\n        \"min\": 11.760231540678685,\n        \"max\": 768.0,\n        \"samples\": [\n          33.240885416666664,\n          29.0,\n          768.0\n        ],\n        \"num_unique_values\": 8,\n        \"semantic_type\": \"\",\n        \"description\": \"\"\n      }\n    },\n    {\n      \"column\": \"Outcome\",\n      \"properties\": {\n        \"dtype\": \"number\",\n        \"std\": 271.3865920388932,\n        \"min\": 0.0,\n        \"max\": 768.0,\n        \"samples\": [\n          0.3489583333333333,\n          1.0,\n          0.47695137724279896\n        ],\n        \"num_unique_values\": 5,\n        \"semantic_type\": \"\",\n        \"description\": \"\"\n      }\n    }\n  ]\n}",
              "type": "dataframe"
            },
            "text/html": [
              "\n",
              "  <div id=\"df-37068448-3e07-4b12-b2e4-90a0d4dbbceb\" class=\"colab-df-container\">\n",
              "    <div>\n",
              "<style scoped>\n",
              "    .dataframe tbody tr th:only-of-type {\n",
              "        vertical-align: middle;\n",
              "    }\n",
              "\n",
              "    .dataframe tbody tr th {\n",
              "        vertical-align: top;\n",
              "    }\n",
              "\n",
              "    .dataframe thead th {\n",
              "        text-align: right;\n",
              "    }\n",
              "</style>\n",
              "<table border=\"1\" class=\"dataframe\">\n",
              "  <thead>\n",
              "    <tr style=\"text-align: right;\">\n",
              "      <th></th>\n",
              "      <th>Pregnancies</th>\n",
              "      <th>Glucose</th>\n",
              "      <th>BloodPressure</th>\n",
              "      <th>SkinThickness</th>\n",
              "      <th>Insulin</th>\n",
              "      <th>BMI</th>\n",
              "      <th>DiabetesPedigreeFunction</th>\n",
              "      <th>Age</th>\n",
              "      <th>Outcome</th>\n",
              "    </tr>\n",
              "  </thead>\n",
              "  <tbody>\n",
              "    <tr>\n",
              "      <th>count</th>\n",
              "      <td>768.000000</td>\n",
              "      <td>768.000000</td>\n",
              "      <td>768.000000</td>\n",
              "      <td>768.000000</td>\n",
              "      <td>768.000000</td>\n",
              "      <td>768.000000</td>\n",
              "      <td>768.000000</td>\n",
              "      <td>768.000000</td>\n",
              "      <td>768.000000</td>\n",
              "    </tr>\n",
              "    <tr>\n",
              "      <th>mean</th>\n",
              "      <td>3.845052</td>\n",
              "      <td>120.894531</td>\n",
              "      <td>69.105469</td>\n",
              "      <td>20.536458</td>\n",
              "      <td>79.799479</td>\n",
              "      <td>31.992578</td>\n",
              "      <td>0.471876</td>\n",
              "      <td>33.240885</td>\n",
              "      <td>0.348958</td>\n",
              "    </tr>\n",
              "    <tr>\n",
              "      <th>std</th>\n",
              "      <td>3.369578</td>\n",
              "      <td>31.972618</td>\n",
              "      <td>19.355807</td>\n",
              "      <td>15.952218</td>\n",
              "      <td>115.244002</td>\n",
              "      <td>7.884160</td>\n",
              "      <td>0.331329</td>\n",
              "      <td>11.760232</td>\n",
              "      <td>0.476951</td>\n",
              "    </tr>\n",
              "    <tr>\n",
              "      <th>min</th>\n",
              "      <td>0.000000</td>\n",
              "      <td>0.000000</td>\n",
              "      <td>0.000000</td>\n",
              "      <td>0.000000</td>\n",
              "      <td>0.000000</td>\n",
              "      <td>0.000000</td>\n",
              "      <td>0.078000</td>\n",
              "      <td>21.000000</td>\n",
              "      <td>0.000000</td>\n",
              "    </tr>\n",
              "    <tr>\n",
              "      <th>25%</th>\n",
              "      <td>1.000000</td>\n",
              "      <td>99.000000</td>\n",
              "      <td>62.000000</td>\n",
              "      <td>0.000000</td>\n",
              "      <td>0.000000</td>\n",
              "      <td>27.300000</td>\n",
              "      <td>0.243750</td>\n",
              "      <td>24.000000</td>\n",
              "      <td>0.000000</td>\n",
              "    </tr>\n",
              "    <tr>\n",
              "      <th>50%</th>\n",
              "      <td>3.000000</td>\n",
              "      <td>117.000000</td>\n",
              "      <td>72.000000</td>\n",
              "      <td>23.000000</td>\n",
              "      <td>30.500000</td>\n",
              "      <td>32.000000</td>\n",
              "      <td>0.372500</td>\n",
              "      <td>29.000000</td>\n",
              "      <td>0.000000</td>\n",
              "    </tr>\n",
              "    <tr>\n",
              "      <th>75%</th>\n",
              "      <td>6.000000</td>\n",
              "      <td>140.250000</td>\n",
              "      <td>80.000000</td>\n",
              "      <td>32.000000</td>\n",
              "      <td>127.250000</td>\n",
              "      <td>36.600000</td>\n",
              "      <td>0.626250</td>\n",
              "      <td>41.000000</td>\n",
              "      <td>1.000000</td>\n",
              "    </tr>\n",
              "    <tr>\n",
              "      <th>max</th>\n",
              "      <td>17.000000</td>\n",
              "      <td>199.000000</td>\n",
              "      <td>122.000000</td>\n",
              "      <td>99.000000</td>\n",
              "      <td>846.000000</td>\n",
              "      <td>67.100000</td>\n",
              "      <td>2.420000</td>\n",
              "      <td>81.000000</td>\n",
              "      <td>1.000000</td>\n",
              "    </tr>\n",
              "  </tbody>\n",
              "</table>\n",
              "</div>\n",
              "    <div class=\"colab-df-buttons\">\n",
              "\n",
              "  <div class=\"colab-df-container\">\n",
              "    <button class=\"colab-df-convert\" onclick=\"convertToInteractive('df-37068448-3e07-4b12-b2e4-90a0d4dbbceb')\"\n",
              "            title=\"Convert this dataframe to an interactive table.\"\n",
              "            style=\"display:none;\">\n",
              "\n",
              "  <svg xmlns=\"http://www.w3.org/2000/svg\" height=\"24px\" viewBox=\"0 -960 960 960\">\n",
              "    <path d=\"M120-120v-720h720v720H120Zm60-500h600v-160H180v160Zm220 220h160v-160H400v160Zm0 220h160v-160H400v160ZM180-400h160v-160H180v160Zm440 0h160v-160H620v160ZM180-180h160v-160H180v160Zm440 0h160v-160H620v160Z\"/>\n",
              "  </svg>\n",
              "    </button>\n",
              "\n",
              "  <style>\n",
              "    .colab-df-container {\n",
              "      display:flex;\n",
              "      gap: 12px;\n",
              "    }\n",
              "\n",
              "    .colab-df-convert {\n",
              "      background-color: #E8F0FE;\n",
              "      border: none;\n",
              "      border-radius: 50%;\n",
              "      cursor: pointer;\n",
              "      display: none;\n",
              "      fill: #1967D2;\n",
              "      height: 32px;\n",
              "      padding: 0 0 0 0;\n",
              "      width: 32px;\n",
              "    }\n",
              "\n",
              "    .colab-df-convert:hover {\n",
              "      background-color: #E2EBFA;\n",
              "      box-shadow: 0px 1px 2px rgba(60, 64, 67, 0.3), 0px 1px 3px 1px rgba(60, 64, 67, 0.15);\n",
              "      fill: #174EA6;\n",
              "    }\n",
              "\n",
              "    .colab-df-buttons div {\n",
              "      margin-bottom: 4px;\n",
              "    }\n",
              "\n",
              "    [theme=dark] .colab-df-convert {\n",
              "      background-color: #3B4455;\n",
              "      fill: #D2E3FC;\n",
              "    }\n",
              "\n",
              "    [theme=dark] .colab-df-convert:hover {\n",
              "      background-color: #434B5C;\n",
              "      box-shadow: 0px 1px 3px 1px rgba(0, 0, 0, 0.15);\n",
              "      filter: drop-shadow(0px 1px 2px rgba(0, 0, 0, 0.3));\n",
              "      fill: #FFFFFF;\n",
              "    }\n",
              "  </style>\n",
              "\n",
              "    <script>\n",
              "      const buttonEl =\n",
              "        document.querySelector('#df-37068448-3e07-4b12-b2e4-90a0d4dbbceb button.colab-df-convert');\n",
              "      buttonEl.style.display =\n",
              "        google.colab.kernel.accessAllowed ? 'block' : 'none';\n",
              "\n",
              "      async function convertToInteractive(key) {\n",
              "        const element = document.querySelector('#df-37068448-3e07-4b12-b2e4-90a0d4dbbceb');\n",
              "        const dataTable =\n",
              "          await google.colab.kernel.invokeFunction('convertToInteractive',\n",
              "                                                    [key], {});\n",
              "        if (!dataTable) return;\n",
              "\n",
              "        const docLinkHtml = 'Like what you see? Visit the ' +\n",
              "          '<a target=\"_blank\" href=https://colab.research.google.com/notebooks/data_table.ipynb>data table notebook</a>'\n",
              "          + ' to learn more about interactive tables.';\n",
              "        element.innerHTML = '';\n",
              "        dataTable['output_type'] = 'display_data';\n",
              "        await google.colab.output.renderOutput(dataTable, element);\n",
              "        const docLink = document.createElement('div');\n",
              "        docLink.innerHTML = docLinkHtml;\n",
              "        element.appendChild(docLink);\n",
              "      }\n",
              "    </script>\n",
              "  </div>\n",
              "\n",
              "\n",
              "<div id=\"df-370518be-ada8-468e-85c2-92b0a613686b\">\n",
              "  <button class=\"colab-df-quickchart\" onclick=\"quickchart('df-370518be-ada8-468e-85c2-92b0a613686b')\"\n",
              "            title=\"Suggest charts\"\n",
              "            style=\"display:none;\">\n",
              "\n",
              "<svg xmlns=\"http://www.w3.org/2000/svg\" height=\"24px\"viewBox=\"0 0 24 24\"\n",
              "     width=\"24px\">\n",
              "    <g>\n",
              "        <path d=\"M19 3H5c-1.1 0-2 .9-2 2v14c0 1.1.9 2 2 2h14c1.1 0 2-.9 2-2V5c0-1.1-.9-2-2-2zM9 17H7v-7h2v7zm4 0h-2V7h2v10zm4 0h-2v-4h2v4z\"/>\n",
              "    </g>\n",
              "</svg>\n",
              "  </button>\n",
              "\n",
              "<style>\n",
              "  .colab-df-quickchart {\n",
              "      --bg-color: #E8F0FE;\n",
              "      --fill-color: #1967D2;\n",
              "      --hover-bg-color: #E2EBFA;\n",
              "      --hover-fill-color: #174EA6;\n",
              "      --disabled-fill-color: #AAA;\n",
              "      --disabled-bg-color: #DDD;\n",
              "  }\n",
              "\n",
              "  [theme=dark] .colab-df-quickchart {\n",
              "      --bg-color: #3B4455;\n",
              "      --fill-color: #D2E3FC;\n",
              "      --hover-bg-color: #434B5C;\n",
              "      --hover-fill-color: #FFFFFF;\n",
              "      --disabled-bg-color: #3B4455;\n",
              "      --disabled-fill-color: #666;\n",
              "  }\n",
              "\n",
              "  .colab-df-quickchart {\n",
              "    background-color: var(--bg-color);\n",
              "    border: none;\n",
              "    border-radius: 50%;\n",
              "    cursor: pointer;\n",
              "    display: none;\n",
              "    fill: var(--fill-color);\n",
              "    height: 32px;\n",
              "    padding: 0;\n",
              "    width: 32px;\n",
              "  }\n",
              "\n",
              "  .colab-df-quickchart:hover {\n",
              "    background-color: var(--hover-bg-color);\n",
              "    box-shadow: 0 1px 2px rgba(60, 64, 67, 0.3), 0 1px 3px 1px rgba(60, 64, 67, 0.15);\n",
              "    fill: var(--button-hover-fill-color);\n",
              "  }\n",
              "\n",
              "  .colab-df-quickchart-complete:disabled,\n",
              "  .colab-df-quickchart-complete:disabled:hover {\n",
              "    background-color: var(--disabled-bg-color);\n",
              "    fill: var(--disabled-fill-color);\n",
              "    box-shadow: none;\n",
              "  }\n",
              "\n",
              "  .colab-df-spinner {\n",
              "    border: 2px solid var(--fill-color);\n",
              "    border-color: transparent;\n",
              "    border-bottom-color: var(--fill-color);\n",
              "    animation:\n",
              "      spin 1s steps(1) infinite;\n",
              "  }\n",
              "\n",
              "  @keyframes spin {\n",
              "    0% {\n",
              "      border-color: transparent;\n",
              "      border-bottom-color: var(--fill-color);\n",
              "      border-left-color: var(--fill-color);\n",
              "    }\n",
              "    20% {\n",
              "      border-color: transparent;\n",
              "      border-left-color: var(--fill-color);\n",
              "      border-top-color: var(--fill-color);\n",
              "    }\n",
              "    30% {\n",
              "      border-color: transparent;\n",
              "      border-left-color: var(--fill-color);\n",
              "      border-top-color: var(--fill-color);\n",
              "      border-right-color: var(--fill-color);\n",
              "    }\n",
              "    40% {\n",
              "      border-color: transparent;\n",
              "      border-right-color: var(--fill-color);\n",
              "      border-top-color: var(--fill-color);\n",
              "    }\n",
              "    60% {\n",
              "      border-color: transparent;\n",
              "      border-right-color: var(--fill-color);\n",
              "    }\n",
              "    80% {\n",
              "      border-color: transparent;\n",
              "      border-right-color: var(--fill-color);\n",
              "      border-bottom-color: var(--fill-color);\n",
              "    }\n",
              "    90% {\n",
              "      border-color: transparent;\n",
              "      border-bottom-color: var(--fill-color);\n",
              "    }\n",
              "  }\n",
              "</style>\n",
              "\n",
              "  <script>\n",
              "    async function quickchart(key) {\n",
              "      const quickchartButtonEl =\n",
              "        document.querySelector('#' + key + ' button');\n",
              "      quickchartButtonEl.disabled = true;  // To prevent multiple clicks.\n",
              "      quickchartButtonEl.classList.add('colab-df-spinner');\n",
              "      try {\n",
              "        const charts = await google.colab.kernel.invokeFunction(\n",
              "            'suggestCharts', [key], {});\n",
              "      } catch (error) {\n",
              "        console.error('Error during call to suggestCharts:', error);\n",
              "      }\n",
              "      quickchartButtonEl.classList.remove('colab-df-spinner');\n",
              "      quickchartButtonEl.classList.add('colab-df-quickchart-complete');\n",
              "    }\n",
              "    (() => {\n",
              "      let quickchartButtonEl =\n",
              "        document.querySelector('#df-370518be-ada8-468e-85c2-92b0a613686b button');\n",
              "      quickchartButtonEl.style.display =\n",
              "        google.colab.kernel.accessAllowed ? 'block' : 'none';\n",
              "    })();\n",
              "  </script>\n",
              "</div>\n",
              "\n",
              "    </div>\n",
              "  </div>\n"
            ],
            "text/plain": [
              "       Pregnancies     Glucose  BloodPressure  SkinThickness     Insulin  \\\n",
              "count   768.000000  768.000000     768.000000     768.000000  768.000000   \n",
              "mean      3.845052  120.894531      69.105469      20.536458   79.799479   \n",
              "std       3.369578   31.972618      19.355807      15.952218  115.244002   \n",
              "min       0.000000    0.000000       0.000000       0.000000    0.000000   \n",
              "25%       1.000000   99.000000      62.000000       0.000000    0.000000   \n",
              "50%       3.000000  117.000000      72.000000      23.000000   30.500000   \n",
              "75%       6.000000  140.250000      80.000000      32.000000  127.250000   \n",
              "max      17.000000  199.000000     122.000000      99.000000  846.000000   \n",
              "\n",
              "              BMI  DiabetesPedigreeFunction         Age     Outcome  \n",
              "count  768.000000                768.000000  768.000000  768.000000  \n",
              "mean    31.992578                  0.471876   33.240885    0.348958  \n",
              "std      7.884160                  0.331329   11.760232    0.476951  \n",
              "min      0.000000                  0.078000   21.000000    0.000000  \n",
              "25%     27.300000                  0.243750   24.000000    0.000000  \n",
              "50%     32.000000                  0.372500   29.000000    0.000000  \n",
              "75%     36.600000                  0.626250   41.000000    1.000000  \n",
              "max     67.100000                  2.420000   81.000000    1.000000  "
            ]
          },
          "execution_count": 1238,
          "metadata": {},
          "output_type": "execute_result"
        }
      ],
      "source": [
        "df_Diabetes.describe()"
      ]
    },
    {
      "cell_type": "code",
      "execution_count": null,
      "metadata": {
        "colab": {
          "background_save": true
        },
        "id": "9lheWCL2RqhJ",
        "outputId": "41bda3cc-5eea-4d19-e808-fbbd70c1604c"
      },
      "outputs": [
        {
          "data": {
            "text/plain": [
              "<Axes: xlabel='Glucose', ylabel='Count'>"
            ]
          },
          "execution_count": 1240,
          "metadata": {},
          "output_type": "execute_result"
        },
        {
          "data": {
            "image/png": "[encoded data removed]",
            "text/plain": [
              "<Figure size 400x300 with 1 Axes>"
            ]
          },
          "metadata": {},
          "output_type": "display_data"
        }
      ],
      "source": [
        "plt.figure(figsize = (4,3))\n",
        "sns.histplot(df_Diabetes[Diabetes_num[0]])"
      ]
    },
    {
      "cell_type": "code",
      "execution_count": null,
      "metadata": {
        "colab": {
          "background_save": true
        },
        "id": "Qfv1IhmhWPxn",
        "outputId": "9d131384-7309-464d-eaca-f4b9a06b59aa"
      },
      "outputs": [
        {
          "data": {
            "text/plain": [
              "<Axes: ylabel='Glucose'>"
            ]
          },
          "execution_count": 1242,
          "metadata": {},
          "output_type": "execute_result"
        },
        {
          "data": {
            "image/png": "[encoded data removed]",
            "text/plain": [
              "<Figure size 400x300 with 1 Axes>"
            ]
          },
          "metadata": {},
          "output_type": "display_data"
        }
      ],
      "source": [
        "plt.figure(figsize = (4,3))\n",
        "sns.boxplot(df_Diabetes[Diabetes_num[0]])"
      ]
    },
    {
      "cell_type": "code",
      "execution_count": null,
      "metadata": {
        "colab": {
          "background_save": true
        },
        "id": "qoveHB-XUZoS",
        "outputId": "27425124-6a3d-4804-cff2-20e5b298a121"
      },
      "outputs": [
        {
          "data": {
            "text/plain": [
              "<Axes: xlabel='BloodPressure', ylabel='Count'>"
            ]
          },
          "execution_count": 1244,
          "metadata": {},
          "output_type": "execute_result"
        },
        {
          "data": {
            "image/png": "[encoded data removed]",
            "text/plain": [
              "<Figure size 400x300 with 1 Axes>"
            ]
          },
          "metadata": {},
          "output_type": "display_data"
        }
      ],
      "source": [
        "plt.figure(figsize = (4,3))\n",
        "sns.histplot(df_Diabetes[Diabetes_num[1]])"
      ]
    },
    {
      "cell_type": "code",
      "execution_count": null,
      "metadata": {
        "colab": {
          "background_save": true
        },
        "id": "M_UrnxzZUZqZ",
        "outputId": "c97e6fc3-329f-40ff-d52e-62a413d40f9d"
      },
      "outputs": [
        {
          "data": {
            "text/plain": [
              "<Axes: xlabel='SkinThickness', ylabel='Count'>"
            ]
          },
          "execution_count": 1246,
          "metadata": {},
          "output_type": "execute_result"
        },
        {
          "data": {
            "image/png": "[encoded data removed]",
            "text/plain": [
              "<Figure size 400x300 with 1 Axes>"
            ]
          },
          "metadata": {},
          "output_type": "display_data"
        }
      ],
      "source": [
        "plt.figure(figsize = (4,3))\n",
        "sns.histplot(df_Diabetes[Diabetes_num[2]])"
      ]
    },
    {
      "cell_type": "code",
      "execution_count": null,
      "metadata": {
        "colab": {
          "background_save": true
        },
        "id": "ympWJm8hUZsw",
        "outputId": "31a7887a-a8d7-4109-c41c-2a474a5f66c4"
      },
      "outputs": [
        {
          "data": {
            "text/plain": [
              "<Axes: xlabel='Insulin', ylabel='Count'>"
            ]
          },
          "execution_count": 1248,
          "metadata": {},
          "output_type": "execute_result"
        },
        {
          "data": {
            "image/png": "[encoded data removed]",
            "text/plain": [
              "<Figure size 400x300 with 1 Axes>"
            ]
          },
          "metadata": {},
          "output_type": "display_data"
        }
      ],
      "source": [
        "plt.figure(figsize = (4,3))\n",
        "sns.histplot(df_Diabetes[Diabetes_num[3]])"
      ]
    },
    {
      "cell_type": "code",
      "execution_count": null,
      "metadata": {
        "colab": {
          "background_save": true
        },
        "id": "0t7uLk1-WclC",
        "outputId": "150691ce-c423-4510-aa5c-785efe5192ff"
      },
      "outputs": [
        {
          "data": {
            "text/plain": [
              "<Axes: ylabel='Insulin'>"
            ]
          },
          "execution_count": 1250,
          "metadata": {},
          "output_type": "execute_result"
        },
        {
          "data": {
            "image/png": "[encoded data removed]",
            "text/plain": [
              "<Figure size 400x300 with 1 Axes>"
            ]
          },
          "metadata": {},
          "output_type": "display_data"
        }
      ],
      "source": [
        "plt.figure(figsize = (4,3))\n",
        "sns.boxplot(df_Diabetes[Diabetes_num[3]])"
      ]
    },
    {
      "cell_type": "code",
      "execution_count": null,
      "metadata": {
        "colab": {
          "background_save": true
        },
        "id": "naOTQ3myUZu2",
        "outputId": "4248bf00-2b53-4848-aadf-3ec8565db8e1"
      },
      "outputs": [
        {
          "data": {
            "text/plain": [
              "<Axes: xlabel='BMI', ylabel='Count'>"
            ]
          },
          "execution_count": 1252,
          "metadata": {},
          "output_type": "execute_result"
        },
        {
          "data": {
            "image/png": "[encoded data removed]",
            "text/plain": [
              "<Figure size 400x300 with 1 Axes>"
            ]
          },
          "metadata": {},
          "output_type": "display_data"
        }
      ],
      "source": [
        "plt.figure(figsize = (4,3))\n",
        "sns.histplot(df_Diabetes[Diabetes_num[4]])"
      ]
    },
    {
      "cell_type": "code",
      "execution_count": null,
      "metadata": {
        "colab": {
          "background_save": true
        },
        "id": "QG7W65HNUZwz",
        "outputId": "942f463a-5763-4f88-e74d-80e8a254026d"
      },
      "outputs": [
        {
          "data": {
            "text/plain": [
              "<Axes: xlabel='DiabetesPedigreeFunction', ylabel='Count'>"
            ]
          },
          "execution_count": 1254,
          "metadata": {},
          "output_type": "execute_result"
        },
        {
          "data": {
            "image/png": "[encoded data removed]",
            "text/plain": [
              "<Figure size 400x300 with 1 Axes>"
            ]
          },
          "metadata": {},
          "output_type": "display_data"
        }
      ],
      "source": [
        "plt.figure(figsize = (4,3))\n",
        "sns.histplot(df_Diabetes[Diabetes_num[5]])"
      ]
    },
    {
      "cell_type": "code",
      "execution_count": null,
      "metadata": {
        "colab": {
          "background_save": true
        },
        "id": "jtNlzH-xWhb6",
        "outputId": "cdeebf19-cc9a-47dc-9df2-7049866d3604"
      },
      "outputs": [
        {
          "data": {
            "text/plain": [
              "<Axes: ylabel='DiabetesPedigreeFunction'>"
            ]
          },
          "execution_count": 1256,
          "metadata": {},
          "output_type": "execute_result"
        },
        {
          "data": {
            "image/png": "[encoded data removed]",
            "text/plain": [
              "<Figure size 400x300 with 1 Axes>"
            ]
          },
          "metadata": {},
          "output_type": "display_data"
        }
      ],
      "source": [
        "plt.figure(figsize = (4,3))\n",
        "sns.boxplot(df_Diabetes[Diabetes_num[5]])"
      ]
    },
    {
      "cell_type": "code",
      "execution_count": null,
      "metadata": {
        "colab": {
          "background_save": true
        },
        "id": "CHJGAAJIUZyy",
        "outputId": "7e5e5b0e-9040-4387-d3f3-6077124378d8"
      },
      "outputs": [
        {
          "data": {
            "text/plain": [
              "<Axes: xlabel='Age', ylabel='Count'>"
            ]
          },
          "execution_count": 1258,
          "metadata": {},
          "output_type": "execute_result"
        },
        {
          "data": {
            "image/png": "[encoded data removed]",
            "text/plain": [
              "<Figure size 400x300 with 1 Axes>"
            ]
          },
          "metadata": {},
          "output_type": "display_data"
        }
      ],
      "source": [
        "plt.figure(figsize = (4,3))\n",
        "sns.histplot(df_Diabetes[Diabetes_num[6]])"
      ]
    },
    {
      "cell_type": "code",
      "execution_count": null,
      "metadata": {
        "colab": {
          "background_save": true
        },
        "id": "Xb4vbNvWRqjY",
        "outputId": "1fefd7e9-3213-428c-e8bb-3968d6f7e315"
      },
      "outputs": [
        {
          "data": {
            "text/plain": [
              "<Axes: ylabel='Age'>"
            ]
          },
          "execution_count": 1260,
          "metadata": {},
          "output_type": "execute_result"
        },
        {
          "data": {
            "image/png": "[encoded data removed]",
            "text/plain": [
              "<Figure size 400x300 with 1 Axes>"
            ]
          },
          "metadata": {},
          "output_type": "display_data"
        }
      ],
      "source": [
        "plt.figure(figsize = (4,3))\n",
        "sns.boxplot(df_Diabetes[Diabetes_num[6]])"
      ]
    },
    {
      "cell_type": "markdown",
      "metadata": {
        "id": "o3JDFpSlmWPT"
      },
      "source": [
        "# **🍺 Liver Disease Dataset**"
      ]
    },
    {
      "cell_type": "code",
      "execution_count": null,
      "metadata": {
        "colab": {
          "background_save": true
        },
        "id": "zbrRmEv0RbOS",
        "outputId": "221429ce-3fb8-4207-a2fc-a6ad8d9044ab"
      },
      "outputs": [
        {
          "data": {
            "application/vnd.google.colaboratory.intrinsic+json": {
              "summary": "{\n  \"name\": \"df_Liver_Disease\",\n  \"rows\": 583,\n  \"fields\": [\n    {\n      \"column\": \"Age\",\n      \"properties\": {\n        \"dtype\": \"number\",\n        \"std\": 16,\n        \"min\": 4,\n        \"max\": 90,\n        \"samples\": [\n          46,\n          23,\n          63\n        ],\n        \"num_unique_values\": 72,\n        \"semantic_type\": \"\",\n        \"description\": \"\"\n      }\n    },\n    {\n      \"column\": \"Gender\",\n      \"properties\": {\n        \"dtype\": \"category\",\n        \"samples\": [\n          \"Male\",\n          \"Female\"\n        ],\n        \"num_unique_values\": 2,\n        \"semantic_type\": \"\",\n        \"description\": \"\"\n      }\n    },\n    {\n      \"column\": \"Total_Bilirubin\",\n      \"properties\": {\n        \"dtype\": \"number\",\n        \"std\": 6.209521726180149,\n        \"min\": 0.4,\n        \"max\": 75.0,\n        \"samples\": [\n          4.9,\n          3.9\n        ],\n        \"num_unique_values\": 113,\n        \"semantic_type\": \"\",\n        \"description\": \"\"\n      }\n    },\n    {\n      \"column\": \"Direct_Bilirubin\",\n      \"properties\": {\n        \"dtype\": \"number\",\n        \"std\": 2.8084976176589644,\n        \"min\": 0.1,\n        \"max\": 19.7,\n        \"samples\": [\n          6.2,\n          0.1\n        ],\n        \"num_unique_values\": 80,\n        \"semantic_type\": \"\",\n        \"description\": \"\"\n      }\n    },\n    {\n      \"column\": \"Alkaline_Phosphotase\",\n      \"properties\": {\n        \"dtype\": \"number\",\n        \"std\": 242,\n        \"min\": 63,\n        \"max\": 2110,\n        \"samples\": [\n          386,\n          209\n        ],\n        \"num_unique_values\": 263,\n        \"semantic_type\": \"\",\n        \"description\": \"\"\n      }\n    },\n    {\n      \"column\": \"Alamine_Aminotransferase\",\n      \"properties\": {\n        \"dtype\": \"number\",\n        \"std\": 182,\n        \"min\": 10,\n        \"max\": 2000,\n        \"samples\": [\n          2000,\n          321\n        ],\n        \"num_unique_values\": 152,\n        \"semantic_type\": \"\",\n        \"description\": \"\"\n      }\n    },\n    {\n      \"column\": \"Aspartate_Aminotransferase\",\n      \"properties\": {\n        \"dtype\": \"number\",\n        \"std\": 288,\n        \"min\": 10,\n        \"max\": 4929,\n        \"samples\": [\n          66,\n          16\n        ],\n        \"num_unique_values\": 177,\n        \"semantic_type\": \"\",\n        \"description\": \"\"\n      }\n    },\n    {\n      \"column\": \"Total_Protiens\",\n      \"properties\": {\n        \"dtype\": \"number\",\n        \"std\": 1.0854514840234657,\n        \"min\": 2.7,\n        \"max\": 9.6,\n        \"samples\": [\n          6.8,\n          6.7\n        ],\n        \"num_unique_values\": 58,\n        \"semantic_type\": \"\",\n        \"description\": \"\"\n      }\n    },\n    {\n      \"column\": \"Albumin\",\n      \"properties\": {\n        \"dtype\": \"number\",\n        \"std\": 0.7955188059640255,\n        \"min\": 0.9,\n        \"max\": 5.5,\n        \"samples\": [\n          2.0,\n          1.9\n        ],\n        \"num_unique_values\": 40,\n        \"semantic_type\": \"\",\n        \"description\": \"\"\n      }\n    },\n    {\n      \"column\": \"Albumin_and_Globulin_Ratio\",\n      \"properties\": {\n        \"dtype\": \"number\",\n        \"std\": 0.3195921076723706,\n        \"min\": 0.3,\n        \"max\": 2.8,\n        \"samples\": [\n          1.6,\n          0.9\n        ],\n        \"num_unique_values\": 69,\n        \"semantic_type\": \"\",\n        \"description\": \"\"\n      }\n    },\n    {\n      \"column\": \"Dataset\",\n      \"properties\": {\n        \"dtype\": \"number\",\n        \"std\": 0,\n        \"min\": 1,\n        \"max\": 2,\n        \"samples\": [\n          2,\n          1\n        ],\n        \"num_unique_values\": 2,\n        \"semantic_type\": \"\",\n        \"description\": \"\"\n      }\n    }\n  ]\n}",
              "type": "dataframe",
              "variable_name": "df_Liver_Disease"
            },
            "text/html": [
              "\n",
              "  <div id=\"df-a7b11bb8-15f7-4f17-a711-644032136908\" class=\"colab-df-container\">\n",
              "    <div>\n",
              "<style scoped>\n",
              "    .dataframe tbody tr th:only-of-type {\n",
              "        vertical-align: middle;\n",
              "    }\n",
              "\n",
              "    .dataframe tbody tr th {\n",
              "        vertical-align: top;\n",
              "    }\n",
              "\n",
              "    .dataframe thead th {\n",
              "        text-align: right;\n",
              "    }\n",
              "</style>\n",
              "<table border=\"1\" class=\"dataframe\">\n",
              "  <thead>\n",
              "    <tr style=\"text-align: right;\">\n",
              "      <th></th>\n",
              "      <th>Age</th>\n",
              "      <th>Gender</th>\n",
              "      <th>Total_Bilirubin</th>\n",
              "      <th>Direct_Bilirubin</th>\n",
              "      <th>Alkaline_Phosphotase</th>\n",
              "      <th>Alamine_Aminotransferase</th>\n",
              "      <th>Aspartate_Aminotransferase</th>\n",
              "      <th>Total_Protiens</th>\n",
              "      <th>Albumin</th>\n",
              "      <th>Albumin_and_Globulin_Ratio</th>\n",
              "      <th>Dataset</th>\n",
              "    </tr>\n",
              "  </thead>\n",
              "  <tbody>\n",
              "    <tr>\n",
              "      <th>0</th>\n",
              "      <td>65</td>\n",
              "      <td>Female</td>\n",
              "      <td>0.7</td>\n",
              "      <td>0.1</td>\n",
              "      <td>187</td>\n",
              "      <td>16</td>\n",
              "      <td>18</td>\n",
              "      <td>6.8</td>\n",
              "      <td>3.3</td>\n",
              "      <td>0.90</td>\n",
              "      <td>1</td>\n",
              "    </tr>\n",
              "    <tr>\n",
              "      <th>1</th>\n",
              "      <td>62</td>\n",
              "      <td>Male</td>\n",
              "      <td>10.9</td>\n",
              "      <td>5.5</td>\n",
              "      <td>699</td>\n",
              "      <td>64</td>\n",
              "      <td>100</td>\n",
              "      <td>7.5</td>\n",
              "      <td>3.2</td>\n",
              "      <td>0.74</td>\n",
              "      <td>1</td>\n",
              "    </tr>\n",
              "    <tr>\n",
              "      <th>2</th>\n",
              "      <td>62</td>\n",
              "      <td>Male</td>\n",
              "      <td>7.3</td>\n",
              "      <td>4.1</td>\n",
              "      <td>490</td>\n",
              "      <td>60</td>\n",
              "      <td>68</td>\n",
              "      <td>7.0</td>\n",
              "      <td>3.3</td>\n",
              "      <td>0.89</td>\n",
              "      <td>1</td>\n",
              "    </tr>\n",
              "    <tr>\n",
              "      <th>3</th>\n",
              "      <td>58</td>\n",
              "      <td>Male</td>\n",
              "      <td>1.0</td>\n",
              "      <td>0.4</td>\n",
              "      <td>182</td>\n",
              "      <td>14</td>\n",
              "      <td>20</td>\n",
              "      <td>6.8</td>\n",
              "      <td>3.4</td>\n",
              "      <td>1.00</td>\n",
              "      <td>1</td>\n",
              "    </tr>\n",
              "    <tr>\n",
              "      <th>4</th>\n",
              "      <td>72</td>\n",
              "      <td>Male</td>\n",
              "      <td>3.9</td>\n",
              "      <td>2.0</td>\n",
              "      <td>195</td>\n",
              "      <td>27</td>\n",
              "      <td>59</td>\n",
              "      <td>7.3</td>\n",
              "      <td>2.4</td>\n",
              "      <td>0.40</td>\n",
              "      <td>1</td>\n",
              "    </tr>\n",
              "  </tbody>\n",
              "</table>\n",
              "</div>\n",
              "    <div class=\"colab-df-buttons\">\n",
              "\n",
              "  <div class=\"colab-df-container\">\n",
              "    <button class=\"colab-df-convert\" onclick=\"convertToInteractive('df-a7b11bb8-15f7-4f17-a711-644032136908')\"\n",
              "            title=\"Convert this dataframe to an interactive table.\"\n",
              "            style=\"display:none;\">\n",
              "\n",
              "  <svg xmlns=\"http://www.w3.org/2000/svg\" height=\"24px\" viewBox=\"0 -960 960 960\">\n",
              "    <path d=\"M120-120v-720h720v720H120Zm60-500h600v-160H180v160Zm220 220h160v-160H400v160Zm0 220h160v-160H400v160ZM180-400h160v-160H180v160Zm440 0h160v-160H620v160ZM180-180h160v-160H180v160Zm440 0h160v-160H620v160Z\"/>\n",
              "  </svg>\n",
              "    </button>\n",
              "\n",
              "  <style>\n",
              "    .colab-df-container {\n",
              "      display:flex;\n",
              "      gap: 12px;\n",
              "    }\n",
              "\n",
              "    .colab-df-convert {\n",
              "      background-color: #E8F0FE;\n",
              "      border: none;\n",
              "      border-radius: 50%;\n",
              "      cursor: pointer;\n",
              "      display: none;\n",
              "      fill: #1967D2;\n",
              "      height: 32px;\n",
              "      padding: 0 0 0 0;\n",
              "      width: 32px;\n",
              "    }\n",
              "\n",
              "    .colab-df-convert:hover {\n",
              "      background-color: #E2EBFA;\n",
              "      box-shadow: 0px 1px 2px rgba(60, 64, 67, 0.3), 0px 1px 3px 1px rgba(60, 64, 67, 0.15);\n",
              "      fill: #174EA6;\n",
              "    }\n",
              "\n",
              "    .colab-df-buttons div {\n",
              "      margin-bottom: 4px;\n",
              "    }\n",
              "\n",
              "    [theme=dark] .colab-df-convert {\n",
              "      background-color: #3B4455;\n",
              "      fill: #D2E3FC;\n",
              "    }\n",
              "\n",
              "    [theme=dark] .colab-df-convert:hover {\n",
              "      background-color: #434B5C;\n",
              "      box-shadow: 0px 1px 3px 1px rgba(0, 0, 0, 0.15);\n",
              "      filter: drop-shadow(0px 1px 2px rgba(0, 0, 0, 0.3));\n",
              "      fill: #FFFFFF;\n",
              "    }\n",
              "  </style>\n",
              "\n",
              "    <script>\n",
              "      const buttonEl =\n",
              "        document.querySelector('#df-a7b11bb8-15f7-4f17-a711-644032136908 button.colab-df-convert');\n",
              "      buttonEl.style.display =\n",
              "        google.colab.kernel.accessAllowed ? 'block' : 'none';\n",
              "\n",
              "      async function convertToInteractive(key) {\n",
              "        const element = document.querySelector('#df-a7b11bb8-15f7-4f17-a711-644032136908');\n",
              "        const dataTable =\n",
              "          await google.colab.kernel.invokeFunction('convertToInteractive',\n",
              "                                                    [key], {});\n",
              "        if (!dataTable) return;\n",
              "\n",
              "        const docLinkHtml = 'Like what you see? Visit the ' +\n",
              "          '<a target=\"_blank\" href=https://colab.research.google.com/notebooks/data_table.ipynb>data table notebook</a>'\n",
              "          + ' to learn more about interactive tables.';\n",
              "        element.innerHTML = '';\n",
              "        dataTable['output_type'] = 'display_data';\n",
              "        await google.colab.output.renderOutput(dataTable, element);\n",
              "        const docLink = document.createElement('div');\n",
              "        docLink.innerHTML = docLinkHtml;\n",
              "        element.appendChild(docLink);\n",
              "      }\n",
              "    </script>\n",
              "  </div>\n",
              "\n",
              "\n",
              "<div id=\"df-4357279b-4c33-451b-b7dd-ae7527b9c936\">\n",
              "  <button class=\"colab-df-quickchart\" onclick=\"quickchart('df-4357279b-4c33-451b-b7dd-ae7527b9c936')\"\n",
              "            title=\"Suggest charts\"\n",
              "            style=\"display:none;\">\n",
              "\n",
              "<svg xmlns=\"http://www.w3.org/2000/svg\" height=\"24px\"viewBox=\"0 0 24 24\"\n",
              "     width=\"24px\">\n",
              "    <g>\n",
              "        <path d=\"M19 3H5c-1.1 0-2 .9-2 2v14c0 1.1.9 2 2 2h14c1.1 0 2-.9 2-2V5c0-1.1-.9-2-2-2zM9 17H7v-7h2v7zm4 0h-2V7h2v10zm4 0h-2v-4h2v4z\"/>\n",
              "    </g>\n",
              "</svg>\n",
              "  </button>\n",
              "\n",
              "<style>\n",
              "  .colab-df-quickchart {\n",
              "      --bg-color: #E8F0FE;\n",
              "      --fill-color: #1967D2;\n",
              "      --hover-bg-color: #E2EBFA;\n",
              "      --hover-fill-color: #174EA6;\n",
              "      --disabled-fill-color: #AAA;\n",
              "      --disabled-bg-color: #DDD;\n",
              "  }\n",
              "\n",
              "  [theme=dark] .colab-df-quickchart {\n",
              "      --bg-color: #3B4455;\n",
              "      --fill-color: #D2E3FC;\n",
              "      --hover-bg-color: #434B5C;\n",
              "      --hover-fill-color: #FFFFFF;\n",
              "      --disabled-bg-color: #3B4455;\n",
              "      --disabled-fill-color: #666;\n",
              "  }\n",
              "\n",
              "  .colab-df-quickchart {\n",
              "    background-color: var(--bg-color);\n",
              "    border: none;\n",
              "    border-radius: 50%;\n",
              "    cursor: pointer;\n",
              "    display: none;\n",
              "    fill: var(--fill-color);\n",
              "    height: 32px;\n",
              "    padding: 0;\n",
              "    width: 32px;\n",
              "  }\n",
              "\n",
              "  .colab-df-quickchart:hover {\n",
              "    background-color: var(--hover-bg-color);\n",
              "    box-shadow: 0 1px 2px rgba(60, 64, 67, 0.3), 0 1px 3px 1px rgba(60, 64, 67, 0.15);\n",
              "    fill: var(--button-hover-fill-color);\n",
              "  }\n",
              "\n",
              "  .colab-df-quickchart-complete:disabled,\n",
              "  .colab-df-quickchart-complete:disabled:hover {\n",
              "    background-color: var(--disabled-bg-color);\n",
              "    fill: var(--disabled-fill-color);\n",
              "    box-shadow: none;\n",
              "  }\n",
              "\n",
              "  .colab-df-spinner {\n",
              "    border: 2px solid var(--fill-color);\n",
              "    border-color: transparent;\n",
              "    border-bottom-color: var(--fill-color);\n",
              "    animation:\n",
              "      spin 1s steps(1) infinite;\n",
              "  }\n",
              "\n",
              "  @keyframes spin {\n",
              "    0% {\n",
              "      border-color: transparent;\n",
              "      border-bottom-color: var(--fill-color);\n",
              "      border-left-color: var(--fill-color);\n",
              "    }\n",
              "    20% {\n",
              "      border-color: transparent;\n",
              "      border-left-color: var(--fill-color);\n",
              "      border-top-color: var(--fill-color);\n",
              "    }\n",
              "    30% {\n",
              "      border-color: transparent;\n",
              "      border-left-color: var(--fill-color);\n",
              "      border-top-color: var(--fill-color);\n",
              "      border-right-color: var(--fill-color);\n",
              "    }\n",
              "    40% {\n",
              "      border-color: transparent;\n",
              "      border-right-color: var(--fill-color);\n",
              "      border-top-color: var(--fill-color);\n",
              "    }\n",
              "    60% {\n",
              "      border-color: transparent;\n",
              "      border-right-color: var(--fill-color);\n",
              "    }\n",
              "    80% {\n",
              "      border-color: transparent;\n",
              "      border-right-color: var(--fill-color);\n",
              "      border-bottom-color: var(--fill-color);\n",
              "    }\n",
              "    90% {\n",
              "      border-color: transparent;\n",
              "      border-bottom-color: var(--fill-color);\n",
              "    }\n",
              "  }\n",
              "</style>\n",
              "\n",
              "  <script>\n",
              "    async function quickchart(key) {\n",
              "      const quickchartButtonEl =\n",
              "        document.querySelector('#' + key + ' button');\n",
              "      quickchartButtonEl.disabled = true;  // To prevent multiple clicks.\n",
              "      quickchartButtonEl.classList.add('colab-df-spinner');\n",
              "      try {\n",
              "        const charts = await google.colab.kernel.invokeFunction(\n",
              "            'suggestCharts', [key], {});\n",
              "      } catch (error) {\n",
              "        console.error('Error during call to suggestCharts:', error);\n",
              "      }\n",
              "      quickchartButtonEl.classList.remove('colab-df-spinner');\n",
              "      quickchartButtonEl.classList.add('colab-df-quickchart-complete');\n",
              "    }\n",
              "    (() => {\n",
              "      let quickchartButtonEl =\n",
              "        document.querySelector('#df-4357279b-4c33-451b-b7dd-ae7527b9c936 button');\n",
              "      quickchartButtonEl.style.display =\n",
              "        google.colab.kernel.accessAllowed ? 'block' : 'none';\n",
              "    })();\n",
              "  </script>\n",
              "</div>\n",
              "\n",
              "    </div>\n",
              "  </div>\n"
            ],
            "text/plain": [
              "   Age  Gender  Total_Bilirubin  Direct_Bilirubin  Alkaline_Phosphotase  \\\n",
              "0   65  Female              0.7               0.1                   187   \n",
              "1   62    Male             10.9               5.5                   699   \n",
              "2   62    Male              7.3               4.1                   490   \n",
              "3   58    Male              1.0               0.4                   182   \n",
              "4   72    Male              3.9               2.0                   195   \n",
              "\n",
              "   Alamine_Aminotransferase  Aspartate_Aminotransferase  Total_Protiens  \\\n",
              "0                        16                          18             6.8   \n",
              "1                        64                         100             7.5   \n",
              "2                        60                          68             7.0   \n",
              "3                        14                          20             6.8   \n",
              "4                        27                          59             7.3   \n",
              "\n",
              "   Albumin  Albumin_and_Globulin_Ratio  Dataset  \n",
              "0      3.3                        0.90        1  \n",
              "1      3.2                        0.74        1  \n",
              "2      3.3                        0.89        1  \n",
              "3      3.4                        1.00        1  \n",
              "4      2.4                        0.40        1  "
            ]
          },
          "execution_count": 1262,
          "metadata": {},
          "output_type": "execute_result"
        }
      ],
      "source": [
        "df_Liver_Disease.head()"
      ]
    },
    {
      "cell_type": "code",
      "execution_count": null,
      "metadata": {
        "colab": {
          "background_save": true
        },
        "id": "SYlRE0SARbQu",
        "outputId": "8720050a-0bc5-46fb-cc7d-eefa833b21bf"
      },
      "outputs": [
        {
          "data": {
            "text/plain": [
              "Age                           0\n",
              "Gender                        0\n",
              "Total_Bilirubin               0\n",
              "Direct_Bilirubin              0\n",
              "Alkaline_Phosphotase          0\n",
              "Alamine_Aminotransferase      0\n",
              "Aspartate_Aminotransferase    0\n",
              "Total_Protiens                0\n",
              "Albumin                       0\n",
              "Albumin_and_Globulin_Ratio    4\n",
              "Dataset                       0\n",
              "dtype: int64"
            ]
          },
          "execution_count": 1264,
          "metadata": {},
          "output_type": "execute_result"
        }
      ],
      "source": [
        "df_Liver_Disease.isnull().sum()"
      ]
    },
    {
      "cell_type": "markdown",
      "metadata": {
        "id": "yu1aCYVQotVm"
      },
      "source": [
        "Since there is 4 missing values only, the simpliest way is to fill the missing values with the mean."
      ]
    },
    {
      "cell_type": "code",
      "execution_count": null,
      "metadata": {
        "colab": {
          "background_save": true
        },
        "id": "zMRXgNC-RbTM",
        "outputId": "59fdcde3-3a71-48ec-d118-260112d4398c"
      },
      "outputs": [
        {
          "data": {
            "text/plain": [
              "0    0.90\n",
              "1    0.74\n",
              "2    0.89\n",
              "3    1.00\n",
              "4    0.40\n",
              "Name: Albumin_and_Globulin_Ratio, dtype: float64"
            ]
          },
          "execution_count": 1266,
          "metadata": {},
          "output_type": "execute_result"
        }
      ],
      "source": [
        "df_Liver_Disease.Albumin_and_Globulin_Ratio.fillna(df_Liver_Disease.Albumin_and_Globulin_Ratio.mean(), inplace= True)\n",
        "df_Liver_Disease.Albumin_and_Globulin_Ratio.head()"
      ]
    },
    {
      "cell_type": "code",
      "execution_count": null,
      "metadata": {
        "colab": {
          "background_save": true
        },
        "id": "KfPZ9ueToqGa",
        "outputId": "2be7e5ad-a4a5-4a2c-f3c2-22843ec02de1"
      },
      "outputs": [
        {
          "data": {
            "text/plain": [
              "0"
            ]
          },
          "execution_count": 1268,
          "metadata": {},
          "output_type": "execute_result"
        }
      ],
      "source": [
        "df_Liver_Disease.Albumin_and_Globulin_Ratio.isnull().sum()"
      ]
    },
    {
      "cell_type": "code",
      "execution_count": null,
      "metadata": {
        "colab": {
          "background_save": true
        },
        "id": "15lcnJBtRbVT",
        "outputId": "9aba4c9a-4107-45d5-887e-469aa2683e19"
      },
      "outputs": [
        {
          "data": {
            "text/plain": [
              "(583, 11)"
            ]
          },
          "execution_count": 1270,
          "metadata": {},
          "output_type": "execute_result"
        }
      ],
      "source": [
        "df_Liver_Disease.shape"
      ]
    },
    {
      "cell_type": "markdown",
      "metadata": {
        "id": "xVtBOiV3pUmc"
      },
      "source": [
        "Instead of using get dummies or LabelEncoder, I decided to apply lambda function to convert Dataset column to 0 and 1."
      ]
    },
    {
      "cell_type": "code",
      "execution_count": null,
      "metadata": {
        "colab": {
          "background_save": true
        },
        "id": "iWlGnRWa_vtq",
        "outputId": "2721ccbc-839f-465b-efdd-9952f10c60f1"
      },
      "outputs": [
        {
          "data": {
            "text/plain": [
              "0    0\n",
              "1    0\n",
              "2    0\n",
              "3    0\n",
              "4    0\n",
              "Name: Dataset, dtype: int64"
            ]
          },
          "execution_count": 1272,
          "metadata": {},
          "output_type": "execute_result"
        }
      ],
      "source": [
        "df_Liver_Disease.Dataset = df_Liver_Disease.Dataset.apply(lambda x:0 if x==1 else 1)\n",
        "df_Liver_Disease.Dataset.head()"
      ]
    },
    {
      "cell_type": "code",
      "execution_count": null,
      "metadata": {
        "colab": {
          "background_save": true
        },
        "id": "h0G-50ZGS7VM",
        "outputId": "4e82b475-16f9-4145-cf12-3807902ef88f"
      },
      "outputs": [
        {
          "name": "stdout",
          "output_type": "stream",
          "text": [
            "No. of patients diagnosed with liver disease:  416\n",
            "No. of patients not diagnosed with liver disease:  167\n"
          ]
        },
        {
          "data": {
            "image/png": "[encoded data removed]",
            "text/plain": [
              "<Figure size 400x300 with 1 Axes>"
            ]
          },
          "metadata": {},
          "output_type": "display_data"
        }
      ],
      "source": [
        "plt.figure(figsize = (4,3))\n",
        "sns.countplot(x=df_Liver_Disease.Dataset)\n",
        "LD, NLD = df_Liver_Disease['Dataset'].value_counts()\n",
        "print('No. of patients diagnosed with liver disease: ',LD)\n",
        "print('No. of patients not diagnosed with liver disease: ',NLD)"
      ]
    },
    {
      "cell_type": "code",
      "execution_count": null,
      "metadata": {
        "colab": {
          "background_save": true
        },
        "id": "8eom9n6SLCGn",
        "outputId": "603f3755-96b9-4931-f8c8-b4aae27c8dc3"
      },
      "outputs": [
        {
          "data": {
            "application/vnd.google.colaboratory.intrinsic+json": {
              "summary": "{\n  \"name\": \"df_Liver_Disease\",\n  \"rows\": 8,\n  \"fields\": [\n    {\n      \"column\": \"Age\",\n      \"properties\": {\n        \"dtype\": \"number\",\n        \"std\": 193.19746263630807,\n        \"min\": 4.0,\n        \"max\": 583.0,\n        \"samples\": [\n          44.74614065180103,\n          45.0,\n          583.0\n        ],\n        \"num_unique_values\": 8,\n        \"semantic_type\": \"\",\n        \"description\": \"\"\n      }\n    },\n    {\n      \"column\": \"Total_Bilirubin\",\n      \"properties\": {\n        \"dtype\": \"number\",\n        \"std\": 203.21423966540334,\n        \"min\": 0.4,\n        \"max\": 583.0,\n        \"samples\": [\n          3.298799313893653,\n          1.0,\n          583.0\n        ],\n        \"num_unique_values\": 8,\n        \"semantic_type\": \"\",\n        \"description\": \"\"\n      }\n    },\n    {\n      \"column\": \"Direct_Bilirubin\",\n      \"properties\": {\n        \"dtype\": \"number\",\n        \"std\": 204.91982276311322,\n        \"min\": 0.1,\n        \"max\": 583.0,\n        \"samples\": [\n          1.486106346483705,\n          0.3,\n          583.0\n        ],\n        \"num_unique_values\": 8,\n        \"semantic_type\": \"\",\n        \"description\": \"\"\n      }\n    },\n    {\n      \"column\": \"Alkaline_Phosphotase\",\n      \"properties\": {\n        \"dtype\": \"number\",\n        \"std\": 668.8113528628011,\n        \"min\": 63.0,\n        \"max\": 2110.0,\n        \"samples\": [\n          290.57632933104634,\n          208.0,\n          583.0\n        ],\n        \"num_unique_values\": 8,\n        \"semantic_type\": \"\",\n        \"description\": \"\"\n      }\n    },\n    {\n      \"column\": \"Alamine_Aminotransferase\",\n      \"properties\": {\n        \"dtype\": \"number\",\n        \"std\": 684.4250480910189,\n        \"min\": 10.0,\n        \"max\": 2000.0,\n        \"samples\": [\n          80.71355060034305,\n          35.0,\n          583.0\n        ],\n        \"num_unique_values\": 8,\n        \"semantic_type\": \"\",\n        \"description\": \"\"\n      }\n    },\n    {\n      \"column\": \"Aspartate_Aminotransferase\",\n      \"properties\": {\n        \"dtype\": \"number\",\n        \"std\": 1695.6919519024464,\n        \"min\": 10.0,\n        \"max\": 4929.0,\n        \"samples\": [\n          109.91080617495712,\n          42.0,\n          583.0\n        ],\n        \"num_unique_values\": 8,\n        \"semantic_type\": \"\",\n        \"description\": \"\"\n      }\n    },\n    {\n      \"column\": \"Total_Protiens\",\n      \"properties\": {\n        \"dtype\": \"number\",\n        \"std\": 204.14536092043835,\n        \"min\": 1.0854514840234657,\n        \"max\": 583.0,\n        \"samples\": [\n          6.483190394511149,\n          6.6,\n          583.0\n        ],\n        \"num_unique_values\": 8,\n        \"semantic_type\": \"\",\n        \"description\": \"\"\n      }\n    },\n    {\n      \"column\": \"Albumin\",\n      \"properties\": {\n        \"dtype\": \"number\",\n        \"std\": 205.12531433205643,\n        \"min\": 0.7955188059640255,\n        \"max\": 583.0,\n        \"samples\": [\n          3.141852487135506,\n          3.1,\n          583.0\n        ],\n        \"num_unique_values\": 8,\n        \"semantic_type\": \"\",\n        \"description\": \"\"\n      }\n    },\n    {\n      \"column\": \"Albumin_and_Globulin_Ratio\",\n      \"properties\": {\n        \"dtype\": \"number\",\n        \"std\": 205.76387726028952,\n        \"min\": 0.3,\n        \"max\": 583.0,\n        \"samples\": [\n          0.9470639032815198,\n          0.9470639032815197,\n          583.0\n        ],\n        \"num_unique_values\": 8,\n        \"semantic_type\": \"\",\n        \"description\": \"\"\n      }\n    },\n    {\n      \"column\": \"Dataset\",\n      \"properties\": {\n        \"dtype\": \"number\",\n        \"std\": 205.91163811390794,\n        \"min\": 0.0,\n        \"max\": 583.0,\n        \"samples\": [\n          0.7135506003430532,\n          1.0,\n          0.4524901515081165\n        ],\n        \"num_unique_values\": 5,\n        \"semantic_type\": \"\",\n        \"description\": \"\"\n      }\n    }\n  ]\n}",
              "type": "dataframe"
            },
            "text/html": [
              "\n",
              "  <div id=\"df-59d6ed95-2451-43f7-ad2d-87c448cc366a\" class=\"colab-df-container\">\n",
              "    <div>\n",
              "<style scoped>\n",
              "    .dataframe tbody tr th:only-of-type {\n",
              "        vertical-align: middle;\n",
              "    }\n",
              "\n",
              "    .dataframe tbody tr th {\n",
              "        vertical-align: top;\n",
              "    }\n",
              "\n",
              "    .dataframe thead th {\n",
              "        text-align: right;\n",
              "    }\n",
              "</style>\n",
              "<table border=\"1\" class=\"dataframe\">\n",
              "  <thead>\n",
              "    <tr style=\"text-align: right;\">\n",
              "      <th></th>\n",
              "      <th>Age</th>\n",
              "      <th>Total_Bilirubin</th>\n",
              "      <th>Direct_Bilirubin</th>\n",
              "      <th>Alkaline_Phosphotase</th>\n",
              "      <th>Alamine_Aminotransferase</th>\n",
              "      <th>Aspartate_Aminotransferase</th>\n",
              "      <th>Total_Protiens</th>\n",
              "      <th>Albumin</th>\n",
              "      <th>Albumin_and_Globulin_Ratio</th>\n",
              "      <th>Dataset</th>\n",
              "    </tr>\n",
              "  </thead>\n",
              "  <tbody>\n",
              "    <tr>\n",
              "      <th>count</th>\n",
              "      <td>583.000000</td>\n",
              "      <td>583.000000</td>\n",
              "      <td>583.000000</td>\n",
              "      <td>583.000000</td>\n",
              "      <td>583.000000</td>\n",
              "      <td>583.000000</td>\n",
              "      <td>583.000000</td>\n",
              "      <td>583.000000</td>\n",
              "      <td>583.000000</td>\n",
              "      <td>583.000000</td>\n",
              "    </tr>\n",
              "    <tr>\n",
              "      <th>mean</th>\n",
              "      <td>44.746141</td>\n",
              "      <td>3.298799</td>\n",
              "      <td>1.486106</td>\n",
              "      <td>290.576329</td>\n",
              "      <td>80.713551</td>\n",
              "      <td>109.910806</td>\n",
              "      <td>6.483190</td>\n",
              "      <td>3.141852</td>\n",
              "      <td>0.947064</td>\n",
              "      <td>0.713551</td>\n",
              "    </tr>\n",
              "    <tr>\n",
              "      <th>std</th>\n",
              "      <td>16.189833</td>\n",
              "      <td>6.209522</td>\n",
              "      <td>2.808498</td>\n",
              "      <td>242.937989</td>\n",
              "      <td>182.620356</td>\n",
              "      <td>288.918529</td>\n",
              "      <td>1.085451</td>\n",
              "      <td>0.795519</td>\n",
              "      <td>0.318492</td>\n",
              "      <td>0.452490</td>\n",
              "    </tr>\n",
              "    <tr>\n",
              "      <th>min</th>\n",
              "      <td>4.000000</td>\n",
              "      <td>0.400000</td>\n",
              "      <td>0.100000</td>\n",
              "      <td>63.000000</td>\n",
              "      <td>10.000000</td>\n",
              "      <td>10.000000</td>\n",
              "      <td>2.700000</td>\n",
              "      <td>0.900000</td>\n",
              "      <td>0.300000</td>\n",
              "      <td>0.000000</td>\n",
              "    </tr>\n",
              "    <tr>\n",
              "      <th>25%</th>\n",
              "      <td>33.000000</td>\n",
              "      <td>0.800000</td>\n",
              "      <td>0.200000</td>\n",
              "      <td>175.500000</td>\n",
              "      <td>23.000000</td>\n",
              "      <td>25.000000</td>\n",
              "      <td>5.800000</td>\n",
              "      <td>2.600000</td>\n",
              "      <td>0.700000</td>\n",
              "      <td>0.000000</td>\n",
              "    </tr>\n",
              "    <tr>\n",
              "      <th>50%</th>\n",
              "      <td>45.000000</td>\n",
              "      <td>1.000000</td>\n",
              "      <td>0.300000</td>\n",
              "      <td>208.000000</td>\n",
              "      <td>35.000000</td>\n",
              "      <td>42.000000</td>\n",
              "      <td>6.600000</td>\n",
              "      <td>3.100000</td>\n",
              "      <td>0.947064</td>\n",
              "      <td>1.000000</td>\n",
              "    </tr>\n",
              "    <tr>\n",
              "      <th>75%</th>\n",
              "      <td>58.000000</td>\n",
              "      <td>2.600000</td>\n",
              "      <td>1.300000</td>\n",
              "      <td>298.000000</td>\n",
              "      <td>60.500000</td>\n",
              "      <td>87.000000</td>\n",
              "      <td>7.200000</td>\n",
              "      <td>3.800000</td>\n",
              "      <td>1.100000</td>\n",
              "      <td>1.000000</td>\n",
              "    </tr>\n",
              "    <tr>\n",
              "      <th>max</th>\n",
              "      <td>90.000000</td>\n",
              "      <td>75.000000</td>\n",
              "      <td>19.700000</td>\n",
              "      <td>2110.000000</td>\n",
              "      <td>2000.000000</td>\n",
              "      <td>4929.000000</td>\n",
              "      <td>9.600000</td>\n",
              "      <td>5.500000</td>\n",
              "      <td>2.800000</td>\n",
              "      <td>1.000000</td>\n",
              "    </tr>\n",
              "  </tbody>\n",
              "</table>\n",
              "</div>\n",
              "    <div class=\"colab-df-buttons\">\n",
              "\n",
              "  <div class=\"colab-df-container\">\n",
              "    <button class=\"colab-df-convert\" onclick=\"convertToInteractive('df-59d6ed95-2451-43f7-ad2d-87c448cc366a')\"\n",
              "            title=\"Convert this dataframe to an interactive table.\"\n",
              "            style=\"display:none;\">\n",
              "\n",
              "  <svg xmlns=\"http://www.w3.org/2000/svg\" height=\"24px\" viewBox=\"0 -960 960 960\">\n",
              "    <path d=\"M120-120v-720h720v720H120Zm60-500h600v-160H180v160Zm220 220h160v-160H400v160Zm0 220h160v-160H400v160ZM180-400h160v-160H180v160Zm440 0h160v-160H620v160ZM180-180h160v-160H180v160Zm440 0h160v-160H620v160Z\"/>\n",
              "  </svg>\n",
              "    </button>\n",
              "\n",
              "  <style>\n",
              "    .colab-df-container {\n",
              "      display:flex;\n",
              "      gap: 12px;\n",
              "    }\n",
              "\n",
              "    .colab-df-convert {\n",
              "      background-color: #E8F0FE;\n",
              "      border: none;\n",
              "      border-radius: 50%;\n",
              "      cursor: pointer;\n",
              "      display: none;\n",
              "      fill: #1967D2;\n",
              "      height: 32px;\n",
              "      padding: 0 0 0 0;\n",
              "      width: 32px;\n",
              "    }\n",
              "\n",
              "    .colab-df-convert:hover {\n",
              "      background-color: #E2EBFA;\n",
              "      box-shadow: 0px 1px 2px rgba(60, 64, 67, 0.3), 0px 1px 3px 1px rgba(60, 64, 67, 0.15);\n",
              "      fill: #174EA6;\n",
              "    }\n",
              "\n",
              "    .colab-df-buttons div {\n",
              "      margin-bottom: 4px;\n",
              "    }\n",
              "\n",
              "    [theme=dark] .colab-df-convert {\n",
              "      background-color: #3B4455;\n",
              "      fill: #D2E3FC;\n",
              "    }\n",
              "\n",
              "    [theme=dark] .colab-df-convert:hover {\n",
              "      background-color: #434B5C;\n",
              "      box-shadow: 0px 1px 3px 1px rgba(0, 0, 0, 0.15);\n",
              "      filter: drop-shadow(0px 1px 2px rgba(0, 0, 0, 0.3));\n",
              "      fill: #FFFFFF;\n",
              "    }\n",
              "  </style>\n",
              "\n",
              "    <script>\n",
              "      const buttonEl =\n",
              "        document.querySelector('#df-59d6ed95-2451-43f7-ad2d-87c448cc366a button.colab-df-convert');\n",
              "      buttonEl.style.display =\n",
              "        google.colab.kernel.accessAllowed ? 'block' : 'none';\n",
              "\n",
              "      async function convertToInteractive(key) {\n",
              "        const element = document.querySelector('#df-59d6ed95-2451-43f7-ad2d-87c448cc366a');\n",
              "        const dataTable =\n",
              "          await google.colab.kernel.invokeFunction('convertToInteractive',\n",
              "                                                    [key], {});\n",
              "        if (!dataTable) return;\n",
              "\n",
              "        const docLinkHtml = 'Like what you see? Visit the ' +\n",
              "          '<a target=\"_blank\" href=https://colab.research.google.com/notebooks/data_table.ipynb>data table notebook</a>'\n",
              "          + ' to learn more about interactive tables.';\n",
              "        element.innerHTML = '';\n",
              "        dataTable['output_type'] = 'display_data';\n",
              "        await google.colab.output.renderOutput(dataTable, element);\n",
              "        const docLink = document.createElement('div');\n",
              "        docLink.innerHTML = docLinkHtml;\n",
              "        element.appendChild(docLink);\n",
              "      }\n",
              "    </script>\n",
              "  </div>\n",
              "\n",
              "\n",
              "<div id=\"df-2f4fd89e-bbe8-4c39-9ac7-142d000dbc1f\">\n",
              "  <button class=\"colab-df-quickchart\" onclick=\"quickchart('df-2f4fd89e-bbe8-4c39-9ac7-142d000dbc1f')\"\n",
              "            title=\"Suggest charts\"\n",
              "            style=\"display:none;\">\n",
              "\n",
              "<svg xmlns=\"http://www.w3.org/2000/svg\" height=\"24px\"viewBox=\"0 0 24 24\"\n",
              "     width=\"24px\">\n",
              "    <g>\n",
              "        <path d=\"M19 3H5c-1.1 0-2 .9-2 2v14c0 1.1.9 2 2 2h14c1.1 0 2-.9 2-2V5c0-1.1-.9-2-2-2zM9 17H7v-7h2v7zm4 0h-2V7h2v10zm4 0h-2v-4h2v4z\"/>\n",
              "    </g>\n",
              "</svg>\n",
              "  </button>\n",
              "\n",
              "<style>\n",
              "  .colab-df-quickchart {\n",
              "      --bg-color: #E8F0FE;\n",
              "      --fill-color: #1967D2;\n",
              "      --hover-bg-color: #E2EBFA;\n",
              "      --hover-fill-color: #174EA6;\n",
              "      --disabled-fill-color: #AAA;\n",
              "      --disabled-bg-color: #DDD;\n",
              "  }\n",
              "\n",
              "  [theme=dark] .colab-df-quickchart {\n",
              "      --bg-color: #3B4455;\n",
              "      --fill-color: #D2E3FC;\n",
              "      --hover-bg-color: #434B5C;\n",
              "      --hover-fill-color: #FFFFFF;\n",
              "      --disabled-bg-color: #3B4455;\n",
              "      --disabled-fill-color: #666;\n",
              "  }\n",
              "\n",
              "  .colab-df-quickchart {\n",
              "    background-color: var(--bg-color);\n",
              "    border: none;\n",
              "    border-radius: 50%;\n",
              "    cursor: pointer;\n",
              "    display: none;\n",
              "    fill: var(--fill-color);\n",
              "    height: 32px;\n",
              "    padding: 0;\n",
              "    width: 32px;\n",
              "  }\n",
              "\n",
              "  .colab-df-quickchart:hover {\n",
              "    background-color: var(--hover-bg-color);\n",
              "    box-shadow: 0 1px 2px rgba(60, 64, 67, 0.3), 0 1px 3px 1px rgba(60, 64, 67, 0.15);\n",
              "    fill: var(--button-hover-fill-color);\n",
              "  }\n",
              "\n",
              "  .colab-df-quickchart-complete:disabled,\n",
              "  .colab-df-quickchart-complete:disabled:hover {\n",
              "    background-color: var(--disabled-bg-color);\n",
              "    fill: var(--disabled-fill-color);\n",
              "    box-shadow: none;\n",
              "  }\n",
              "\n",
              "  .colab-df-spinner {\n",
              "    border: 2px solid var(--fill-color);\n",
              "    border-color: transparent;\n",
              "    border-bottom-color: var(--fill-color);\n",
              "    animation:\n",
              "      spin 1s steps(1) infinite;\n",
              "  }\n",
              "\n",
              "  @keyframes spin {\n",
              "    0% {\n",
              "      border-color: transparent;\n",
              "      border-bottom-color: var(--fill-color);\n",
              "      border-left-color: var(--fill-color);\n",
              "    }\n",
              "    20% {\n",
              "      border-color: transparent;\n",
              "      border-left-color: var(--fill-color);\n",
              "      border-top-color: var(--fill-color);\n",
              "    }\n",
              "    30% {\n",
              "      border-color: transparent;\n",
              "      border-left-color: var(--fill-color);\n",
              "      border-top-color: var(--fill-color);\n",
              "      border-right-color: var(--fill-color);\n",
              "    }\n",
              "    40% {\n",
              "      border-color: transparent;\n",
              "      border-right-color: var(--fill-color);\n",
              "      border-top-color: var(--fill-color);\n",
              "    }\n",
              "    60% {\n",
              "      border-color: transparent;\n",
              "      border-right-color: var(--fill-color);\n",
              "    }\n",
              "    80% {\n",
              "      border-color: transparent;\n",
              "      border-right-color: var(--fill-color);\n",
              "      border-bottom-color: var(--fill-color);\n",
              "    }\n",
              "    90% {\n",
              "      border-color: transparent;\n",
              "      border-bottom-color: var(--fill-color);\n",
              "    }\n",
              "  }\n",
              "</style>\n",
              "\n",
              "  <script>\n",
              "    async function quickchart(key) {\n",
              "      const quickchartButtonEl =\n",
              "        document.querySelector('#' + key + ' button');\n",
              "      quickchartButtonEl.disabled = true;  // To prevent multiple clicks.\n",
              "      quickchartButtonEl.classList.add('colab-df-spinner');\n",
              "      try {\n",
              "        const charts = await google.colab.kernel.invokeFunction(\n",
              "            'suggestCharts', [key], {});\n",
              "      } catch (error) {\n",
              "        console.error('Error during call to suggestCharts:', error);\n",
              "      }\n",
              "      quickchartButtonEl.classList.remove('colab-df-spinner');\n",
              "      quickchartButtonEl.classList.add('colab-df-quickchart-complete');\n",
              "    }\n",
              "    (() => {\n",
              "      let quickchartButtonEl =\n",
              "        document.querySelector('#df-2f4fd89e-bbe8-4c39-9ac7-142d000dbc1f button');\n",
              "      quickchartButtonEl.style.display =\n",
              "        google.colab.kernel.accessAllowed ? 'block' : 'none';\n",
              "    })();\n",
              "  </script>\n",
              "</div>\n",
              "\n",
              "    </div>\n",
              "  </div>\n"
            ],
            "text/plain": [
              "              Age  Total_Bilirubin  Direct_Bilirubin  Alkaline_Phosphotase  \\\n",
              "count  583.000000       583.000000        583.000000            583.000000   \n",
              "mean    44.746141         3.298799          1.486106            290.576329   \n",
              "std     16.189833         6.209522          2.808498            242.937989   \n",
              "min      4.000000         0.400000          0.100000             63.000000   \n",
              "25%     33.000000         0.800000          0.200000            175.500000   \n",
              "50%     45.000000         1.000000          0.300000            208.000000   \n",
              "75%     58.000000         2.600000          1.300000            298.000000   \n",
              "max     90.000000        75.000000         19.700000           2110.000000   \n",
              "\n",
              "       Alamine_Aminotransferase  Aspartate_Aminotransferase  Total_Protiens  \\\n",
              "count                583.000000                  583.000000      583.000000   \n",
              "mean                  80.713551                  109.910806        6.483190   \n",
              "std                  182.620356                  288.918529        1.085451   \n",
              "min                   10.000000                   10.000000        2.700000   \n",
              "25%                   23.000000                   25.000000        5.800000   \n",
              "50%                   35.000000                   42.000000        6.600000   \n",
              "75%                   60.500000                   87.000000        7.200000   \n",
              "max                 2000.000000                 4929.000000        9.600000   \n",
              "\n",
              "          Albumin  Albumin_and_Globulin_Ratio     Dataset  \n",
              "count  583.000000                  583.000000  583.000000  \n",
              "mean     3.141852                    0.947064    0.713551  \n",
              "std      0.795519                    0.318492    0.452490  \n",
              "min      0.900000                    0.300000    0.000000  \n",
              "25%      2.600000                    0.700000    0.000000  \n",
              "50%      3.100000                    0.947064    1.000000  \n",
              "75%      3.800000                    1.100000    1.000000  \n",
              "max      5.500000                    2.800000    1.000000  "
            ]
          },
          "execution_count": 1276,
          "metadata": {},
          "output_type": "execute_result"
        }
      ],
      "source": [
        "df_Liver_Disease.describe()"
      ]
    },
    {
      "cell_type": "code",
      "execution_count": null,
      "metadata": {
        "colab": {
          "background_save": true
        },
        "id": "Oc5o3jtiS7ZK",
        "outputId": "0f204479-522c-4d4d-939f-b2f3c0e593a3"
      },
      "outputs": [
        {
          "data": {
            "application/vnd.google.colaboratory.intrinsic+json": {
              "summary": "{\n  \"name\": \"df_Liver_Disease[['Gender', 'Dataset','Age']]\",\n  \"rows\": 4,\n  \"fields\": [\n    {\n      \"column\": \"Dataset\",\n      \"properties\": {\n        \"dtype\": \"number\",\n        \"std\": 0,\n        \"min\": 0,\n        \"max\": 1,\n        \"samples\": [\n          0,\n          1\n        ],\n        \"num_unique_values\": 2,\n        \"semantic_type\": \"\",\n        \"description\": \"\"\n      }\n    },\n    {\n      \"column\": \"Gender\",\n      \"properties\": {\n        \"dtype\": \"string\",\n        \"samples\": [\n          \"Male\",\n          \"Female\"\n        ],\n        \"num_unique_values\": 2,\n        \"semantic_type\": \"\",\n        \"description\": \"\"\n      }\n    },\n    {\n      \"column\": \"Age\",\n      \"properties\": {\n        \"dtype\": \"number\",\n        \"std\": 2.6390934958677734,\n        \"min\": 40.598290598290596,\n        \"max\": 46.95061728395062,\n        \"samples\": [\n          46.95061728395062,\n          40.598290598290596\n        ],\n        \"num_unique_values\": 4,\n        \"semantic_type\": \"\",\n        \"description\": \"\"\n      }\n    }\n  ]\n}",
              "type": "dataframe"
            },
            "text/html": [
              "\n",
              "  <div id=\"df-bb524e41-f96f-4074-898b-0d1ec78ee0e5\" class=\"colab-df-container\">\n",
              "    <div>\n",
              "<style scoped>\n",
              "    .dataframe tbody tr th:only-of-type {\n",
              "        vertical-align: middle;\n",
              "    }\n",
              "\n",
              "    .dataframe tbody tr th {\n",
              "        vertical-align: top;\n",
              "    }\n",
              "\n",
              "    .dataframe thead th {\n",
              "        text-align: right;\n",
              "    }\n",
              "</style>\n",
              "<table border=\"1\" class=\"dataframe\">\n",
              "  <thead>\n",
              "    <tr style=\"text-align: right;\">\n",
              "      <th></th>\n",
              "      <th>Dataset</th>\n",
              "      <th>Gender</th>\n",
              "      <th>Age</th>\n",
              "    </tr>\n",
              "  </thead>\n",
              "  <tbody>\n",
              "    <tr>\n",
              "      <th>2</th>\n",
              "      <td>1</td>\n",
              "      <td>Female</td>\n",
              "      <td>43.347826</td>\n",
              "    </tr>\n",
              "    <tr>\n",
              "      <th>3</th>\n",
              "      <td>1</td>\n",
              "      <td>Male</td>\n",
              "      <td>46.950617</td>\n",
              "    </tr>\n",
              "    <tr>\n",
              "      <th>0</th>\n",
              "      <td>0</td>\n",
              "      <td>Female</td>\n",
              "      <td>42.740000</td>\n",
              "    </tr>\n",
              "    <tr>\n",
              "      <th>1</th>\n",
              "      <td>0</td>\n",
              "      <td>Male</td>\n",
              "      <td>40.598291</td>\n",
              "    </tr>\n",
              "  </tbody>\n",
              "</table>\n",
              "</div>\n",
              "    <div class=\"colab-df-buttons\">\n",
              "\n",
              "  <div class=\"colab-df-container\">\n",
              "    <button class=\"colab-df-convert\" onclick=\"convertToInteractive('df-bb524e41-f96f-4074-898b-0d1ec78ee0e5')\"\n",
              "            title=\"Convert this dataframe to an interactive table.\"\n",
              "            style=\"display:none;\">\n",
              "\n",
              "  <svg xmlns=\"http://www.w3.org/2000/svg\" height=\"24px\" viewBox=\"0 -960 960 960\">\n",
              "    <path d=\"M120-120v-720h720v720H120Zm60-500h600v-160H180v160Zm220 220h160v-160H400v160Zm0 220h160v-160H400v160ZM180-400h160v-160H180v160Zm440 0h160v-160H620v160ZM180-180h160v-160H180v160Zm440 0h160v-160H620v160Z\"/>\n",
              "  </svg>\n",
              "    </button>\n",
              "\n",
              "  <style>\n",
              "    .colab-df-container {\n",
              "      display:flex;\n",
              "      gap: 12px;\n",
              "    }\n",
              "\n",
              "    .colab-df-convert {\n",
              "      background-color: #E8F0FE;\n",
              "      border: none;\n",
              "      border-radius: 50%;\n",
              "      cursor: pointer;\n",
              "      display: none;\n",
              "      fill: #1967D2;\n",
              "      height: 32px;\n",
              "      padding: 0 0 0 0;\n",
              "      width: 32px;\n",
              "    }\n",
              "\n",
              "    .colab-df-convert:hover {\n",
              "      background-color: #E2EBFA;\n",
              "      box-shadow: 0px 1px 2px rgba(60, 64, 67, 0.3), 0px 1px 3px 1px rgba(60, 64, 67, 0.15);\n",
              "      fill: #174EA6;\n",
              "    }\n",
              "\n",
              "    .colab-df-buttons div {\n",
              "      margin-bottom: 4px;\n",
              "    }\n",
              "\n",
              "    [theme=dark] .colab-df-convert {\n",
              "      background-color: #3B4455;\n",
              "      fill: #D2E3FC;\n",
              "    }\n",
              "\n",
              "    [theme=dark] .colab-df-convert:hover {\n",
              "      background-color: #434B5C;\n",
              "      box-shadow: 0px 1px 3px 1px rgba(0, 0, 0, 0.15);\n",
              "      filter: drop-shadow(0px 1px 2px rgba(0, 0, 0, 0.3));\n",
              "      fill: #FFFFFF;\n",
              "    }\n",
              "  </style>\n",
              "\n",
              "    <script>\n",
              "      const buttonEl =\n",
              "        document.querySelector('#df-bb524e41-f96f-4074-898b-0d1ec78ee0e5 button.colab-df-convert');\n",
              "      buttonEl.style.display =\n",
              "        google.colab.kernel.accessAllowed ? 'block' : 'none';\n",
              "\n",
              "      async function convertToInteractive(key) {\n",
              "        const element = document.querySelector('#df-bb524e41-f96f-4074-898b-0d1ec78ee0e5');\n",
              "        const dataTable =\n",
              "          await google.colab.kernel.invokeFunction('convertToInteractive',\n",
              "                                                    [key], {});\n",
              "        if (!dataTable) return;\n",
              "\n",
              "        const docLinkHtml = 'Like what you see? Visit the ' +\n",
              "          '<a target=\"_blank\" href=https://colab.research.google.com/notebooks/data_table.ipynb>data table notebook</a>'\n",
              "          + ' to learn more about interactive tables.';\n",
              "        element.innerHTML = '';\n",
              "        dataTable['output_type'] = 'display_data';\n",
              "        await google.colab.output.renderOutput(dataTable, element);\n",
              "        const docLink = document.createElement('div');\n",
              "        docLink.innerHTML = docLinkHtml;\n",
              "        element.appendChild(docLink);\n",
              "      }\n",
              "    </script>\n",
              "  </div>\n",
              "\n",
              "\n",
              "<div id=\"df-7a8863dc-239d-4b9a-9a7a-4f4f2b3d1f50\">\n",
              "  <button class=\"colab-df-quickchart\" onclick=\"quickchart('df-7a8863dc-239d-4b9a-9a7a-4f4f2b3d1f50')\"\n",
              "            title=\"Suggest charts\"\n",
              "            style=\"display:none;\">\n",
              "\n",
              "<svg xmlns=\"http://www.w3.org/2000/svg\" height=\"24px\"viewBox=\"0 0 24 24\"\n",
              "     width=\"24px\">\n",
              "    <g>\n",
              "        <path d=\"M19 3H5c-1.1 0-2 .9-2 2v14c0 1.1.9 2 2 2h14c1.1 0 2-.9 2-2V5c0-1.1-.9-2-2-2zM9 17H7v-7h2v7zm4 0h-2V7h2v10zm4 0h-2v-4h2v4z\"/>\n",
              "    </g>\n",
              "</svg>\n",
              "  </button>\n",
              "\n",
              "<style>\n",
              "  .colab-df-quickchart {\n",
              "      --bg-color: #E8F0FE;\n",
              "      --fill-color: #1967D2;\n",
              "      --hover-bg-color: #E2EBFA;\n",
              "      --hover-fill-color: #174EA6;\n",
              "      --disabled-fill-color: #AAA;\n",
              "      --disabled-bg-color: #DDD;\n",
              "  }\n",
              "\n",
              "  [theme=dark] .colab-df-quickchart {\n",
              "      --bg-color: #3B4455;\n",
              "      --fill-color: #D2E3FC;\n",
              "      --hover-bg-color: #434B5C;\n",
              "      --hover-fill-color: #FFFFFF;\n",
              "      --disabled-bg-color: #3B4455;\n",
              "      --disabled-fill-color: #666;\n",
              "  }\n",
              "\n",
              "  .colab-df-quickchart {\n",
              "    background-color: var(--bg-color);\n",
              "    border: none;\n",
              "    border-radius: 50%;\n",
              "    cursor: pointer;\n",
              "    display: none;\n",
              "    fill: var(--fill-color);\n",
              "    height: 32px;\n",
              "    padding: 0;\n",
              "    width: 32px;\n",
              "  }\n",
              "\n",
              "  .colab-df-quickchart:hover {\n",
              "    background-color: var(--hover-bg-color);\n",
              "    box-shadow: 0 1px 2px rgba(60, 64, 67, 0.3), 0 1px 3px 1px rgba(60, 64, 67, 0.15);\n",
              "    fill: var(--button-hover-fill-color);\n",
              "  }\n",
              "\n",
              "  .colab-df-quickchart-complete:disabled,\n",
              "  .colab-df-quickchart-complete:disabled:hover {\n",
              "    background-color: var(--disabled-bg-color);\n",
              "    fill: var(--disabled-fill-color);\n",
              "    box-shadow: none;\n",
              "  }\n",
              "\n",
              "  .colab-df-spinner {\n",
              "    border: 2px solid var(--fill-color);\n",
              "    border-color: transparent;\n",
              "    border-bottom-color: var(--fill-color);\n",
              "    animation:\n",
              "      spin 1s steps(1) infinite;\n",
              "  }\n",
              "\n",
              "  @keyframes spin {\n",
              "    0% {\n",
              "      border-color: transparent;\n",
              "      border-bottom-color: var(--fill-color);\n",
              "      border-left-color: var(--fill-color);\n",
              "    }\n",
              "    20% {\n",
              "      border-color: transparent;\n",
              "      border-left-color: var(--fill-color);\n",
              "      border-top-color: var(--fill-color);\n",
              "    }\n",
              "    30% {\n",
              "      border-color: transparent;\n",
              "      border-left-color: var(--fill-color);\n",
              "      border-top-color: var(--fill-color);\n",
              "      border-right-color: var(--fill-color);\n",
              "    }\n",
              "    40% {\n",
              "      border-color: transparent;\n",
              "      border-right-color: var(--fill-color);\n",
              "      border-top-color: var(--fill-color);\n",
              "    }\n",
              "    60% {\n",
              "      border-color: transparent;\n",
              "      border-right-color: var(--fill-color);\n",
              "    }\n",
              "    80% {\n",
              "      border-color: transparent;\n",
              "      border-right-color: var(--fill-color);\n",
              "      border-bottom-color: var(--fill-color);\n",
              "    }\n",
              "    90% {\n",
              "      border-color: transparent;\n",
              "      border-bottom-color: var(--fill-color);\n",
              "    }\n",
              "  }\n",
              "</style>\n",
              "\n",
              "  <script>\n",
              "    async function quickchart(key) {\n",
              "      const quickchartButtonEl =\n",
              "        document.querySelector('#' + key + ' button');\n",
              "      quickchartButtonEl.disabled = true;  // To prevent multiple clicks.\n",
              "      quickchartButtonEl.classList.add('colab-df-spinner');\n",
              "      try {\n",
              "        const charts = await google.colab.kernel.invokeFunction(\n",
              "            'suggestCharts', [key], {});\n",
              "      } catch (error) {\n",
              "        console.error('Error during call to suggestCharts:', error);\n",
              "      }\n",
              "      quickchartButtonEl.classList.remove('colab-df-spinner');\n",
              "      quickchartButtonEl.classList.add('colab-df-quickchart-complete');\n",
              "    }\n",
              "    (() => {\n",
              "      let quickchartButtonEl =\n",
              "        document.querySelector('#df-7a8863dc-239d-4b9a-9a7a-4f4f2b3d1f50 button');\n",
              "      quickchartButtonEl.style.display =\n",
              "        google.colab.kernel.accessAllowed ? 'block' : 'none';\n",
              "    })();\n",
              "  </script>\n",
              "</div>\n",
              "\n",
              "    </div>\n",
              "  </div>\n"
            ],
            "text/plain": [
              "   Dataset  Gender        Age\n",
              "2        1  Female  43.347826\n",
              "3        1    Male  46.950617\n",
              "0        0  Female  42.740000\n",
              "1        0    Male  40.598291"
            ]
          },
          "execution_count": 1278,
          "metadata": {},
          "output_type": "execute_result"
        }
      ],
      "source": [
        "df_Liver_Disease[['Gender', 'Dataset','Age']].groupby(['Dataset','Gender'], as_index=False).mean().sort_values(by='Dataset', ascending=False)"
      ]
    },
    {
      "cell_type": "markdown",
      "metadata": {
        "id": "m0NA1hEfpxbv"
      },
      "source": [
        "Seperate the columns into numeric and categorical."
      ]
    },
    {
      "cell_type": "code",
      "execution_count": null,
      "metadata": {
        "colab": {
          "background_save": true
        },
        "id": "EdLnnKxX_LuG"
      },
      "outputs": [],
      "source": [
        "LD_num = ['Age', 'Total_Bilirubin', 'Direct_Bilirubin',\n",
        "       'Alkaline_Phosphotase', 'Alamine_Aminotransferase',\n",
        "       'Aspartate_Aminotransferase', 'Total_Protiens', 'Albumin',\n",
        "       'Albumin_and_Globulin_Ratio']\n",
        "LD_cat = ['Gender','Dataset']"
      ]
    },
    {
      "cell_type": "code",
      "execution_count": null,
      "metadata": {
        "colab": {
          "background_save": true
        },
        "id": "8pCmW8UmS7dW",
        "outputId": "655bc2af-2d71-4740-85ce-d70ca983ae28"
      },
      "outputs": [
        {
          "data": {
            "text/plain": [
              "<Axes: xlabel='Age', ylabel='Count'>"
            ]
          },
          "execution_count": 1282,
          "metadata": {},
          "output_type": "execute_result"
        },
        {
          "data": {
            "image/png": "[encoded data removed]",
            "text/plain": [
              "<Figure size 400x300 with 1 Axes>"
            ]
          },
          "metadata": {},
          "output_type": "display_data"
        }
      ],
      "source": [
        "plt.figure(figsize = (4,3))\n",
        "sns.histplot(df_Liver_Disease[LD_num[0]])"
      ]
    },
    {
      "cell_type": "code",
      "execution_count": null,
      "metadata": {
        "colab": {
          "background_save": true
        },
        "id": "M1OLpBgxKU2a",
        "outputId": "a4537855-b31a-45db-e954-5d5f45e91c4a"
      },
      "outputs": [
        {
          "data": {
            "text/plain": [
              "<Axes: xlabel='Total_Bilirubin', ylabel='Count'>"
            ]
          },
          "execution_count": 1284,
          "metadata": {},
          "output_type": "execute_result"
        },
        {
          "data": {
            "image/png": "[encoded data removed]",
            "text/plain": [
              "<Figure size 400x300 with 1 Axes>"
            ]
          },
          "metadata": {},
          "output_type": "display_data"
        }
      ],
      "source": [
        "plt.figure(figsize = (4,3))\n",
        "sns.histplot(df_Liver_Disease[LD_num[1]])"
      ]
    },
    {
      "cell_type": "code",
      "execution_count": null,
      "metadata": {
        "colab": {
          "background_save": true
        },
        "id": "F3fIigb9KU5M",
        "outputId": "cc83453e-d439-41dd-c493-545a1da23e62"
      },
      "outputs": [
        {
          "data": {
            "text/plain": [
              "<Axes: xlabel='Direct_Bilirubin', ylabel='Count'>"
            ]
          },
          "execution_count": 1286,
          "metadata": {},
          "output_type": "execute_result"
        },
        {
          "data": {
            "image/png": "[encoded data removed]",
            "text/plain": [
              "<Figure size 400x300 with 1 Axes>"
            ]
          },
          "metadata": {},
          "output_type": "display_data"
        }
      ],
      "source": [
        "plt.figure(figsize = (4,3))\n",
        "sns.histplot(df_Liver_Disease[LD_num[2]])"
      ]
    },
    {
      "cell_type": "code",
      "execution_count": null,
      "metadata": {
        "colab": {
          "background_save": true
        },
        "id": "ttpo_o9LLe-T",
        "outputId": "93fc84c8-fe49-4dfd-f5ba-bb8370c89ead"
      },
      "outputs": [
        {
          "data": {
            "text/plain": [
              "<Axes: xlabel='Direct_Bilirubin'>"
            ]
          },
          "execution_count": 1288,
          "metadata": {},
          "output_type": "execute_result"
        },
        {
          "data": {
            "image/png": "[encoded data removed]",
            "text/plain": [
              "<Figure size 400x300 with 1 Axes>"
            ]
          },
          "metadata": {},
          "output_type": "display_data"
        }
      ],
      "source": [
        "plt.figure(figsize = (4,3))\n",
        "sns.boxplot(x=df_Liver_Disease.Direct_Bilirubin)"
      ]
    },
    {
      "cell_type": "code",
      "execution_count": null,
      "metadata": {
        "colab": {
          "background_save": true
        },
        "id": "4bP71wFmKU9N",
        "outputId": "c519d663-aed4-4517-ce7d-c33298b1cacc"
      },
      "outputs": [
        {
          "data": {
            "text/plain": [
              "<Axes: xlabel='Alkaline_Phosphotase', ylabel='Count'>"
            ]
          },
          "execution_count": 1290,
          "metadata": {},
          "output_type": "execute_result"
        },
        {
          "data": {
            "image/png": "[encoded data removed]",
            "text/plain": [
              "<Figure size 400x300 with 1 Axes>"
            ]
          },
          "metadata": {},
          "output_type": "display_data"
        }
      ],
      "source": [
        "plt.figure(figsize = (4,3))\n",
        "sns.histplot(df_Liver_Disease[LD_num[3]])"
      ]
    },
    {
      "cell_type": "code",
      "execution_count": null,
      "metadata": {
        "colab": {
          "background_save": true
        },
        "id": "EroqNdFLKg2N",
        "outputId": "201ffb22-1aee-43ce-b9ff-27410cc15728"
      },
      "outputs": [
        {
          "data": {
            "text/plain": [
              "<Axes: xlabel='Alamine_Aminotransferase', ylabel='Count'>"
            ]
          },
          "execution_count": 1292,
          "metadata": {},
          "output_type": "execute_result"
        },
        {
          "data": {
            "image/png": "[encoded data removed]",
            "text/plain": [
              "<Figure size 400x300 with 1 Axes>"
            ]
          },
          "metadata": {},
          "output_type": "display_data"
        }
      ],
      "source": [
        "plt.figure(figsize = (4,3))\n",
        "sns.histplot(df_Liver_Disease[LD_num[4]])"
      ]
    },
    {
      "cell_type": "code",
      "execution_count": null,
      "metadata": {
        "colab": {
          "background_save": true
        },
        "id": "qIoz0KNKKg4c",
        "outputId": "ff42e250-a724-41a0-e0d0-8158ce3b56fa"
      },
      "outputs": [
        {
          "data": {
            "text/plain": [
              "<Axes: xlabel='Aspartate_Aminotransferase', ylabel='Count'>"
            ]
          },
          "execution_count": 1294,
          "metadata": {},
          "output_type": "execute_result"
        },
        {
          "data": {
            "image/png": "[encoded data removed]",
            "text/plain": [
              "<Figure size 400x300 with 1 Axes>"
            ]
          },
          "metadata": {},
          "output_type": "display_data"
        }
      ],
      "source": [
        "plt.figure(figsize = (4,3))\n",
        "sns.histplot(df_Liver_Disease[LD_num[5]])"
      ]
    },
    {
      "cell_type": "code",
      "execution_count": null,
      "metadata": {
        "colab": {
          "background_save": true
        },
        "id": "5In08KZaKg6a",
        "outputId": "b2cab3e8-04c9-4088-c1c5-1e95901df143"
      },
      "outputs": [
        {
          "data": {
            "text/plain": [
              "<Axes: xlabel='Total_Protiens', ylabel='Count'>"
            ]
          },
          "execution_count": 1296,
          "metadata": {},
          "output_type": "execute_result"
        },
        {
          "data": {
            "image/png": "[encoded data removed]",
            "text/plain": [
              "<Figure size 400x300 with 1 Axes>"
            ]
          },
          "metadata": {},
          "output_type": "display_data"
        }
      ],
      "source": [
        "plt.figure(figsize = (4,3))\n",
        "sns.histplot(df_Liver_Disease[LD_num[6]])"
      ]
    },
    {
      "cell_type": "code",
      "execution_count": null,
      "metadata": {
        "colab": {
          "background_save": true
        },
        "id": "pGW7o8dEKg8d",
        "outputId": "b98cdcb6-d78f-47b5-d2a8-8f74332434f3"
      },
      "outputs": [
        {
          "data": {
            "text/plain": [
              "<Axes: xlabel='Albumin', ylabel='Count'>"
            ]
          },
          "execution_count": 1298,
          "metadata": {},
          "output_type": "execute_result"
        },
        {
          "data": {
            "image/png": "[encoded data removed]",
            "text/plain": [
              "<Figure size 400x300 with 1 Axes>"
            ]
          },
          "metadata": {},
          "output_type": "display_data"
        }
      ],
      "source": [
        "plt.figure(figsize = (4,3))\n",
        "sns.histplot(df_Liver_Disease[LD_num[7]])"
      ]
    },
    {
      "cell_type": "code",
      "execution_count": null,
      "metadata": {
        "colab": {
          "background_save": true
        },
        "id": "eHGMP_LlKg-g",
        "outputId": "d2377e78-e450-46f6-8aa5-62198aba9d77"
      },
      "outputs": [
        {
          "data": {
            "text/plain": [
              "<Axes: xlabel='Albumin_and_Globulin_Ratio', ylabel='Count'>"
            ]
          },
          "execution_count": 1300,
          "metadata": {},
          "output_type": "execute_result"
        },
        {
          "data": {
            "image/png": "[encoded data removed]",
            "text/plain": [
              "<Figure size 400x300 with 1 Axes>"
            ]
          },
          "metadata": {},
          "output_type": "display_data"
        }
      ],
      "source": [
        "plt.figure(figsize = (4,3))\n",
        "sns.histplot(df_Liver_Disease[LD_num[8]])"
      ]
    },
    {
      "cell_type": "markdown",
      "metadata": {
        "id": "ObOfITuBqe1e"
      },
      "source": [
        "There is too much skew. One of the ways to preprocess the skew before training the model is to do **log transformation**."
      ]
    },
    {
      "cell_type": "code",
      "execution_count": null,
      "metadata": {
        "colab": {
          "background_save": true
        },
        "id": "lqiPu_jUMPzP",
        "outputId": "b327013a-f609-4738-f1cd-d1da01463066"
      },
      "outputs": [
        {
          "data": {
            "application/vnd.google.colaboratory.intrinsic+json": {
              "summary": "{\n  \"name\": \"np\",\n  \"rows\": 5,\n  \"fields\": [\n    {\n      \"column\": \"Total_Bilirubin\",\n      \"properties\": {\n        \"dtype\": \"number\",\n        \"std\": 1.2089671130969706,\n        \"min\": -0.35667494393873245,\n        \"max\": 2.388762789235098,\n        \"samples\": [\n          2.388762789235098,\n          1.3609765531356006,\n          1.9878743481543455\n        ],\n        \"num_unique_values\": 5,\n        \"semantic_type\": \"\",\n        \"description\": \"\"\n      }\n    },\n    {\n      \"column\": \"Direct_Bilirubin\",\n      \"properties\": {\n        \"dtype\": \"number\",\n        \"std\": 1.6918457828781468,\n        \"min\": -2.3025850929940455,\n        \"max\": 1.7047480922384253,\n        \"samples\": [\n          1.7047480922384253,\n          0.6931471805599453,\n          1.410986973710262\n        ],\n        \"num_unique_values\": 5,\n        \"semantic_type\": \"\",\n        \"description\": \"\"\n      }\n    },\n    {\n      \"column\": \"Alkaline_Phosphotase\",\n      \"properties\": {\n        \"dtype\": \"number\",\n        \"std\": 0.6352329148515583,\n        \"min\": 5.204006687076795,\n        \"max\": 6.54965074223381,\n        \"samples\": [\n          6.54965074223381,\n          5.272999558563747,\n          6.194405391104672\n        ],\n        \"num_unique_values\": 5,\n        \"semantic_type\": \"\",\n        \"description\": \"\"\n      }\n    },\n    {\n      \"column\": \"Alamine_Aminotransferase\",\n      \"properties\": {\n        \"dtype\": \"number\",\n        \"std\": 0.7143594667407704,\n        \"min\": 2.6390573296152584,\n        \"max\": 4.1588830833596715,\n        \"samples\": [\n          4.1588830833596715,\n          3.295836866004329,\n          4.0943445622221\n        ],\n        \"num_unique_values\": 5,\n        \"semantic_type\": \"\",\n        \"description\": \"\"\n      }\n    },\n    {\n      \"column\": \"Aspartate_Aminotransferase\",\n      \"properties\": {\n        \"dtype\": \"number\",\n        \"std\": 0.7691913208677988,\n        \"min\": 2.8903717578961645,\n        \"max\": 4.605170185988092,\n        \"samples\": [\n          4.605170185988092,\n          4.07753744390572,\n          4.219507705176107\n        ],\n        \"num_unique_values\": 5,\n        \"semantic_type\": \"\",\n        \"description\": \"\"\n      }\n    },\n    {\n      \"column\": \"Albumin_and_Globulin_Ratio\",\n      \"properties\": {\n        \"dtype\": \"number\",\n        \"std\": 0.3676352539708416,\n        \"min\": -0.916290731874155,\n        \"max\": 0.0,\n        \"samples\": [\n          -0.3011050927839216,\n          -0.916290731874155,\n          -0.11653381625595151\n        ],\n        \"num_unique_values\": 5,\n        \"semantic_type\": \"\",\n        \"description\": \"\"\n      }\n    }\n  ]\n}",
              "type": "dataframe"
            },
            "text/html": [
              "\n",
              "  <div id=\"df-25e9912b-fc26-402f-8191-d444fd208fef\" class=\"colab-df-container\">\n",
              "    <div>\n",
              "<style scoped>\n",
              "    .dataframe tbody tr th:only-of-type {\n",
              "        vertical-align: middle;\n",
              "    }\n",
              "\n",
              "    .dataframe tbody tr th {\n",
              "        vertical-align: top;\n",
              "    }\n",
              "\n",
              "    .dataframe thead th {\n",
              "        text-align: right;\n",
              "    }\n",
              "</style>\n",
              "<table border=\"1\" class=\"dataframe\">\n",
              "  <thead>\n",
              "    <tr style=\"text-align: right;\">\n",
              "      <th></th>\n",
              "      <th>Total_Bilirubin</th>\n",
              "      <th>Direct_Bilirubin</th>\n",
              "      <th>Alkaline_Phosphotase</th>\n",
              "      <th>Alamine_Aminotransferase</th>\n",
              "      <th>Aspartate_Aminotransferase</th>\n",
              "      <th>Albumin_and_Globulin_Ratio</th>\n",
              "    </tr>\n",
              "  </thead>\n",
              "  <tbody>\n",
              "    <tr>\n",
              "      <th>0</th>\n",
              "      <td>-0.356675</td>\n",
              "      <td>-2.302585</td>\n",
              "      <td>5.231109</td>\n",
              "      <td>2.772589</td>\n",
              "      <td>2.890372</td>\n",
              "      <td>-0.105361</td>\n",
              "    </tr>\n",
              "    <tr>\n",
              "      <th>1</th>\n",
              "      <td>2.388763</td>\n",
              "      <td>1.704748</td>\n",
              "      <td>6.549651</td>\n",
              "      <td>4.158883</td>\n",
              "      <td>4.605170</td>\n",
              "      <td>-0.301105</td>\n",
              "    </tr>\n",
              "    <tr>\n",
              "      <th>2</th>\n",
              "      <td>1.987874</td>\n",
              "      <td>1.410987</td>\n",
              "      <td>6.194405</td>\n",
              "      <td>4.094345</td>\n",
              "      <td>4.219508</td>\n",
              "      <td>-0.116534</td>\n",
              "    </tr>\n",
              "    <tr>\n",
              "      <th>3</th>\n",
              "      <td>0.000000</td>\n",
              "      <td>-0.916291</td>\n",
              "      <td>5.204007</td>\n",
              "      <td>2.639057</td>\n",
              "      <td>2.995732</td>\n",
              "      <td>0.000000</td>\n",
              "    </tr>\n",
              "    <tr>\n",
              "      <th>4</th>\n",
              "      <td>1.360977</td>\n",
              "      <td>0.693147</td>\n",
              "      <td>5.273000</td>\n",
              "      <td>3.295837</td>\n",
              "      <td>4.077537</td>\n",
              "      <td>-0.916291</td>\n",
              "    </tr>\n",
              "  </tbody>\n",
              "</table>\n",
              "</div>\n",
              "    <div class=\"colab-df-buttons\">\n",
              "\n",
              "  <div class=\"colab-df-container\">\n",
              "    <button class=\"colab-df-convert\" onclick=\"convertToInteractive('df-25e9912b-fc26-402f-8191-d444fd208fef')\"\n",
              "            title=\"Convert this dataframe to an interactive table.\"\n",
              "            style=\"display:none;\">\n",
              "\n",
              "  <svg xmlns=\"http://www.w3.org/2000/svg\" height=\"24px\" viewBox=\"0 -960 960 960\">\n",
              "    <path d=\"M120-120v-720h720v720H120Zm60-500h600v-160H180v160Zm220 220h160v-160H400v160Zm0 220h160v-160H400v160ZM180-400h160v-160H180v160Zm440 0h160v-160H620v160ZM180-180h160v-160H180v160Zm440 0h160v-160H620v160Z\"/>\n",
              "  </svg>\n",
              "    </button>\n",
              "\n",
              "  <style>\n",
              "    .colab-df-container {\n",
              "      display:flex;\n",
              "      gap: 12px;\n",
              "    }\n",
              "\n",
              "    .colab-df-convert {\n",
              "      background-color: #E8F0FE;\n",
              "      border: none;\n",
              "      border-radius: 50%;\n",
              "      cursor: pointer;\n",
              "      display: none;\n",
              "      fill: #1967D2;\n",
              "      height: 32px;\n",
              "      padding: 0 0 0 0;\n",
              "      width: 32px;\n",
              "    }\n",
              "\n",
              "    .colab-df-convert:hover {\n",
              "      background-color: #E2EBFA;\n",
              "      box-shadow: 0px 1px 2px rgba(60, 64, 67, 0.3), 0px 1px 3px 1px rgba(60, 64, 67, 0.15);\n",
              "      fill: #174EA6;\n",
              "    }\n",
              "\n",
              "    .colab-df-buttons div {\n",
              "      margin-bottom: 4px;\n",
              "    }\n",
              "\n",
              "    [theme=dark] .colab-df-convert {\n",
              "      background-color: #3B4455;\n",
              "      fill: #D2E3FC;\n",
              "    }\n",
              "\n",
              "    [theme=dark] .colab-df-convert:hover {\n",
              "      background-color: #434B5C;\n",
              "      box-shadow: 0px 1px 3px 1px rgba(0, 0, 0, 0.15);\n",
              "      filter: drop-shadow(0px 1px 2px rgba(0, 0, 0, 0.3));\n",
              "      fill: #FFFFFF;\n",
              "    }\n",
              "  </style>\n",
              "\n",
              "    <script>\n",
              "      const buttonEl =\n",
              "        document.querySelector('#df-25e9912b-fc26-402f-8191-d444fd208fef button.colab-df-convert');\n",
              "      buttonEl.style.display =\n",
              "        google.colab.kernel.accessAllowed ? 'block' : 'none';\n",
              "\n",
              "      async function convertToInteractive(key) {\n",
              "        const element = document.querySelector('#df-25e9912b-fc26-402f-8191-d444fd208fef');\n",
              "        const dataTable =\n",
              "          await google.colab.kernel.invokeFunction('convertToInteractive',\n",
              "                                                    [key], {});\n",
              "        if (!dataTable) return;\n",
              "\n",
              "        const docLinkHtml = 'Like what you see? Visit the ' +\n",
              "          '<a target=\"_blank\" href=https://colab.research.google.com/notebooks/data_table.ipynb>data table notebook</a>'\n",
              "          + ' to learn more about interactive tables.';\n",
              "        element.innerHTML = '';\n",
              "        dataTable['output_type'] = 'display_data';\n",
              "        await google.colab.output.renderOutput(dataTable, element);\n",
              "        const docLink = document.createElement('div');\n",
              "        docLink.innerHTML = docLinkHtml;\n",
              "        element.appendChild(docLink);\n",
              "      }\n",
              "    </script>\n",
              "  </div>\n",
              "\n",
              "\n",
              "<div id=\"df-d2f938f4-1891-45c4-b5d2-cff27bbde5bf\">\n",
              "  <button class=\"colab-df-quickchart\" onclick=\"quickchart('df-d2f938f4-1891-45c4-b5d2-cff27bbde5bf')\"\n",
              "            title=\"Suggest charts\"\n",
              "            style=\"display:none;\">\n",
              "\n",
              "<svg xmlns=\"http://www.w3.org/2000/svg\" height=\"24px\"viewBox=\"0 0 24 24\"\n",
              "     width=\"24px\">\n",
              "    <g>\n",
              "        <path d=\"M19 3H5c-1.1 0-2 .9-2 2v14c0 1.1.9 2 2 2h14c1.1 0 2-.9 2-2V5c0-1.1-.9-2-2-2zM9 17H7v-7h2v7zm4 0h-2V7h2v10zm4 0h-2v-4h2v4z\"/>\n",
              "    </g>\n",
              "</svg>\n",
              "  </button>\n",
              "\n",
              "<style>\n",
              "  .colab-df-quickchart {\n",
              "      --bg-color: #E8F0FE;\n",
              "      --fill-color: #1967D2;\n",
              "      --hover-bg-color: #E2EBFA;\n",
              "      --hover-fill-color: #174EA6;\n",
              "      --disabled-fill-color: #AAA;\n",
              "      --disabled-bg-color: #DDD;\n",
              "  }\n",
              "\n",
              "  [theme=dark] .colab-df-quickchart {\n",
              "      --bg-color: #3B4455;\n",
              "      --fill-color: #D2E3FC;\n",
              "      --hover-bg-color: #434B5C;\n",
              "      --hover-fill-color: #FFFFFF;\n",
              "      --disabled-bg-color: #3B4455;\n",
              "      --disabled-fill-color: #666;\n",
              "  }\n",
              "\n",
              "  .colab-df-quickchart {\n",
              "    background-color: var(--bg-color);\n",
              "    border: none;\n",
              "    border-radius: 50%;\n",
              "    cursor: pointer;\n",
              "    display: none;\n",
              "    fill: var(--fill-color);\n",
              "    height: 32px;\n",
              "    padding: 0;\n",
              "    width: 32px;\n",
              "  }\n",
              "\n",
              "  .colab-df-quickchart:hover {\n",
              "    background-color: var(--hover-bg-color);\n",
              "    box-shadow: 0 1px 2px rgba(60, 64, 67, 0.3), 0 1px 3px 1px rgba(60, 64, 67, 0.15);\n",
              "    fill: var(--button-hover-fill-color);\n",
              "  }\n",
              "\n",
              "  .colab-df-quickchart-complete:disabled,\n",
              "  .colab-df-quickchart-complete:disabled:hover {\n",
              "    background-color: var(--disabled-bg-color);\n",
              "    fill: var(--disabled-fill-color);\n",
              "    box-shadow: none;\n",
              "  }\n",
              "\n",
              "  .colab-df-spinner {\n",
              "    border: 2px solid var(--fill-color);\n",
              "    border-color: transparent;\n",
              "    border-bottom-color: var(--fill-color);\n",
              "    animation:\n",
              "      spin 1s steps(1) infinite;\n",
              "  }\n",
              "\n",
              "  @keyframes spin {\n",
              "    0% {\n",
              "      border-color: transparent;\n",
              "      border-bottom-color: var(--fill-color);\n",
              "      border-left-color: var(--fill-color);\n",
              "    }\n",
              "    20% {\n",
              "      border-color: transparent;\n",
              "      border-left-color: var(--fill-color);\n",
              "      border-top-color: var(--fill-color);\n",
              "    }\n",
              "    30% {\n",
              "      border-color: transparent;\n",
              "      border-left-color: var(--fill-color);\n",
              "      border-top-color: var(--fill-color);\n",
              "      border-right-color: var(--fill-color);\n",
              "    }\n",
              "    40% {\n",
              "      border-color: transparent;\n",
              "      border-right-color: var(--fill-color);\n",
              "      border-top-color: var(--fill-color);\n",
              "    }\n",
              "    60% {\n",
              "      border-color: transparent;\n",
              "      border-right-color: var(--fill-color);\n",
              "    }\n",
              "    80% {\n",
              "      border-color: transparent;\n",
              "      border-right-color: var(--fill-color);\n",
              "      border-bottom-color: var(--fill-color);\n",
              "    }\n",
              "    90% {\n",
              "      border-color: transparent;\n",
              "      border-bottom-color: var(--fill-color);\n",
              "    }\n",
              "  }\n",
              "</style>\n",
              "\n",
              "  <script>\n",
              "    async function quickchart(key) {\n",
              "      const quickchartButtonEl =\n",
              "        document.querySelector('#' + key + ' button');\n",
              "      quickchartButtonEl.disabled = true;  // To prevent multiple clicks.\n",
              "      quickchartButtonEl.classList.add('colab-df-spinner');\n",
              "      try {\n",
              "        const charts = await google.colab.kernel.invokeFunction(\n",
              "            'suggestCharts', [key], {});\n",
              "      } catch (error) {\n",
              "        console.error('Error during call to suggestCharts:', error);\n",
              "      }\n",
              "      quickchartButtonEl.classList.remove('colab-df-spinner');\n",
              "      quickchartButtonEl.classList.add('colab-df-quickchart-complete');\n",
              "    }\n",
              "    (() => {\n",
              "      let quickchartButtonEl =\n",
              "        document.querySelector('#df-d2f938f4-1891-45c4-b5d2-cff27bbde5bf button');\n",
              "      quickchartButtonEl.style.display =\n",
              "        google.colab.kernel.accessAllowed ? 'block' : 'none';\n",
              "    })();\n",
              "  </script>\n",
              "</div>\n",
              "\n",
              "    </div>\n",
              "  </div>\n"
            ],
            "text/plain": [
              "   Total_Bilirubin  Direct_Bilirubin  Alkaline_Phosphotase  \\\n",
              "0        -0.356675         -2.302585              5.231109   \n",
              "1         2.388763          1.704748              6.549651   \n",
              "2         1.987874          1.410987              6.194405   \n",
              "3         0.000000         -0.916291              5.204007   \n",
              "4         1.360977          0.693147              5.273000   \n",
              "\n",
              "   Alamine_Aminotransferase  Aspartate_Aminotransferase  \\\n",
              "0                  2.772589                    2.890372   \n",
              "1                  4.158883                    4.605170   \n",
              "2                  4.094345                    4.219508   \n",
              "3                  2.639057                    2.995732   \n",
              "4                  3.295837                    4.077537   \n",
              "\n",
              "   Albumin_and_Globulin_Ratio  \n",
              "0                   -0.105361  \n",
              "1                   -0.301105  \n",
              "2                   -0.116534  \n",
              "3                    0.000000  \n",
              "4                   -0.916291  "
            ]
          },
          "execution_count": 1302,
          "metadata": {},
          "output_type": "execute_result"
        }
      ],
      "source": [
        "skew_LD_col= ['Total_Bilirubin', 'Direct_Bilirubin',\n",
        "       'Alkaline_Phosphotase', 'Alamine_Aminotransferase',\n",
        "       'Aspartate_Aminotransferase', 'Albumin_and_Globulin_Ratio']\n",
        "\n",
        "np.log(df_Liver_Disease[skew_LD_col]).head()"
      ]
    },
    {
      "cell_type": "markdown",
      "metadata": {
        "id": "cKGsTksOrG4n"
      },
      "source": [
        "We can build function for log transformation for later use."
      ]
    },
    {
      "cell_type": "code",
      "execution_count": null,
      "metadata": {
        "colab": {
          "background_save": true
        },
        "id": "B66L2eWaM0zW",
        "outputId": "e2d05361-e9e8-4c99-af00-7d3c99f1af62"
      },
      "outputs": [
        {
          "data": {
            "application/vnd.google.colaboratory.intrinsic+json": {
              "summary": "{\n  \"name\": \"log_trans(skew_LD_col)\",\n  \"rows\": 5,\n  \"fields\": [\n    {\n      \"column\": \"Age\",\n      \"properties\": {\n        \"dtype\": \"number\",\n        \"std\": 5,\n        \"min\": 58,\n        \"max\": 72,\n        \"samples\": [\n          62,\n          72,\n          65\n        ],\n        \"num_unique_values\": 4,\n        \"semantic_type\": \"\",\n        \"description\": \"\"\n      }\n    },\n    {\n      \"column\": \"Gender\",\n      \"properties\": {\n        \"dtype\": \"category\",\n        \"samples\": [\n          \"Male\",\n          \"Female\"\n        ],\n        \"num_unique_values\": 2,\n        \"semantic_type\": \"\",\n        \"description\": \"\"\n      }\n    },\n    {\n      \"column\": \"Total_Bilirubin\",\n      \"properties\": {\n        \"dtype\": \"number\",\n        \"std\": 1.2089671130969706,\n        \"min\": -0.35667494393873245,\n        \"max\": 2.388762789235098,\n        \"samples\": [\n          2.388762789235098,\n          1.3609765531356006\n        ],\n        \"num_unique_values\": 5,\n        \"semantic_type\": \"\",\n        \"description\": \"\"\n      }\n    },\n    {\n      \"column\": \"Direct_Bilirubin\",\n      \"properties\": {\n        \"dtype\": \"number\",\n        \"std\": 1.6918457828781468,\n        \"min\": -2.3025850929940455,\n        \"max\": 1.7047480922384253,\n        \"samples\": [\n          1.7047480922384253,\n          0.6931471805599453\n        ],\n        \"num_unique_values\": 5,\n        \"semantic_type\": \"\",\n        \"description\": \"\"\n      }\n    },\n    {\n      \"column\": \"Alkaline_Phosphotase\",\n      \"properties\": {\n        \"dtype\": \"number\",\n        \"std\": 0.6352329148515583,\n        \"min\": 5.204006687076795,\n        \"max\": 6.54965074223381,\n        \"samples\": [\n          6.54965074223381,\n          5.272999558563747\n        ],\n        \"num_unique_values\": 5,\n        \"semantic_type\": \"\",\n        \"description\": \"\"\n      }\n    },\n    {\n      \"column\": \"Alamine_Aminotransferase\",\n      \"properties\": {\n        \"dtype\": \"number\",\n        \"std\": 0.7143594667407704,\n        \"min\": 2.6390573296152584,\n        \"max\": 4.1588830833596715,\n        \"samples\": [\n          4.1588830833596715,\n          3.295836866004329\n        ],\n        \"num_unique_values\": 5,\n        \"semantic_type\": \"\",\n        \"description\": \"\"\n      }\n    },\n    {\n      \"column\": \"Aspartate_Aminotransferase\",\n      \"properties\": {\n        \"dtype\": \"number\",\n        \"std\": 0.7691913208677988,\n        \"min\": 2.8903717578961645,\n        \"max\": 4.605170185988092,\n        \"samples\": [\n          4.605170185988092,\n          4.07753744390572\n        ],\n        \"num_unique_values\": 5,\n        \"semantic_type\": \"\",\n        \"description\": \"\"\n      }\n    },\n    {\n      \"column\": \"Total_Protiens\",\n      \"properties\": {\n        \"dtype\": \"number\",\n        \"std\": 0.3114482300479488,\n        \"min\": 6.8,\n        \"max\": 7.5,\n        \"samples\": [\n          7.5,\n          7.3\n        ],\n        \"num_unique_values\": 4,\n        \"semantic_type\": \"\",\n        \"description\": \"\"\n      }\n    },\n    {\n      \"column\": \"Albumin\",\n      \"properties\": {\n        \"dtype\": \"number\",\n        \"std\": 0.408656334834051,\n        \"min\": 2.4,\n        \"max\": 3.4,\n        \"samples\": [\n          3.2,\n          2.4\n        ],\n        \"num_unique_values\": 4,\n        \"semantic_type\": \"\",\n        \"description\": \"\"\n      }\n    },\n    {\n      \"column\": \"Albumin_and_Globulin_Ratio\",\n      \"properties\": {\n        \"dtype\": \"number\",\n        \"std\": 0.3676352539708416,\n        \"min\": -0.916290731874155,\n        \"max\": 0.0,\n        \"samples\": [\n          -0.3011050927839216,\n          -0.916290731874155\n        ],\n        \"num_unique_values\": 5,\n        \"semantic_type\": \"\",\n        \"description\": \"\"\n      }\n    },\n    {\n      \"column\": \"Dataset\",\n      \"properties\": {\n        \"dtype\": \"number\",\n        \"std\": 0,\n        \"min\": 1,\n        \"max\": 1,\n        \"samples\": [\n          1\n        ],\n        \"num_unique_values\": 1,\n        \"semantic_type\": \"\",\n        \"description\": \"\"\n      }\n    }\n  ]\n}",
              "type": "dataframe"
            },
            "text/html": [
              "\n",
              "  <div id=\"df-eb88be5f-bb68-4f8b-9630-f5b7e209c91c\" class=\"colab-df-container\">\n",
              "    <div>\n",
              "<style scoped>\n",
              "    .dataframe tbody tr th:only-of-type {\n",
              "        vertical-align: middle;\n",
              "    }\n",
              "\n",
              "    .dataframe tbody tr th {\n",
              "        vertical-align: top;\n",
              "    }\n",
              "\n",
              "    .dataframe thead th {\n",
              "        text-align: right;\n",
              "    }\n",
              "</style>\n",
              "<table border=\"1\" class=\"dataframe\">\n",
              "  <thead>\n",
              "    <tr style=\"text-align: right;\">\n",
              "      <th></th>\n",
              "      <th>Age</th>\n",
              "      <th>Gender</th>\n",
              "      <th>Total_Bilirubin</th>\n",
              "      <th>Direct_Bilirubin</th>\n",
              "      <th>Alkaline_Phosphotase</th>\n",
              "      <th>Alamine_Aminotransferase</th>\n",
              "      <th>Aspartate_Aminotransferase</th>\n",
              "      <th>Total_Protiens</th>\n",
              "      <th>Albumin</th>\n",
              "      <th>Albumin_and_Globulin_Ratio</th>\n",
              "      <th>Dataset</th>\n",
              "    </tr>\n",
              "  </thead>\n",
              "  <tbody>\n",
              "    <tr>\n",
              "      <th>0</th>\n",
              "      <td>65</td>\n",
              "      <td>Female</td>\n",
              "      <td>-0.356675</td>\n",
              "      <td>-2.302585</td>\n",
              "      <td>5.231109</td>\n",
              "      <td>2.772589</td>\n",
              "      <td>2.890372</td>\n",
              "      <td>6.8</td>\n",
              "      <td>3.3</td>\n",
              "      <td>-0.105361</td>\n",
              "      <td>1</td>\n",
              "    </tr>\n",
              "    <tr>\n",
              "      <th>1</th>\n",
              "      <td>62</td>\n",
              "      <td>Male</td>\n",
              "      <td>2.388763</td>\n",
              "      <td>1.704748</td>\n",
              "      <td>6.549651</td>\n",
              "      <td>4.158883</td>\n",
              "      <td>4.605170</td>\n",
              "      <td>7.5</td>\n",
              "      <td>3.2</td>\n",
              "      <td>-0.301105</td>\n",
              "      <td>1</td>\n",
              "    </tr>\n",
              "    <tr>\n",
              "      <th>2</th>\n",
              "      <td>62</td>\n",
              "      <td>Male</td>\n",
              "      <td>1.987874</td>\n",
              "      <td>1.410987</td>\n",
              "      <td>6.194405</td>\n",
              "      <td>4.094345</td>\n",
              "      <td>4.219508</td>\n",
              "      <td>7.0</td>\n",
              "      <td>3.3</td>\n",
              "      <td>-0.116534</td>\n",
              "      <td>1</td>\n",
              "    </tr>\n",
              "    <tr>\n",
              "      <th>3</th>\n",
              "      <td>58</td>\n",
              "      <td>Male</td>\n",
              "      <td>0.000000</td>\n",
              "      <td>-0.916291</td>\n",
              "      <td>5.204007</td>\n",
              "      <td>2.639057</td>\n",
              "      <td>2.995732</td>\n",
              "      <td>6.8</td>\n",
              "      <td>3.4</td>\n",
              "      <td>0.000000</td>\n",
              "      <td>1</td>\n",
              "    </tr>\n",
              "    <tr>\n",
              "      <th>4</th>\n",
              "      <td>72</td>\n",
              "      <td>Male</td>\n",
              "      <td>1.360977</td>\n",
              "      <td>0.693147</td>\n",
              "      <td>5.273000</td>\n",
              "      <td>3.295837</td>\n",
              "      <td>4.077537</td>\n",
              "      <td>7.3</td>\n",
              "      <td>2.4</td>\n",
              "      <td>-0.916291</td>\n",
              "      <td>1</td>\n",
              "    </tr>\n",
              "  </tbody>\n",
              "</table>\n",
              "</div>\n",
              "    <div class=\"colab-df-buttons\">\n",
              "\n",
              "  <div class=\"colab-df-container\">\n",
              "    <button class=\"colab-df-convert\" onclick=\"convertToInteractive('df-eb88be5f-bb68-4f8b-9630-f5b7e209c91c')\"\n",
              "            title=\"Convert this dataframe to an interactive table.\"\n",
              "            style=\"display:none;\">\n",
              "\n",
              "  <svg xmlns=\"http://www.w3.org/2000/svg\" height=\"24px\" viewBox=\"0 -960 960 960\">\n",
              "    <path d=\"M120-120v-720h720v720H120Zm60-500h600v-160H180v160Zm220 220h160v-160H400v160Zm0 220h160v-160H400v160ZM180-400h160v-160H180v160Zm440 0h160v-160H620v160ZM180-180h160v-160H180v160Zm440 0h160v-160H620v160Z\"/>\n",
              "  </svg>\n",
              "    </button>\n",
              "\n",
              "  <style>\n",
              "    .colab-df-container {\n",
              "      display:flex;\n",
              "      gap: 12px;\n",
              "    }\n",
              "\n",
              "    .colab-df-convert {\n",
              "      background-color: #E8F0FE;\n",
              "      border: none;\n",
              "      border-radius: 50%;\n",
              "      cursor: pointer;\n",
              "      display: none;\n",
              "      fill: #1967D2;\n",
              "      height: 32px;\n",
              "      padding: 0 0 0 0;\n",
              "      width: 32px;\n",
              "    }\n",
              "\n",
              "    .colab-df-convert:hover {\n",
              "      background-color: #E2EBFA;\n",
              "      box-shadow: 0px 1px 2px rgba(60, 64, 67, 0.3), 0px 1px 3px 1px rgba(60, 64, 67, 0.15);\n",
              "      fill: #174EA6;\n",
              "    }\n",
              "\n",
              "    .colab-df-buttons div {\n",
              "      margin-bottom: 4px;\n",
              "    }\n",
              "\n",
              "    [theme=dark] .colab-df-convert {\n",
              "      background-color: #3B4455;\n",
              "      fill: #D2E3FC;\n",
              "    }\n",
              "\n",
              "    [theme=dark] .colab-df-convert:hover {\n",
              "      background-color: #434B5C;\n",
              "      box-shadow: 0px 1px 3px 1px rgba(0, 0, 0, 0.15);\n",
              "      filter: drop-shadow(0px 1px 2px rgba(0, 0, 0, 0.3));\n",
              "      fill: #FFFFFF;\n",
              "    }\n",
              "  </style>\n",
              "\n",
              "    <script>\n",
              "      const buttonEl =\n",
              "        document.querySelector('#df-eb88be5f-bb68-4f8b-9630-f5b7e209c91c button.colab-df-convert');\n",
              "      buttonEl.style.display =\n",
              "        google.colab.kernel.accessAllowed ? 'block' : 'none';\n",
              "\n",
              "      async function convertToInteractive(key) {\n",
              "        const element = document.querySelector('#df-eb88be5f-bb68-4f8b-9630-f5b7e209c91c');\n",
              "        const dataTable =\n",
              "          await google.colab.kernel.invokeFunction('convertToInteractive',\n",
              "                                                    [key], {});\n",
              "        if (!dataTable) return;\n",
              "\n",
              "        const docLinkHtml = 'Like what you see? Visit the ' +\n",
              "          '<a target=\"_blank\" href=https://colab.research.google.com/notebooks/data_table.ipynb>data table notebook</a>'\n",
              "          + ' to learn more about interactive tables.';\n",
              "        element.innerHTML = '';\n",
              "        dataTable['output_type'] = 'display_data';\n",
              "        await google.colab.output.renderOutput(dataTable, element);\n",
              "        const docLink = document.createElement('div');\n",
              "        docLink.innerHTML = docLinkHtml;\n",
              "        element.appendChild(docLink);\n",
              "      }\n",
              "    </script>\n",
              "  </div>\n",
              "\n",
              "\n",
              "<div id=\"df-8eaaa416-6069-46ee-aa14-c61b454ad188\">\n",
              "  <button class=\"colab-df-quickchart\" onclick=\"quickchart('df-8eaaa416-6069-46ee-aa14-c61b454ad188')\"\n",
              "            title=\"Suggest charts\"\n",
              "            style=\"display:none;\">\n",
              "\n",
              "<svg xmlns=\"http://www.w3.org/2000/svg\" height=\"24px\"viewBox=\"0 0 24 24\"\n",
              "     width=\"24px\">\n",
              "    <g>\n",
              "        <path d=\"M19 3H5c-1.1 0-2 .9-2 2v14c0 1.1.9 2 2 2h14c1.1 0 2-.9 2-2V5c0-1.1-.9-2-2-2zM9 17H7v-7h2v7zm4 0h-2V7h2v10zm4 0h-2v-4h2v4z\"/>\n",
              "    </g>\n",
              "</svg>\n",
              "  </button>\n",
              "\n",
              "<style>\n",
              "  .colab-df-quickchart {\n",
              "      --bg-color: #E8F0FE;\n",
              "      --fill-color: #1967D2;\n",
              "      --hover-bg-color: #E2EBFA;\n",
              "      --hover-fill-color: #174EA6;\n",
              "      --disabled-fill-color: #AAA;\n",
              "      --disabled-bg-color: #DDD;\n",
              "  }\n",
              "\n",
              "  [theme=dark] .colab-df-quickchart {\n",
              "      --bg-color: #3B4455;\n",
              "      --fill-color: #D2E3FC;\n",
              "      --hover-bg-color: #434B5C;\n",
              "      --hover-fill-color: #FFFFFF;\n",
              "      --disabled-bg-color: #3B4455;\n",
              "      --disabled-fill-color: #666;\n",
              "  }\n",
              "\n",
              "  .colab-df-quickchart {\n",
              "    background-color: var(--bg-color);\n",
              "    border: none;\n",
              "    border-radius: 50%;\n",
              "    cursor: pointer;\n",
              "    display: none;\n",
              "    fill: var(--fill-color);\n",
              "    height: 32px;\n",
              "    padding: 0;\n",
              "    width: 32px;\n",
              "  }\n",
              "\n",
              "  .colab-df-quickchart:hover {\n",
              "    background-color: var(--hover-bg-color);\n",
              "    box-shadow: 0 1px 2px rgba(60, 64, 67, 0.3), 0 1px 3px 1px rgba(60, 64, 67, 0.15);\n",
              "    fill: var(--button-hover-fill-color);\n",
              "  }\n",
              "\n",
              "  .colab-df-quickchart-complete:disabled,\n",
              "  .colab-df-quickchart-complete:disabled:hover {\n",
              "    background-color: var(--disabled-bg-color);\n",
              "    fill: var(--disabled-fill-color);\n",
              "    box-shadow: none;\n",
              "  }\n",
              "\n",
              "  .colab-df-spinner {\n",
              "    border: 2px solid var(--fill-color);\n",
              "    border-color: transparent;\n",
              "    border-bottom-color: var(--fill-color);\n",
              "    animation:\n",
              "      spin 1s steps(1) infinite;\n",
              "  }\n",
              "\n",
              "  @keyframes spin {\n",
              "    0% {\n",
              "      border-color: transparent;\n",
              "      border-bottom-color: var(--fill-color);\n",
              "      border-left-color: var(--fill-color);\n",
              "    }\n",
              "    20% {\n",
              "      border-color: transparent;\n",
              "      border-left-color: var(--fill-color);\n",
              "      border-top-color: var(--fill-color);\n",
              "    }\n",
              "    30% {\n",
              "      border-color: transparent;\n",
              "      border-left-color: var(--fill-color);\n",
              "      border-top-color: var(--fill-color);\n",
              "      border-right-color: var(--fill-color);\n",
              "    }\n",
              "    40% {\n",
              "      border-color: transparent;\n",
              "      border-right-color: var(--fill-color);\n",
              "      border-top-color: var(--fill-color);\n",
              "    }\n",
              "    60% {\n",
              "      border-color: transparent;\n",
              "      border-right-color: var(--fill-color);\n",
              "    }\n",
              "    80% {\n",
              "      border-color: transparent;\n",
              "      border-right-color: var(--fill-color);\n",
              "      border-bottom-color: var(--fill-color);\n",
              "    }\n",
              "    90% {\n",
              "      border-color: transparent;\n",
              "      border-bottom-color: var(--fill-color);\n",
              "    }\n",
              "  }\n",
              "</style>\n",
              "\n",
              "  <script>\n",
              "    async function quickchart(key) {\n",
              "      const quickchartButtonEl =\n",
              "        document.querySelector('#' + key + ' button');\n",
              "      quickchartButtonEl.disabled = true;  // To prevent multiple clicks.\n",
              "      quickchartButtonEl.classList.add('colab-df-spinner');\n",
              "      try {\n",
              "        const charts = await google.colab.kernel.invokeFunction(\n",
              "            'suggestCharts', [key], {});\n",
              "      } catch (error) {\n",
              "        console.error('Error during call to suggestCharts:', error);\n",
              "      }\n",
              "      quickchartButtonEl.classList.remove('colab-df-spinner');\n",
              "      quickchartButtonEl.classList.add('colab-df-quickchart-complete');\n",
              "    }\n",
              "    (() => {\n",
              "      let quickchartButtonEl =\n",
              "        document.querySelector('#df-8eaaa416-6069-46ee-aa14-c61b454ad188 button');\n",
              "      quickchartButtonEl.style.display =\n",
              "        google.colab.kernel.accessAllowed ? 'block' : 'none';\n",
              "    })();\n",
              "  </script>\n",
              "</div>\n",
              "\n",
              "    </div>\n",
              "  </div>\n"
            ],
            "text/plain": [
              "   Age  Gender  Total_Bilirubin  Direct_Bilirubin  Alkaline_Phosphotase  \\\n",
              "0   65  Female        -0.356675         -2.302585              5.231109   \n",
              "1   62    Male         2.388763          1.704748              6.549651   \n",
              "2   62    Male         1.987874          1.410987              6.194405   \n",
              "3   58    Male         0.000000         -0.916291              5.204007   \n",
              "4   72    Male         1.360977          0.693147              5.273000   \n",
              "\n",
              "   Alamine_Aminotransferase  Aspartate_Aminotransferase  Total_Protiens  \\\n",
              "0                  2.772589                    2.890372             6.8   \n",
              "1                  4.158883                    4.605170             7.5   \n",
              "2                  4.094345                    4.219508             7.0   \n",
              "3                  2.639057                    2.995732             6.8   \n",
              "4                  3.295837                    4.077537             7.3   \n",
              "\n",
              "   Albumin  Albumin_and_Globulin_Ratio  Dataset  \n",
              "0      3.3                   -0.105361        1  \n",
              "1      3.2                   -0.301105        1  \n",
              "2      3.3                   -0.116534        1  \n",
              "3      3.4                    0.000000        1  \n",
              "4      2.4                   -0.916291        1  "
            ]
          },
          "execution_count": 1304,
          "metadata": {},
          "output_type": "execute_result"
        }
      ],
      "source": [
        "#note: How do you handle negative values in log transformation? add a constant value to the data prior to applying the log transform. The transformation is therefore log(Y+a) where a is the constant. Some people like to choose a so that min(Y+a) is a very small positive number (like 0.001).\n",
        "def log_trans(skew_LD_col):\n",
        "  df_Liver_Disease[skew_LD_col] = ((np.log(df_Liver_Disease[skew_LD_col])))\n",
        "  return df_Liver_Disease.head()\n",
        "\n",
        "log_trans(skew_LD_col)"
      ]
    },
    {
      "cell_type": "markdown",
      "metadata": {
        "id": "FEneWkrnrSsf"
      },
      "source": [
        "After log transformation, the skew is improved."
      ]
    },
    {
      "cell_type": "code",
      "execution_count": null,
      "metadata": {
        "colab": {
          "background_save": true
        },
        "id": "cweWTuU_rgQ_",
        "outputId": "4bd53b92-9960-4af3-e9e0-807aa59af407"
      },
      "outputs": [
        {
          "data": {
            "text/plain": [
              "<Axes: xlabel='Total_Bilirubin', ylabel='Count'>"
            ]
          },
          "execution_count": 1306,
          "metadata": {},
          "output_type": "execute_result"
        },
        {
          "data": {
            "image/png": "[encoded data removed]",
            "text/plain": [
              "<Figure size 400x300 with 1 Axes>"
            ]
          },
          "metadata": {},
          "output_type": "display_data"
        }
      ],
      "source": [
        "# before log transformation\n",
        "plt.figure(figsize = (4,3))\n",
        "sns.histplot(x = df_Liver_Disease.Total_Bilirubin)"
      ]
    },
    {
      "cell_type": "code",
      "execution_count": null,
      "metadata": {
        "colab": {
          "background_save": true
        },
        "id": "8LK5W9L7OMWR",
        "outputId": "6ec62819-bd00-4676-9a3d-ffe5f2356982"
      },
      "outputs": [
        {
          "name": "stderr",
          "output_type": "stream",
          "text": [
            "/usr/local/lib/python3.10/dist-packages/pandas/core/arraylike.py:402: RuntimeWarning: invalid value encountered in log\n",
            "  result = getattr(ufunc, method)(*inputs, **kwargs)\n"
          ]
        },
        {
          "data": {
            "text/plain": [
              "<Axes: xlabel='Total_Bilirubin', ylabel='Count'>"
            ]
          },
          "execution_count": 1308,
          "metadata": {},
          "output_type": "execute_result"
        },
        {
          "data": {
            "image/png": "[encoded data removed]",
            "text/plain": [
              "<Figure size 400x300 with 1 Axes>"
            ]
          },
          "metadata": {},
          "output_type": "display_data"
        }
      ],
      "source": [
        "# after log transformation\n",
        "plt.figure(figsize = (4,3))\n",
        "sns.histplot(x = np.log(df_Liver_Disease.Total_Bilirubin))"
      ]
    },
    {
      "cell_type": "markdown",
      "metadata": {
        "id": "Hs22-SqQmshU"
      },
      "source": [
        "# **👩 Breast Cancer Dataset**"
      ]
    },
    {
      "cell_type": "code",
      "execution_count": null,
      "metadata": {
        "colab": {
          "background_save": true
        },
        "id": "mq-tPusgs_lE",
        "outputId": "0d8ef179-dabe-480c-d2cd-d72abf649d5f"
      },
      "outputs": [
        {
          "data": {
            "application/vnd.google.colaboratory.intrinsic+json": {
              "type": "dataframe",
              "variable_name": "df_Breast_Cancer"
            },
            "text/html": [
              "\n",
              "  <div id=\"df-72f7ea2e-943e-4508-9ad2-dc76b50602c6\" class=\"colab-df-container\">\n",
              "    <div>\n",
              "<style scoped>\n",
              "    .dataframe tbody tr th:only-of-type {\n",
              "        vertical-align: middle;\n",
              "    }\n",
              "\n",
              "    .dataframe tbody tr th {\n",
              "        vertical-align: top;\n",
              "    }\n",
              "\n",
              "    .dataframe thead th {\n",
              "        text-align: right;\n",
              "    }\n",
              "</style>\n",
              "<table border=\"1\" class=\"dataframe\">\n",
              "  <thead>\n",
              "    <tr style=\"text-align: right;\">\n",
              "      <th></th>\n",
              "      <th>id</th>\n",
              "      <th>diagnosis</th>\n",
              "      <th>radius_mean</th>\n",
              "      <th>texture_mean</th>\n",
              "      <th>perimeter_mean</th>\n",
              "      <th>area_mean</th>\n",
              "      <th>smoothness_mean</th>\n",
              "      <th>compactness_mean</th>\n",
              "      <th>concavity_mean</th>\n",
              "      <th>concave points_mean</th>\n",
              "      <th>...</th>\n",
              "      <th>texture_worst</th>\n",
              "      <th>perimeter_worst</th>\n",
              "      <th>area_worst</th>\n",
              "      <th>smoothness_worst</th>\n",
              "      <th>compactness_worst</th>\n",
              "      <th>concavity_worst</th>\n",
              "      <th>concave points_worst</th>\n",
              "      <th>symmetry_worst</th>\n",
              "      <th>fractal_dimension_worst</th>\n",
              "      <th>Unnamed: 32</th>\n",
              "    </tr>\n",
              "  </thead>\n",
              "  <tbody>\n",
              "    <tr>\n",
              "      <th>0</th>\n",
              "      <td>842302</td>\n",
              "      <td>M</td>\n",
              "      <td>17.99</td>\n",
              "      <td>10.38</td>\n",
              "      <td>122.80</td>\n",
              "      <td>1001.0</td>\n",
              "      <td>0.11840</td>\n",
              "      <td>0.27760</td>\n",
              "      <td>0.3001</td>\n",
              "      <td>0.14710</td>\n",
              "      <td>...</td>\n",
              "      <td>17.33</td>\n",
              "      <td>184.60</td>\n",
              "      <td>2019.0</td>\n",
              "      <td>0.1622</td>\n",
              "      <td>0.6656</td>\n",
              "      <td>0.7119</td>\n",
              "      <td>0.2654</td>\n",
              "      <td>0.4601</td>\n",
              "      <td>0.11890</td>\n",
              "      <td>NaN</td>\n",
              "    </tr>\n",
              "    <tr>\n",
              "      <th>1</th>\n",
              "      <td>842517</td>\n",
              "      <td>M</td>\n",
              "      <td>20.57</td>\n",
              "      <td>17.77</td>\n",
              "      <td>132.90</td>\n",
              "      <td>1326.0</td>\n",
              "      <td>0.08474</td>\n",
              "      <td>0.07864</td>\n",
              "      <td>0.0869</td>\n",
              "      <td>0.07017</td>\n",
              "      <td>...</td>\n",
              "      <td>23.41</td>\n",
              "      <td>158.80</td>\n",
              "      <td>1956.0</td>\n",
              "      <td>0.1238</td>\n",
              "      <td>0.1866</td>\n",
              "      <td>0.2416</td>\n",
              "      <td>0.1860</td>\n",
              "      <td>0.2750</td>\n",
              "      <td>0.08902</td>\n",
              "      <td>NaN</td>\n",
              "    </tr>\n",
              "    <tr>\n",
              "      <th>2</th>\n",
              "      <td>84300903</td>\n",
              "      <td>M</td>\n",
              "      <td>19.69</td>\n",
              "      <td>21.25</td>\n",
              "      <td>130.00</td>\n",
              "      <td>1203.0</td>\n",
              "      <td>0.10960</td>\n",
              "      <td>0.15990</td>\n",
              "      <td>0.1974</td>\n",
              "      <td>0.12790</td>\n",
              "      <td>...</td>\n",
              "      <td>25.53</td>\n",
              "      <td>152.50</td>\n",
              "      <td>1709.0</td>\n",
              "      <td>0.1444</td>\n",
              "      <td>0.4245</td>\n",
              "      <td>0.4504</td>\n",
              "      <td>0.2430</td>\n",
              "      <td>0.3613</td>\n",
              "      <td>0.08758</td>\n",
              "      <td>NaN</td>\n",
              "    </tr>\n",
              "    <tr>\n",
              "      <th>3</th>\n",
              "      <td>84348301</td>\n",
              "      <td>M</td>\n",
              "      <td>11.42</td>\n",
              "      <td>20.38</td>\n",
              "      <td>77.58</td>\n",
              "      <td>386.1</td>\n",
              "      <td>0.14250</td>\n",
              "      <td>0.28390</td>\n",
              "      <td>0.2414</td>\n",
              "      <td>0.10520</td>\n",
              "      <td>...</td>\n",
              "      <td>26.50</td>\n",
              "      <td>98.87</td>\n",
              "      <td>567.7</td>\n",
              "      <td>0.2098</td>\n",
              "      <td>0.8663</td>\n",
              "      <td>0.6869</td>\n",
              "      <td>0.2575</td>\n",
              "      <td>0.6638</td>\n",
              "      <td>0.17300</td>\n",
              "      <td>NaN</td>\n",
              "    </tr>\n",
              "    <tr>\n",
              "      <th>4</th>\n",
              "      <td>84358402</td>\n",
              "      <td>M</td>\n",
              "      <td>20.29</td>\n",
              "      <td>14.34</td>\n",
              "      <td>135.10</td>\n",
              "      <td>1297.0</td>\n",
              "      <td>0.10030</td>\n",
              "      <td>0.13280</td>\n",
              "      <td>0.1980</td>\n",
              "      <td>0.10430</td>\n",
              "      <td>...</td>\n",
              "      <td>16.67</td>\n",
              "      <td>152.20</td>\n",
              "      <td>1575.0</td>\n",
              "      <td>0.1374</td>\n",
              "      <td>0.2050</td>\n",
              "      <td>0.4000</td>\n",
              "      <td>0.1625</td>\n",
              "      <td>0.2364</td>\n",
              "      <td>0.07678</td>\n",
              "      <td>NaN</td>\n",
              "    </tr>\n",
              "  </tbody>\n",
              "</table>\n",
              "<p>5 rows × 33 columns</p>\n",
              "</div>\n",
              "    <div class=\"colab-df-buttons\">\n",
              "\n",
              "  <div class=\"colab-df-container\">\n",
              "    <button class=\"colab-df-convert\" onclick=\"convertToInteractive('df-72f7ea2e-943e-4508-9ad2-dc76b50602c6')\"\n",
              "            title=\"Convert this dataframe to an interactive table.\"\n",
              "            style=\"display:none;\">\n",
              "\n",
              "  <svg xmlns=\"http://www.w3.org/2000/svg\" height=\"24px\" viewBox=\"0 -960 960 960\">\n",
              "    <path d=\"M120-120v-720h720v720H120Zm60-500h600v-160H180v160Zm220 220h160v-160H400v160Zm0 220h160v-160H400v160ZM180-400h160v-160H180v160Zm440 0h160v-160H620v160ZM180-180h160v-160H180v160Zm440 0h160v-160H620v160Z\"/>\n",
              "  </svg>\n",
              "    </button>\n",
              "\n",
              "  <style>\n",
              "    .colab-df-container {\n",
              "      display:flex;\n",
              "      gap: 12px;\n",
              "    }\n",
              "\n",
              "    .colab-df-convert {\n",
              "      background-color: #E8F0FE;\n",
              "      border: none;\n",
              "      border-radius: 50%;\n",
              "      cursor: pointer;\n",
              "      display: none;\n",
              "      fill: #1967D2;\n",
              "      height: 32px;\n",
              "      padding: 0 0 0 0;\n",
              "      width: 32px;\n",
              "    }\n",
              "\n",
              "    .colab-df-convert:hover {\n",
              "      background-color: #E2EBFA;\n",
              "      box-shadow: 0px 1px 2px rgba(60, 64, 67, 0.3), 0px 1px 3px 1px rgba(60, 64, 67, 0.15);\n",
              "      fill: #174EA6;\n",
              "    }\n",
              "\n",
              "    .colab-df-buttons div {\n",
              "      margin-bottom: 4px;\n",
              "    }\n",
              "\n",
              "    [theme=dark] .colab-df-convert {\n",
              "      background-color: #3B4455;\n",
              "      fill: #D2E3FC;\n",
              "    }\n",
              "\n",
              "    [theme=dark] .colab-df-convert:hover {\n",
              "      background-color: #434B5C;\n",
              "      box-shadow: 0px 1px 3px 1px rgba(0, 0, 0, 0.15);\n",
              "      filter: drop-shadow(0px 1px 2px rgba(0, 0, 0, 0.3));\n",
              "      fill: #FFFFFF;\n",
              "    }\n",
              "  </style>\n",
              "\n",
              "    <script>\n",
              "      const buttonEl =\n",
              "        document.querySelector('#df-72f7ea2e-943e-4508-9ad2-dc76b50602c6 button.colab-df-convert');\n",
              "      buttonEl.style.display =\n",
              "        google.colab.kernel.accessAllowed ? 'block' : 'none';\n",
              "\n",
              "      async function convertToInteractive(key) {\n",
              "        const element = document.querySelector('#df-72f7ea2e-943e-4508-9ad2-dc76b50602c6');\n",
              "        const dataTable =\n",
              "          await google.colab.kernel.invokeFunction('convertToInteractive',\n",
              "                                                    [key], {});\n",
              "        if (!dataTable) return;\n",
              "\n",
              "        const docLinkHtml = 'Like what you see? Visit the ' +\n",
              "          '<a target=\"_blank\" href=https://colab.research.google.com/notebooks/data_table.ipynb>data table notebook</a>'\n",
              "          + ' to learn more about interactive tables.';\n",
              "        element.innerHTML = '';\n",
              "        dataTable['output_type'] = 'display_data';\n",
              "        await google.colab.output.renderOutput(dataTable, element);\n",
              "        const docLink = document.createElement('div');\n",
              "        docLink.innerHTML = docLinkHtml;\n",
              "        element.appendChild(docLink);\n",
              "      }\n",
              "    </script>\n",
              "  </div>\n",
              "\n",
              "\n",
              "<div id=\"df-4ad80c54-28d7-4fc1-9f78-789a197d7b2a\">\n",
              "  <button class=\"colab-df-quickchart\" onclick=\"quickchart('df-4ad80c54-28d7-4fc1-9f78-789a197d7b2a')\"\n",
              "            title=\"Suggest charts\"\n",
              "            style=\"display:none;\">\n",
              "\n",
              "<svg xmlns=\"http://www.w3.org/2000/svg\" height=\"24px\"viewBox=\"0 0 24 24\"\n",
              "     width=\"24px\">\n",
              "    <g>\n",
              "        <path d=\"M19 3H5c-1.1 0-2 .9-2 2v14c0 1.1.9 2 2 2h14c1.1 0 2-.9 2-2V5c0-1.1-.9-2-2-2zM9 17H7v-7h2v7zm4 0h-2V7h2v10zm4 0h-2v-4h2v4z\"/>\n",
              "    </g>\n",
              "</svg>\n",
              "  </button>\n",
              "\n",
              "<style>\n",
              "  .colab-df-quickchart {\n",
              "      --bg-color: #E8F0FE;\n",
              "      --fill-color: #1967D2;\n",
              "      --hover-bg-color: #E2EBFA;\n",
              "      --hover-fill-color: #174EA6;\n",
              "      --disabled-fill-color: #AAA;\n",
              "      --disabled-bg-color: #DDD;\n",
              "  }\n",
              "\n",
              "  [theme=dark] .colab-df-quickchart {\n",
              "      --bg-color: #3B4455;\n",
              "      --fill-color: #D2E3FC;\n",
              "      --hover-bg-color: #434B5C;\n",
              "      --hover-fill-color: #FFFFFF;\n",
              "      --disabled-bg-color: #3B4455;\n",
              "      --disabled-fill-color: #666;\n",
              "  }\n",
              "\n",
              "  .colab-df-quickchart {\n",
              "    background-color: var(--bg-color);\n",
              "    border: none;\n",
              "    border-radius: 50%;\n",
              "    cursor: pointer;\n",
              "    display: none;\n",
              "    fill: var(--fill-color);\n",
              "    height: 32px;\n",
              "    padding: 0;\n",
              "    width: 32px;\n",
              "  }\n",
              "\n",
              "  .colab-df-quickchart:hover {\n",
              "    background-color: var(--hover-bg-color);\n",
              "    box-shadow: 0 1px 2px rgba(60, 64, 67, 0.3), 0 1px 3px 1px rgba(60, 64, 67, 0.15);\n",
              "    fill: var(--button-hover-fill-color);\n",
              "  }\n",
              "\n",
              "  .colab-df-quickchart-complete:disabled,\n",
              "  .colab-df-quickchart-complete:disabled:hover {\n",
              "    background-color: var(--disabled-bg-color);\n",
              "    fill: var(--disabled-fill-color);\n",
              "    box-shadow: none;\n",
              "  }\n",
              "\n",
              "  .colab-df-spinner {\n",
              "    border: 2px solid var(--fill-color);\n",
              "    border-color: transparent;\n",
              "    border-bottom-color: var(--fill-color);\n",
              "    animation:\n",
              "      spin 1s steps(1) infinite;\n",
              "  }\n",
              "\n",
              "  @keyframes spin {\n",
              "    0% {\n",
              "      border-color: transparent;\n",
              "      border-bottom-color: var(--fill-color);\n",
              "      border-left-color: var(--fill-color);\n",
              "    }\n",
              "    20% {\n",
              "      border-color: transparent;\n",
              "      border-left-color: var(--fill-color);\n",
              "      border-top-color: var(--fill-color);\n",
              "    }\n",
              "    30% {\n",
              "      border-color: transparent;\n",
              "      border-left-color: var(--fill-color);\n",
              "      border-top-color: var(--fill-color);\n",
              "      border-right-color: var(--fill-color);\n",
              "    }\n",
              "    40% {\n",
              "      border-color: transparent;\n",
              "      border-right-color: var(--fill-color);\n",
              "      border-top-color: var(--fill-color);\n",
              "    }\n",
              "    60% {\n",
              "      border-color: transparent;\n",
              "      border-right-color: var(--fill-color);\n",
              "    }\n",
              "    80% {\n",
              "      border-color: transparent;\n",
              "      border-right-color: var(--fill-color);\n",
              "      border-bottom-color: var(--fill-color);\n",
              "    }\n",
              "    90% {\n",
              "      border-color: transparent;\n",
              "      border-bottom-color: var(--fill-color);\n",
              "    }\n",
              "  }\n",
              "</style>\n",
              "\n",
              "  <script>\n",
              "    async function quickchart(key) {\n",
              "      const quickchartButtonEl =\n",
              "        document.querySelector('#' + key + ' button');\n",
              "      quickchartButtonEl.disabled = true;  // To prevent multiple clicks.\n",
              "      quickchartButtonEl.classList.add('colab-df-spinner');\n",
              "      try {\n",
              "        const charts = await google.colab.kernel.invokeFunction(\n",
              "            'suggestCharts', [key], {});\n",
              "      } catch (error) {\n",
              "        console.error('Error during call to suggestCharts:', error);\n",
              "      }\n",
              "      quickchartButtonEl.classList.remove('colab-df-spinner');\n",
              "      quickchartButtonEl.classList.add('colab-df-quickchart-complete');\n",
              "    }\n",
              "    (() => {\n",
              "      let quickchartButtonEl =\n",
              "        document.querySelector('#df-4ad80c54-28d7-4fc1-9f78-789a197d7b2a button');\n",
              "      quickchartButtonEl.style.display =\n",
              "        google.colab.kernel.accessAllowed ? 'block' : 'none';\n",
              "    })();\n",
              "  </script>\n",
              "</div>\n",
              "\n",
              "    </div>\n",
              "  </div>\n"
            ],
            "text/plain": [
              "         id diagnosis  radius_mean  texture_mean  perimeter_mean  area_mean  \\\n",
              "0    842302         M        17.99         10.38          122.80     1001.0   \n",
              "1    842517         M        20.57         17.77          132.90     1326.0   \n",
              "2  84300903         M        19.69         21.25          130.00     1203.0   \n",
              "3  84348301         M        11.42         20.38           77.58      386.1   \n",
              "4  84358402         M        20.29         14.34          135.10     1297.0   \n",
              "\n",
              "   smoothness_mean  compactness_mean  concavity_mean  concave points_mean  \\\n",
              "0          0.11840           0.27760          0.3001              0.14710   \n",
              "1          0.08474           0.07864          0.0869              0.07017   \n",
              "2          0.10960           0.15990          0.1974              0.12790   \n",
              "3          0.14250           0.28390          0.2414              0.10520   \n",
              "4          0.10030           0.13280          0.1980              0.10430   \n",
              "\n",
              "   ...  texture_worst  perimeter_worst  area_worst  smoothness_worst  \\\n",
              "0  ...          17.33           184.60      2019.0            0.1622   \n",
              "1  ...          23.41           158.80      1956.0            0.1238   \n",
              "2  ...          25.53           152.50      1709.0            0.1444   \n",
              "3  ...          26.50            98.87       567.7            0.2098   \n",
              "4  ...          16.67           152.20      1575.0            0.1374   \n",
              "\n",
              "   compactness_worst  concavity_worst  concave points_worst  symmetry_worst  \\\n",
              "0             0.6656           0.7119                0.2654          0.4601   \n",
              "1             0.1866           0.2416                0.1860          0.2750   \n",
              "2             0.4245           0.4504                0.2430          0.3613   \n",
              "3             0.8663           0.6869                0.2575          0.6638   \n",
              "4             0.2050           0.4000                0.1625          0.2364   \n",
              "\n",
              "   fractal_dimension_worst  Unnamed: 32  \n",
              "0                  0.11890          NaN  \n",
              "1                  0.08902          NaN  \n",
              "2                  0.08758          NaN  \n",
              "3                  0.17300          NaN  \n",
              "4                  0.07678          NaN  \n",
              "\n",
              "[5 rows x 33 columns]"
            ]
          },
          "execution_count": 1310,
          "metadata": {},
          "output_type": "execute_result"
        }
      ],
      "source": [
        "df_Breast_Cancer.head()"
      ]
    },
    {
      "cell_type": "code",
      "execution_count": null,
      "metadata": {
        "colab": {
          "background_save": true
        },
        "id": "Eo9nXB8aPpHD"
      },
      "outputs": [],
      "source": [
        "df_Breast_Cancer.drop('id', axis = 1, inplace = True)"
      ]
    },
    {
      "cell_type": "code",
      "execution_count": null,
      "metadata": {
        "colab": {
          "background_save": true
        },
        "id": "WBuot1n0s_np"
      },
      "outputs": [],
      "source": [
        "df_Breast_Cancer.info()"
      ]
    },
    {
      "cell_type": "code",
      "execution_count": null,
      "metadata": {
        "colab": {
          "background_save": true
        },
        "id": "tUDacu2Ks_qF"
      },
      "outputs": [],
      "source": [
        "df_Breast_Cancer.isnull().sum()"
      ]
    },
    {
      "cell_type": "code",
      "execution_count": null,
      "metadata": {
        "colab": {
          "background_save": true
        },
        "id": "aGbtrrf-s_sb"
      },
      "outputs": [],
      "source": [
        "df_Breast_Cancer.shape"
      ]
    },
    {
      "cell_type": "code",
      "execution_count": null,
      "metadata": {
        "colab": {
          "background_save": true
        },
        "id": "F6PpK9Hys_uw"
      },
      "outputs": [],
      "source": [
        "plt.figure(figsize = (4,3))\n",
        "sns.countplot(x=df_Breast_Cancer.diagnosis)\n",
        "B, M  = df_Breast_Cancer.diagnosis.value_counts()\n",
        "print('No. of patients diagnosed with Breast Cancer: ', M)\n",
        "print('No. of patients not diagnosed with Breast Cancer: ', B)"
      ]
    },
    {
      "cell_type": "markdown",
      "metadata": {
        "id": "KhVLT-BRuKnV"
      },
      "source": [
        "Now, we can convert M and B into categorical values.\n",
        "\n",
        "B(benign) = 0\n",
        "\n",
        "M(malignant) = 1\n"
      ]
    },
    {
      "cell_type": "code",
      "execution_count": null,
      "metadata": {
        "colab": {
          "background_save": true
        },
        "id": "eOpXXbM1s_w4"
      },
      "outputs": [],
      "source": [
        "#Encode categorical values\n",
        "#iloc[:,1] = df['diagnosis']\n",
        "from sklearn.preprocessing import LabelEncoder\n",
        "le = LabelEncoder()\n",
        "le.fit_transform(df_Breast_Cancer.iloc[:,0])"
      ]
    },
    {
      "cell_type": "code",
      "execution_count": null,
      "metadata": {
        "colab": {
          "background_save": true
        },
        "id": "eWYqN4IGs_03"
      },
      "outputs": [],
      "source": [
        "df_Breast_Cancer['diagnosis'] = le.fit_transform(df_Breast_Cancer.iloc[:,0])\n",
        "df_Breast_Cancer.head()"
      ]
    },
    {
      "cell_type": "code",
      "execution_count": null,
      "metadata": {
        "colab": {
          "background_save": true
        },
        "id": "crxcTeYOs_2-"
      },
      "outputs": [],
      "source": [
        "df_Breast_Cancer.rename(columns={'diagnosis': 'num_diagnosis'}, inplace=True)\n",
        "df_Breast_Cancer.head()"
      ]
    },
    {
      "cell_type": "code",
      "execution_count": null,
      "metadata": {
        "colab": {
          "background_save": true
        },
        "id": "q_bxefhYu_Cr"
      },
      "outputs": [],
      "source": [
        "#sns.pairplot(data = df_Breast_Cancer.iloc[:, 1:10], hue='num_diagnosis')"
      ]
    },
    {
      "cell_type": "code",
      "execution_count": null,
      "metadata": {
        "colab": {
          "background_save": true
        },
        "id": "H8OS1vBYvOUZ"
      },
      "outputs": [],
      "source": [
        "df_Breast_Cancer.iloc[:,0:12].corr()"
      ]
    },
    {
      "cell_type": "code",
      "execution_count": null,
      "metadata": {
        "colab": {
          "background_save": true
        },
        "id": "nl3qdpNwvS26"
      },
      "outputs": [],
      "source": [
        "plt.figure(figsize = (10,10))\n",
        "sns.heatmap(df_Breast_Cancer.iloc[:,0:12].corr(), annot = True, fmt = '.0%')"
      ]
    },
    {
      "cell_type": "markdown",
      "metadata": {
        "id": "W965RsL9nGbp"
      },
      "source": [
        "# **🫀 Heart Disease Dataset**\n",
        "\n",
        "This dataset includes the following features:\n",
        "\n",
        "*   **age**:   The age of the patient.\n",
        "*   **sex**:   Gender of the patient (0: female, 1: male).\n",
        "*   **cp**:    Type of chest pain.\n",
        "(0: Typical angina\n",
        "1: Atypical angina\n",
        "2: Non-anginal pain\n",
        "3: Asymptomatic)\n",
        "\n",
        "*   **trestbps**: Resting blood pressure.\n",
        "*   **chol**: Serum cholesterol.\n",
        "*   **fbs**: Fasting blood sugar > 120 mg/dl.\n",
        "*   **restecg**: Resting electrocardiographic results.\n",
        "(0: Normal\n",
        "1: Having ST-T wave abnormality\n",
        "2: Showing probable or definite left ventricular hypertrophy)\n",
        "\n",
        "*   **thalach**: Maximum heart rate achieved.\n",
        "*   **exang**: Exercise induced angina.\n",
        "*   **oldpeak**: ST depression induced by exercise relative to rest\n",
        "*   **Slope of the peak exercise ST segment**:\n",
        "(0: Upsloping\n",
        "1: Flat\n",
        "2: Downsloping)\n",
        "\n",
        "*   **ca**: Number of major vessels (0-4) colored by fluoroscopy\n",
        "*   **thal**: Thalium stress test result:\n",
        "(0: Normal\n",
        "1: Fixed defect\n",
        "2: Reversible defect\n",
        "3: Not described)\n",
        "\n",
        "*   **target**: Heart disease status (0 = no disease, 1 = presence of disease)"
      ]
    },
    {
      "cell_type": "code",
      "execution_count": null,
      "metadata": {
        "colab": {
          "background_save": true
        },
        "id": "dSeKEnj8r91P"
      },
      "outputs": [],
      "source": [
        "df_Heart_Disease.head()"
      ]
    },
    {
      "cell_type": "code",
      "execution_count": null,
      "metadata": {
        "colab": {
          "background_save": true
        },
        "id": "GD-dlPD-r93i"
      },
      "outputs": [],
      "source": [
        "df_Heart_Disease.info()"
      ]
    },
    {
      "cell_type": "code",
      "execution_count": null,
      "metadata": {
        "colab": {
          "background_save": true
        },
        "id": "ekBq3xELr96A"
      },
      "outputs": [],
      "source": [
        "df_Heart_Disease.isnull().sum()"
      ]
    },
    {
      "cell_type": "code",
      "execution_count": null,
      "metadata": {
        "colab": {
          "background_save": true
        },
        "id": "n-oFsMZjr98V"
      },
      "outputs": [],
      "source": [
        "df_Heart_Disease.shape"
      ]
    },
    {
      "cell_type": "code",
      "execution_count": null,
      "metadata": {
        "colab": {
          "background_save": true
        },
        "id": "N9UOsG6IxKWY"
      },
      "outputs": [],
      "source": [
        "df_Heart_Disease.drop_duplicates(inplace = True)\n",
        "df_Heart_Disease.shape"
      ]
    },
    {
      "cell_type": "code",
      "execution_count": null,
      "metadata": {
        "colab": {
          "background_save": true
        },
        "id": "O4k30ZOdr9-c"
      },
      "outputs": [],
      "source": [
        "plt.figure(figsize = (4,3))\n",
        "sns.countplot(x=df_Heart_Disease.target)\n",
        "NHD, HD  = df_Heart_Disease.target.value_counts()\n",
        "print('No. of patients diagnosed with Heart Disease: ', HD)\n",
        "print('No. of patients not diagnosed with Heart Disease: ', NHD)"
      ]
    },
    {
      "cell_type": "markdown",
      "metadata": {
        "id": "aybeIKXWyBib"
      },
      "source": [
        "Seperate the columns into continuous and categorical."
      ]
    },
    {
      "cell_type": "code",
      "execution_count": null,
      "metadata": {
        "colab": {
          "background_save": true
        },
        "id": "PfFB4MnAr-Aj"
      },
      "outputs": [],
      "source": [
        "HD_cont = ['age','trestbps', 'chol','oldpeak' ]\n",
        "HD_cat = ['sex', 'cp','fbs','restecg','exang','slope','ca','thal' ]\n",
        "df_HD_cont = df_Heart_Disease[HD_cont]\n",
        "df_HD_cat = df_Heart_Disease[HD_cat]"
      ]
    },
    {
      "cell_type": "markdown",
      "metadata": {
        "id": "xgBI-diVyKb3"
      },
      "source": [
        "Check the relationship between the target and the continuous variables."
      ]
    },
    {
      "cell_type": "code",
      "execution_count": null,
      "metadata": {
        "colab": {
          "background_save": true
        },
        "id": "XOlTtstJr-Ct"
      },
      "outputs": [],
      "source": [
        "plt.figure(figsize = (4,3))\n",
        "sns.histplot(data = df_HD_cont, x='age', hue= df_Heart_Disease.target, multiple = 'stack')"
      ]
    },
    {
      "cell_type": "code",
      "execution_count": null,
      "metadata": {
        "colab": {
          "background_save": true
        },
        "id": "aYQrb7nEr-Ey"
      },
      "outputs": [],
      "source": [
        "plt.figure(figsize = (4,3))\n",
        "sns.kdeplot(data = df_HD_cont, x='age', hue= df_Heart_Disease.target)"
      ]
    },
    {
      "cell_type": "code",
      "execution_count": null,
      "metadata": {
        "colab": {
          "background_save": true
        },
        "id": "7JW0qw9wr-Gx"
      },
      "outputs": [],
      "source": [
        "plt.figure(figsize = (4,3))\n",
        "sns.histplot(data = df_HD_cont, x='trestbps', hue= df_Heart_Disease.target, multiple = 'stack')"
      ]
    },
    {
      "cell_type": "code",
      "execution_count": null,
      "metadata": {
        "colab": {
          "background_save": true
        },
        "id": "aCM_gjrQr-JC"
      },
      "outputs": [],
      "source": [
        "plt.figure(figsize = (4,3))\n",
        "sns.histplot(data = df_HD_cont, x='chol', hue= df_Heart_Disease.target, multiple = 'stack')"
      ]
    },
    {
      "cell_type": "code",
      "execution_count": null,
      "metadata": {
        "colab": {
          "background_save": true
        },
        "id": "hlcQ-yklytsi"
      },
      "outputs": [],
      "source": [
        "plt.figure(figsize = (4,3))\n",
        "sns.histplot(data = df_HD_cont, x='oldpeak', hue= df_Heart_Disease.target, multiple = 'stack')"
      ]
    },
    {
      "cell_type": "markdown",
      "metadata": {
        "id": "28wtRH-my2wm"
      },
      "source": [
        "Check the relationship between the target and the categorical variables."
      ]
    },
    {
      "cell_type": "code",
      "execution_count": null,
      "metadata": {
        "colab": {
          "background_save": true
        },
        "id": "D_Tt5B_Tytu4"
      },
      "outputs": [],
      "source": [
        "df_Heart_Disease['sex'].value_counts()"
      ]
    },
    {
      "cell_type": "code",
      "execution_count": null,
      "metadata": {
        "colab": {
          "background_save": true
        },
        "id": "LwP53uhczL4V"
      },
      "outputs": [],
      "source": [
        "sex_count = ((df_Heart_Disease['sex'].value_counts())/302) *100"
      ]
    },
    {
      "cell_type": "code",
      "execution_count": null,
      "metadata": {
        "colab": {
          "background_save": true
        },
        "id": "AM_ODCqXzL7E"
      },
      "outputs": [],
      "source": [
        "plt.figure(figsize = (4,3))\n",
        "sex_count.plot(kind = 'barh', title= 'Percentage of Sex (Heart Disease)', xlabel = 'Percentage(%)', ylabel = 'sex', width = 0.8)"
      ]
    },
    {
      "cell_type": "markdown",
      "metadata": {
        "id": "gJTvNYPYziyV"
      },
      "source": [
        "Normailize makes them the same height."
      ]
    },
    {
      "cell_type": "code",
      "execution_count": null,
      "metadata": {
        "colab": {
          "background_save": true
        },
        "id": "0Ts4pr9fzL-D"
      },
      "outputs": [],
      "source": [
        "cross_tab_sex = pd.crosstab(index=df_Heart_Disease['sex'], columns=df_Heart_Disease['target'], normalize='index')\n",
        "cross_tab_sex.plot(kind='bar', stacked=True, width=0.8,ylabel='Proportion')"
      ]
    },
    {
      "cell_type": "code",
      "execution_count": null,
      "metadata": {
        "colab": {
          "background_save": true
        },
        "id": "h5bUxXe7ytxg"
      },
      "outputs": [],
      "source": [
        "cross_tab_cp = pd.crosstab(index=df_Heart_Disease['cp'], columns=df_Heart_Disease['target'], normalize='index')\n",
        "cross_tab_cp.plot(kind='bar', stacked=True, width=0.8,ylabel='Proportion')"
      ]
    },
    {
      "cell_type": "code",
      "execution_count": null,
      "metadata": {
        "colab": {
          "background_save": true
        },
        "id": "5P3-ZO2Myt1h"
      },
      "outputs": [],
      "source": [
        "cross_tab_fbs = pd.crosstab(index=df_Heart_Disease['fbs'], columns=df_Heart_Disease['target'], normalize='index')\n",
        "cross_tab_fbs.plot(kind='bar', stacked=True, width=0.8,ylabel='Proportion')"
      ]
    },
    {
      "cell_type": "code",
      "execution_count": null,
      "metadata": {
        "colab": {
          "background_save": true
        },
        "id": "LkCXEqzwyt3a"
      },
      "outputs": [],
      "source": [
        "cross_tab_fbs = pd.crosstab(index=df_Heart_Disease['restecg'], columns=df_Heart_Disease['target'], normalize='index')\n",
        "cross_tab_fbs.plot(kind='bar', stacked=True, width=0.8,ylabel='Proportion')"
      ]
    },
    {
      "cell_type": "code",
      "execution_count": null,
      "metadata": {
        "colab": {
          "background_save": true
        },
        "id": "xiiH9WOnz_B0"
      },
      "outputs": [],
      "source": [
        "cross_tab_fbs = pd.crosstab(index=df_Heart_Disease['exang'], columns=df_Heart_Disease['target'], normalize='index')\n",
        "cross_tab_fbs.plot(kind='bar', stacked=True, width=0.8,ylabel='Proportion')"
      ]
    },
    {
      "cell_type": "code",
      "execution_count": null,
      "metadata": {
        "colab": {
          "background_save": true
        },
        "id": "XFW6G7KUz_EX"
      },
      "outputs": [],
      "source": [
        "cross_tab_fbs = pd.crosstab(index=df_Heart_Disease['slope'], columns=df_Heart_Disease['target'], normalize='index')\n",
        "cross_tab_fbs.plot(kind='bar', stacked=True, width=0.8,ylabel='Proportion')"
      ]
    },
    {
      "cell_type": "code",
      "execution_count": null,
      "metadata": {
        "colab": {
          "background_save": true
        },
        "id": "hPV_-4jxz_HE"
      },
      "outputs": [],
      "source": [
        "cross_tab_fbs = pd.crosstab(index=df_Heart_Disease['ca'], columns=df_Heart_Disease['target'], normalize='index')\n",
        "cross_tab_fbs.plot(kind='bar', stacked=True, width=0.8,ylabel='Proportion')"
      ]
    },
    {
      "cell_type": "code",
      "execution_count": null,
      "metadata": {
        "colab": {
          "background_save": true
        },
        "id": "ac8SHALJz_JS"
      },
      "outputs": [],
      "source": [
        "cross_tab_fbs = pd.crosstab(index=df_Heart_Disease['thal'], columns=df_Heart_Disease['target'], normalize='index')\n",
        "cross_tab_fbs.plot(kind='bar', stacked=True, width=0.8,ylabel='Proportion')"
      ]
    },
    {
      "cell_type": "markdown",
      "metadata": {
        "id": "AWReA5Hq0Rd7"
      },
      "source": [
        "Check outliners."
      ]
    },
    {
      "cell_type": "code",
      "execution_count": null,
      "metadata": {
        "colab": {
          "background_save": true
        },
        "id": "Myj7e_c-0UqT"
      },
      "outputs": [],
      "source": [
        "df_HD_cont.describe()"
      ]
    },
    {
      "cell_type": "code",
      "execution_count": null,
      "metadata": {
        "colab": {
          "background_save": true
        },
        "id": "0hLeWMVC0U4u"
      },
      "outputs": [],
      "source": [
        "plt.figure(figsize = (4,3))\n",
        "plt.boxplot(df_Heart_Disease.trestbps)"
      ]
    },
    {
      "cell_type": "markdown",
      "metadata": {
        "id": "LQRrhZDj0hRL"
      },
      "source": [
        "Convert categorical data to one hot code(get dummies)."
      ]
    },
    {
      "cell_type": "code",
      "execution_count": null,
      "metadata": {
        "colab": {
          "background_save": true
        },
        "id": "lAqeaSfG0U8l"
      },
      "outputs": [],
      "source": [
        "# Need One-Hot Encoding: cp, restecg, thal\n",
        "# no need for one hot encode: ordinal variable, binary\n",
        "#one_hot_encoded_df_HD = pd.get_dummies(df_Heart_Disease, columns = ['cp', 'restecg', 'thal'], drop_first = True)"
      ]
    },
    {
      "cell_type": "code",
      "execution_count": null,
      "metadata": {
        "colab": {
          "background_save": true
        },
        "id": "TtPo7j2hFWwt"
      },
      "outputs": [],
      "source": [
        "#one_hot_encoded_df_HD.head()"
      ]
    },
    {
      "cell_type": "markdown",
      "metadata": {
        "id": "Xrs2oni_nSne"
      },
      "source": [
        "# **🫘 Chroic Kidney Disease Dataset**\n",
        "\n",
        "The data was taken over a 2-month period in India with 25 features.\n",
        "This dataset includes the following features:\n",
        "*   **bp**\t\t:\tblood pressure\n",
        "*   **sg**\t\t:\tspecific gravity\n",
        "*   **al**\t\t: albumin\n",
        "*   **su**\t\t:\tsugar\n",
        "*   **rbc**\t\t:\tred blood cells\n",
        "*   **pc**\t\t:\tpus cell\n",
        "*   **pcc**\t\t:\tpus cell clumps\n",
        "*   **ba**\t\t:\tbacteria\n",
        "*   **bgr**\t\t:\tblood glucose random\n",
        "*   **bu**\t\t:\tblood urea\n",
        "*   **sc**\t\t:\tserum creatinine\n",
        "*   **sod**\t\t:\tsodium\n",
        "*   **pot**\t\t:\tpotassium\n",
        "*   **hemo**\t:\themoglobin\n",
        "*   **pcv**\t\t:\tpacked cell volume\n",
        "*   **wc**\t\t:\twhite blood cell count\n",
        "*   **rc**\t\t:\tred blood cell count\n",
        "*   **htn**\t\t:\thypertension\n",
        "*   **dm**\t\t:\tdiabetes mellitus\n",
        "*   **cad**\t\t:\tcoronary artery disease\n",
        "*   **appet**\t:\tappetite\n",
        "*   **pe**\t\t:\tpedal edema\n",
        "*   **ane**\t\t:\tanemia"
      ]
    },
    {
      "cell_type": "code",
      "execution_count": null,
      "metadata": {
        "colab": {
          "background_save": true
        },
        "id": "Z1gB68TLtQ6V"
      },
      "outputs": [],
      "source": [
        "df_CKD.head()"
      ]
    },
    {
      "cell_type": "code",
      "execution_count": null,
      "metadata": {
        "colab": {
          "background_save": true
        },
        "id": "4EaaIdfo3ljw"
      },
      "outputs": [],
      "source": [
        "df_CKD.drop('id', axis = 1, inplace = True)"
      ]
    },
    {
      "cell_type": "code",
      "execution_count": null,
      "metadata": {
        "colab": {
          "background_save": true
        },
        "id": "T3BiqXL5tQ_2"
      },
      "outputs": [],
      "source": [
        "df_CKD.shape"
      ]
    },
    {
      "cell_type": "code",
      "execution_count": null,
      "metadata": {
        "colab": {
          "background_save": true
        },
        "id": "2ej0rZgM3oS5"
      },
      "outputs": [],
      "source": [
        "df_CKD.columns = ['age', 'blood_pressure', 'specific_gravity', 'albumin', 'sugar', 'red_blood_cells', 'pus_cell',\n",
        "              'pus_cell_clumps', 'bacteria', 'blood_glucose_random', 'blood_urea', 'serum_creatinine', 'sodium',\n",
        "              'potassium', 'haemoglobin', 'packed_cell_volume', 'white_blood_cell_count', 'red_blood_cell_count',\n",
        "              'hypertension', 'diabetes_mellitus', 'coronary_artery_disease', 'appetite', 'peda_edema',\n",
        "              'aanemia', 'class']"
      ]
    },
    {
      "cell_type": "code",
      "execution_count": null,
      "metadata": {
        "colab": {
          "background_save": true
        },
        "id": "_QtmLsjj3rfE"
      },
      "outputs": [],
      "source": [
        "df_CKD.head()"
      ]
    },
    {
      "cell_type": "code",
      "execution_count": null,
      "metadata": {
        "colab": {
          "background_save": true
        },
        "id": "aTLco054tQ88"
      },
      "outputs": [],
      "source": [
        "df_CKD.isnull().sum()"
      ]
    },
    {
      "cell_type": "code",
      "execution_count": null,
      "metadata": {
        "colab": {
          "background_save": true
        },
        "id": "4TYABqbktQ7V"
      },
      "outputs": [],
      "source": [
        "df_CKD.info()"
      ]
    },
    {
      "cell_type": "markdown",
      "metadata": {
        "id": "bRDJnTrJ31jV"
      },
      "source": [
        "Some columns are supposed to be numeric.\n",
        "\n",
        "errors = 'coerce' is to turn non-cat values into NaN, it is a very useful technique!"
      ]
    },
    {
      "cell_type": "code",
      "execution_count": null,
      "metadata": {
        "colab": {
          "background_save": true
        },
        "id": "V_AheuUN3x3v"
      },
      "outputs": [],
      "source": [
        "to_num_col = ['packed_cell_volume','white_blood_cell_count','red_blood_cell_count' ]\n",
        "for n in to_num_col:\n",
        "  df_CKD[n] = pd.to_numeric(df_CKD[n], errors='coerce')"
      ]
    },
    {
      "cell_type": "code",
      "execution_count": null,
      "metadata": {
        "colab": {
          "background_save": true
        },
        "id": "xKArHWg64E9W"
      },
      "outputs": [],
      "source": [
        "df_CKD.dtypes"
      ]
    },
    {
      "cell_type": "markdown",
      "metadata": {
        "id": "-wfzMQa54aKM"
      },
      "source": [
        "Seperate the columns into numeric and categorical."
      ]
    },
    {
      "cell_type": "code",
      "execution_count": null,
      "metadata": {
        "colab": {
          "background_save": true
        },
        "id": "P8zymev14YQE"
      },
      "outputs": [],
      "source": [
        "CKD_num = [n for n in df_CKD.columns if df_CKD[n].dtypes != 'object']\n",
        "CKD_cat = [n for n in df_CKD.columns if df_CKD[n].dtypes == 'object']"
      ]
    },
    {
      "cell_type": "code",
      "execution_count": null,
      "metadata": {
        "colab": {
          "background_save": true
        },
        "id": "flszoSL14YSg"
      },
      "outputs": [],
      "source": [
        "# check the categorical columns\n",
        "for n in CKD_cat:\n",
        "  print(f'\"{n}\" has values: {df_CKD[n].unique()}')"
      ]
    },
    {
      "cell_type": "code",
      "execution_count": null,
      "metadata": {
        "colab": {
          "background_save": true
        },
        "id": "mXv38t4i3aCR"
      },
      "outputs": [],
      "source": [
        "df_CKD['class'].value_counts()"
      ]
    },
    {
      "cell_type": "markdown",
      "metadata": {
        "id": "_6mX_jZP464p"
      },
      "source": [
        "So we notice that there are some incorrect values in some columns:\n",
        "\n",
        "\n",
        "*   diabetes_mellitus\n",
        "*   coronary_artery_disease\n",
        "*   class"
      ]
    },
    {
      "cell_type": "code",
      "execution_count": null,
      "metadata": {
        "colab": {
          "background_save": true
        },
        "id": "o2oWs5F329PR"
      },
      "outputs": [],
      "source": [
        "df_CKD['diabetes_mellitus'].replace({'\\tno': 'no', '\\tyes': 'yes', ' yes':'yes'}, inplace = True)\n",
        "df_CKD['coronary_artery_disease'].replace({'\\tno': 'no'}, inplace = True)\n",
        "df_CKD['class'].replace({'ckd\\t': 'ckd', 'notckd': 'not ckd'}, inplace = True)\n",
        "\n",
        "for n in ['diabetes_mellitus', 'coronary_artery_disease', 'class']:\n",
        "  print(f'\"{n}\" has values: {df_CKD[n].unique()}')"
      ]
    },
    {
      "cell_type": "code",
      "execution_count": null,
      "metadata": {
        "colab": {
          "background_save": true
        },
        "id": "ca2K87Q629Rf"
      },
      "outputs": [],
      "source": [
        "plt.figure(figsize = (4,3))\n",
        "sns.countplot(x=df_CKD['class'])\n",
        "NCKD, CKD  = df_CKD['class'].value_counts()\n",
        "print('No. of patients diagnosed with Chronic Kidney Disease: ', CKD)\n",
        "print('No. of patients not diagnosed with Chronic Kidney Disease: ', NCKD)"
      ]
    },
    {
      "cell_type": "code",
      "execution_count": null,
      "metadata": {
        "colab": {
          "background_save": true
        },
        "id": "neGjuYrw29Tm"
      },
      "outputs": [],
      "source": [
        "df_CKD.describe()"
      ]
    },
    {
      "cell_type": "markdown",
      "metadata": {
        "id": "4qhdDtFI51O6"
      },
      "source": [
        "Check numerical distribution for Chronic Kidney Disease."
      ]
    },
    {
      "cell_type": "code",
      "execution_count": null,
      "metadata": {
        "colab": {
          "background_save": true
        },
        "id": "G2yQz3-E29Vv"
      },
      "outputs": [],
      "source": [
        "plt.figure(figsize = (15,10))\n",
        "num_plot = 1\n",
        "for col in CKD_num:\n",
        "  if num_plot <=14:\n",
        "    ax = plt.subplot(3, 5, num_plot)\n",
        "    sns.histplot(df_CKD[col])\n",
        "    plt.xlabel(col)\n",
        "\n",
        "  num_plot += 1\n",
        "\n",
        "plt.tight_layout()\n",
        "plt.show()"
      ]
    },
    {
      "cell_type": "markdown",
      "metadata": {
        "id": "-sWYE7e66N2q"
      },
      "source": [
        "Check categorical distribution for Chronic Kidney Disease."
      ]
    },
    {
      "cell_type": "code",
      "execution_count": null,
      "metadata": {
        "colab": {
          "background_save": true
        },
        "id": "LS8EByZ-6RKV"
      },
      "outputs": [],
      "source": [
        "# check cat_col distribution\n",
        "plt.figure(figsize = (15, 10))\n",
        "num_plot = 1\n",
        "for col in CKD_cat:\n",
        "    if num_plot < 11:\n",
        "        ax = plt.subplot(3, 4, num_plot)\n",
        "        sns.countplot(df_CKD[col])\n",
        "        plt.xlabel(col)\n",
        "\n",
        "    num_plot += 1\n",
        "\n",
        "plt.tight_layout()\n",
        "plt.show()"
      ]
    },
    {
      "cell_type": "markdown",
      "metadata": {
        "id": "KYWD1XjO677e"
      },
      "source": [
        "Now, let's check missing value."
      ]
    },
    {
      "cell_type": "code",
      "execution_count": null,
      "metadata": {
        "colab": {
          "background_save": true
        },
        "id": "AuTmOU4H6bAs"
      },
      "outputs": [],
      "source": [
        "df_CKD.isnull().sum().sort_values(ascending= False)"
      ]
    },
    {
      "cell_type": "markdown",
      "metadata": {
        "id": "9jJWzYwi6_18"
      },
      "source": [
        "To fill the missing values, we will use\n",
        "\n",
        "*   For high null values -> **random sampling**\n",
        "\n",
        "*   For low null values -> fill up with **mean**\n",
        "\n",
        "\n"
      ]
    },
    {
      "cell_type": "code",
      "execution_count": null,
      "metadata": {
        "colab": {
          "background_save": true
        },
        "id": "j8RbP1mm6bDH"
      },
      "outputs": [],
      "source": [
        "def random_sample_imputation(feature):\n",
        "    random_sample = df_CKD[feature].dropna().sample(df_CKD[feature].isna().sum())\n",
        "    random_sample.index = df_CKD[df_CKD[feature].isnull()].index\n",
        "    df_CKD.loc[df_CKD[feature].isnull(), feature] = random_sample\n",
        "\n",
        "for col in CKD_num:\n",
        "    random_sample_imputation(col)"
      ]
    },
    {
      "cell_type": "code",
      "execution_count": null,
      "metadata": {
        "colab": {
          "background_save": true
        },
        "id": "zHoxcsf36bFf"
      },
      "outputs": [],
      "source": [
        "df_CKD.isnull().sum().sort_values(ascending= False)"
      ]
    },
    {
      "cell_type": "code",
      "execution_count": null,
      "metadata": {
        "colab": {
          "background_save": true
        },
        "id": "z1AyMYZh8rJH"
      },
      "outputs": [],
      "source": [
        "random_sample_imputation('red_blood_cells')\n",
        "random_sample_imputation('pus_cell')"
      ]
    },
    {
      "cell_type": "code",
      "execution_count": null,
      "metadata": {
        "colab": {
          "background_save": true
        },
        "id": "geUwscVx8wf7"
      },
      "outputs": [],
      "source": [
        "df_CKD.isnull().sum().sort_values(ascending= False)"
      ]
    },
    {
      "cell_type": "code",
      "execution_count": null,
      "metadata": {
        "colab": {
          "background_save": true
        },
        "id": "KKxBsZMV9yGm"
      },
      "outputs": [],
      "source": [
        "df_CKD['pus_cell_clumps'].isnull().any()"
      ]
    },
    {
      "cell_type": "code",
      "execution_count": null,
      "metadata": {
        "colab": {
          "background_save": true
        },
        "id": "D3zWTVey8-Q4"
      },
      "outputs": [],
      "source": [
        "#df_CKD['pus_cell_clumps','bacteria','coronary_artery_disease','diabetes_mellitus','hypertension','aanemia','peda_edema','appetite'].fillna()\n",
        "\n",
        "for col in df_CKD.columns:\n",
        "  if df_CKD[col].isnull().any() == True:\n",
        "    df_CKD[col] = df_CKD[col].fillna(0)\n",
        "  else:\n",
        "    df_CKD[col]"
      ]
    },
    {
      "cell_type": "code",
      "execution_count": null,
      "metadata": {
        "colab": {
          "background_save": true
        },
        "id": "UROZKIPbBEEf"
      },
      "outputs": [],
      "source": [
        "df_CKD.isnull().sum().sort_values(ascending= False)"
      ]
    },
    {
      "cell_type": "code",
      "execution_count": null,
      "metadata": {
        "colab": {
          "background_save": true
        },
        "id": "-f2eVqNKQ3GX"
      },
      "outputs": [],
      "source": [
        "CKD_cat"
      ]
    },
    {
      "cell_type": "code",
      "execution_count": null,
      "metadata": {
        "colab": {
          "background_save": true
        },
        "id": "vsKOGVwnREVs"
      },
      "outputs": [],
      "source": [
        "df_CKD[CKD_cat]"
      ]
    },
    {
      "cell_type": "code",
      "execution_count": null,
      "metadata": {
        "colab": {
          "background_save": true
        },
        "id": "Sho9jCVaSZBl"
      },
      "outputs": [],
      "source": [
        "df_CKD['pus_cell_clumps'].unique()"
      ]
    },
    {
      "cell_type": "code",
      "execution_count": null,
      "metadata": {
        "colab": {
          "background_save": true
        },
        "id": "7Q6wVsmJShTE"
      },
      "outputs": [],
      "source": [
        "df_CKD['pus_cell_clumps'] = df_CKD['pus_cell_clumps'].apply(lambda x:0 if x=='notpresent' else 1)"
      ]
    },
    {
      "cell_type": "code",
      "execution_count": null,
      "metadata": {
        "colab": {
          "background_save": true
        },
        "id": "zfWlChJ9S3ii"
      },
      "outputs": [],
      "source": [
        "df_CKD['bacteria'].unique()"
      ]
    },
    {
      "cell_type": "code",
      "execution_count": null,
      "metadata": {
        "colab": {
          "background_save": true
        },
        "id": "oanf_4ObS7hb"
      },
      "outputs": [],
      "source": [
        "df_CKD['bacteria'] = df_CKD['bacteria'].apply(lambda x:0 if x=='notpresent' else 1)"
      ]
    },
    {
      "cell_type": "code",
      "execution_count": null,
      "metadata": {
        "colab": {
          "background_save": true
        },
        "id": "hGlJwBzCTLtD"
      },
      "outputs": [],
      "source": [
        "df_CKD['hypertension'].unique()"
      ]
    },
    {
      "cell_type": "code",
      "execution_count": null,
      "metadata": {
        "colab": {
          "background_save": true
        },
        "id": "dRG_q_xlTP0Q"
      },
      "outputs": [],
      "source": [
        "df_CKD['hypertension'] = df_CKD['hypertension'].apply(lambda x:0 if x=='no' else 1)"
      ]
    },
    {
      "cell_type": "code",
      "execution_count": null,
      "metadata": {
        "colab": {
          "background_save": true
        },
        "id": "FYn2Bx6PTWYO"
      },
      "outputs": [],
      "source": [
        "df_CKD['diabetes_mellitus'].unique()"
      ]
    },
    {
      "cell_type": "code",
      "execution_count": null,
      "metadata": {
        "colab": {
          "background_save": true
        },
        "id": "P7AMIpvqTaeI"
      },
      "outputs": [],
      "source": [
        "df_CKD['diabetes_mellitus'] = df_CKD['diabetes_mellitus'].apply(lambda x:0 if x=='no' else 1)"
      ]
    },
    {
      "cell_type": "code",
      "execution_count": null,
      "metadata": {
        "colab": {
          "background_save": true
        },
        "id": "7Dq0JlqXTgHL"
      },
      "outputs": [],
      "source": [
        "df_CKD['coronary_artery_disease'].unique()"
      ]
    },
    {
      "cell_type": "code",
      "execution_count": null,
      "metadata": {
        "colab": {
          "background_save": true
        },
        "id": "QLEgcK_sTnmR"
      },
      "outputs": [],
      "source": [
        "df_CKD['coronary_artery_disease'] = df_CKD['coronary_artery_disease'].apply(lambda x:0 if x=='no' else 1)"
      ]
    },
    {
      "cell_type": "code",
      "execution_count": null,
      "metadata": {
        "colab": {
          "background_save": true
        },
        "id": "gVxYrkmwTtBg"
      },
      "outputs": [],
      "source": [
        "df_CKD['appetite'].unique()"
      ]
    },
    {
      "cell_type": "code",
      "execution_count": null,
      "metadata": {
        "colab": {
          "background_save": true
        },
        "id": "HBcn7WU8TtD7"
      },
      "outputs": [],
      "source": [
        "df_CKD['appetite'] = df_CKD['appetite'].apply(lambda x:0 if x=='poor' else 1)"
      ]
    },
    {
      "cell_type": "code",
      "execution_count": null,
      "metadata": {
        "colab": {
          "background_save": true
        },
        "id": "jvVuilPwT2NT"
      },
      "outputs": [],
      "source": [
        "df_CKD['peda_edema'].unique()"
      ]
    },
    {
      "cell_type": "code",
      "execution_count": null,
      "metadata": {
        "colab": {
          "background_save": true
        },
        "id": "8OebWsOaT2Ps"
      },
      "outputs": [],
      "source": [
        "df_CKD['peda_edema'] = df_CKD['peda_edema'].apply(lambda x:0 if x=='no' else 1)"
      ]
    },
    {
      "cell_type": "code",
      "execution_count": null,
      "metadata": {
        "colab": {
          "background_save": true
        },
        "id": "CeS_OdYXUA0a"
      },
      "outputs": [],
      "source": [
        "df_CKD['aanemia'].unique()"
      ]
    },
    {
      "cell_type": "code",
      "execution_count": null,
      "metadata": {
        "colab": {
          "background_save": true
        },
        "id": "vMB_MbFQUA2o"
      },
      "outputs": [],
      "source": [
        "df_CKD['aanemia'] = df_CKD['aanemia'].apply(lambda x:0 if x=='no' else 1)"
      ]
    },
    {
      "cell_type": "markdown",
      "metadata": {
        "id": "OearXq3_DYc1"
      },
      "source": [
        "Now, we convert the categorical data into numeric form by using LabelEncoder."
      ]
    },
    {
      "cell_type": "code",
      "execution_count": null,
      "metadata": {
        "colab": {
          "background_save": true
        },
        "id": "bfQP6OoqBpEv"
      },
      "outputs": [],
      "source": [
        "#le.fit_transform(df_Breast_Cancer.iloc[:,0])\n",
        "\n",
        "from sklearn.preprocessing import LabelEncoder\n",
        "le = LabelEncoder()\n",
        "df_CKD['red_blood_cells'] = le.fit_transform(df_CKD['red_blood_cells'])\n",
        "df_CKD['pus_cell'] = le.fit_transform(df_CKD['pus_cell'])\n",
        "df_CKD['class'] = le.fit_transform(df_CKD['class'])\n",
        "\n",
        "# for col in CKD_cat:\n",
        "#   df_CKD[col] = le.fit_transform(df_CKD[col])\n",
        "\n",
        "df_CKD.head()"
      ]
    },
    {
      "cell_type": "code",
      "execution_count": null,
      "metadata": {
        "colab": {
          "background_save": true
        },
        "id": "_01s3kNZBpI2"
      },
      "outputs": [],
      "source": [
        "df_CKD.corr()"
      ]
    },
    {
      "cell_type": "code",
      "execution_count": null,
      "metadata": {
        "colab": {
          "background_save": true
        },
        "id": "SyGlkExfDmTf"
      },
      "outputs": [],
      "source": [
        "plt.figure(figsize = (12,10))\n",
        "sns.heatmap(df_CKD.corr(), annot = True, fmt = '.0%')"
      ]
    },
    {
      "cell_type": "markdown",
      "metadata": {
        "id": "ztuHNOTpyNZG"
      },
      "source": [
        "# **💊 Drug Treatment Dataset**\n",
        "\n",
        "In this session, we are going to do drug classification to predict what kind of drug to assign to our patients."
      ]
    },
    {
      "cell_type": "code",
      "execution_count": null,
      "metadata": {
        "colab": {
          "background_save": true
        },
        "id": "YXlCHfk1ymSI"
      },
      "outputs": [],
      "source": [
        "df_Drug.head()"
      ]
    },
    {
      "cell_type": "code",
      "execution_count": null,
      "metadata": {
        "colab": {
          "background_save": true
        },
        "id": "XOVraWHkymUe"
      },
      "outputs": [],
      "source": [
        "df_Drug.info()"
      ]
    },
    {
      "cell_type": "code",
      "execution_count": null,
      "metadata": {
        "colab": {
          "background_save": true
        },
        "id": "GsdbgZu0ymWl"
      },
      "outputs": [],
      "source": [
        "df_Drug.shape"
      ]
    },
    {
      "cell_type": "code",
      "execution_count": null,
      "metadata": {
        "colab": {
          "background_save": true
        },
        "id": "cTbfphNxymY7"
      },
      "outputs": [],
      "source": [
        "df_Drug.isnull().sum()"
      ]
    },
    {
      "cell_type": "code",
      "execution_count": null,
      "metadata": {
        "colab": {
          "background_save": true
        },
        "id": "b7goE8cA3WXs"
      },
      "outputs": [],
      "source": [
        "plt.figure(figsize = (4,3))\n",
        "sns.countplot(x=df_Drug.Drug)\n",
        "df_Drug.Drug.value_counts()"
      ]
    },
    {
      "cell_type": "markdown",
      "metadata": {
        "id": "5-P-7pEVzuug"
      },
      "source": [
        "🔟 **Numerical variables:** Age, Na_to_K\n",
        "\n",
        "We can check their statitics to see whether there is skew or not."
      ]
    },
    {
      "cell_type": "code",
      "execution_count": null,
      "metadata": {
        "colab": {
          "background_save": true
        },
        "id": "iCCTrk4RzzKq"
      },
      "outputs": [],
      "source": [
        "Drug_num = ['Age','Na_to_K']\n",
        "df_Drug[Drug_num].describe()"
      ]
    },
    {
      "cell_type": "code",
      "execution_count": null,
      "metadata": {
        "colab": {
          "background_save": true
        },
        "id": "Q6_zGX3wzzM5"
      },
      "outputs": [],
      "source": [
        "plt.figure(figsize = (10,6))\n",
        "plot_number = 1\n",
        "\n",
        "for col in Drug_num:\n",
        "  if plot_number <=2:\n",
        "    ax = plt.subplot(3,3, plot_number)\n",
        "    plot = sns.histplot(data = df_Drug, x= col)\n",
        "    plot_number += 1\n",
        "\n",
        "plt.tight_layout()\n",
        "plot"
      ]
    },
    {
      "cell_type": "code",
      "execution_count": null,
      "metadata": {
        "colab": {
          "background_save": true
        },
        "id": "WV7XVonUzzPY"
      },
      "outputs": [],
      "source": [
        "plt.figure(figsize = (10,6))\n",
        "plot_number = 1\n",
        "for col in Drug_num:\n",
        "  if plot_number <=2:\n",
        "    ax = plt.subplot(3,3, plot_number)\n",
        "    plot = sns.boxplot(data= df_Drug, y= col, x= df_Drug.Drug)\n",
        "    plot_number += 1\n",
        "\n",
        "plt.tight_layout()\n",
        "plot"
      ]
    },
    {
      "cell_type": "markdown",
      "metadata": {
        "id": "aFkKx1v40TQB"
      },
      "source": [
        "📊 **Categorical variables:** Sex, BP, Cholesterol, Drug"
      ]
    },
    {
      "cell_type": "code",
      "execution_count": null,
      "metadata": {
        "colab": {
          "background_save": true
        },
        "id": "khhRFGpo0dML"
      },
      "outputs": [],
      "source": [
        "Drug_cat = ['Sex', 'BP','Cholesterol', 'Drug']"
      ]
    },
    {
      "cell_type": "code",
      "execution_count": null,
      "metadata": {
        "colab": {
          "background_save": true
        },
        "id": "sbxpiG9NzzRZ"
      },
      "outputs": [],
      "source": [
        "plt.figure(figsize = (10,6))\n",
        "plot_number = 1\n",
        "for col in Drug_cat:\n",
        "  if plot_number <= 4:\n",
        "    cat_of_col = df_Drug[col].value_counts()\n",
        "    ax = plt.subplot(3,3, plot_number)\n",
        "    plot = sns.countplot(data = df_Drug, x= col, hue = col)\n",
        "    print(cat_of_col)\n",
        "    plot_number += 1\n",
        "\n",
        "plt.tight_layout()\n",
        "plot"
      ]
    },
    {
      "cell_type": "code",
      "execution_count": null,
      "metadata": {
        "colab": {
          "background_save": true
        },
        "id": "a6bnKtmgzzTf"
      },
      "outputs": [],
      "source": [
        "pd.crosstab(df_Drug.Sex,df_Drug.Drug).plot(kind=\"bar\",figsize=(6,4))\n",
        "plt.title('Gender distribution based on Drug type')\n",
        "plt.xlabel('Gender')\n",
        "plt.xticks(rotation=0)\n",
        "plt.ylabel('Frequency')"
      ]
    },
    {
      "cell_type": "code",
      "execution_count": null,
      "metadata": {
        "colab": {
          "background_save": true
        },
        "id": "Jk9hXRnTzzVr"
      },
      "outputs": [],
      "source": [
        "pd.crosstab(df_Drug.BP,df_Drug.Cholesterol).plot(kind=\"bar\",figsize=(6,4))\n",
        "plt.title('Blood Pressure distribution based on Cholesterol')\n",
        "plt.xlabel('Blood Pressure')\n",
        "plt.xticks(rotation=0)\n",
        "plt.ylabel('Frequency')"
      ]
    },
    {
      "cell_type": "code",
      "execution_count": null,
      "metadata": {
        "colab": {
          "background_save": true
        },
        "id": "oHLjYHDJzzX1"
      },
      "outputs": [],
      "source": [
        "sns.scatterplot(x=df_Drug.Age, y=df_Drug.Na_to_K, hue =df_Drug.Drug)"
      ]
    },
    {
      "cell_type": "code",
      "execution_count": null,
      "metadata": {
        "colab": {
          "background_save": true
        },
        "id": "u7PmBNduzzZh"
      },
      "outputs": [],
      "source": [
        "plt.scatter(x=df_Drug.Age[df_Drug.Sex=='F'], y=df_Drug.Na_to_K[df_Drug.Sex=='F'], c=\"Blue\")\n",
        "plt.scatter(x=df_Drug.Age[df_Drug.Sex=='M'], y=df_Drug.Na_to_K[df_Drug.Sex=='M'], c=\"Orange\")\n",
        "plt.title('Na to K Ratio based on Gender and Age ')\n",
        "plt.legend([\"Female\", \"Male\"])\n",
        "plt.xlabel(\"Age\")\n",
        "plt.ylabel(\"Na_to_K\")\n",
        "plt.show()"
      ]
    },
    {
      "cell_type": "code",
      "execution_count": null,
      "metadata": {
        "colab": {
          "background_save": true
        },
        "id": "TLs4oDrM1k9i"
      },
      "outputs": [],
      "source": [
        "from sklearn.preprocessing import LabelEncoder\n",
        "le = LabelEncoder()\n",
        "need_to_encode = ['Sex','BP','Cholesterol']\n",
        "for col in need_to_encode:\n",
        "  df_Drug[col] = le.fit_transform(df_Drug[col])\n",
        "df_Drug.head()"
      ]
    },
    {
      "cell_type": "code",
      "execution_count": null,
      "metadata": {
        "colab": {
          "background_save": true
        },
        "id": "xounvykU7fA5"
      },
      "outputs": [],
      "source": [
        "numeric_drug = le.fit_transform(df_Drug['Drug'])\n",
        "Drug_mapping = dict(zip(df_Drug['Drug'], numeric_drug))\n",
        "Drug_mapping"
      ]
    },
    {
      "cell_type": "markdown",
      "metadata": {
        "id": "A8IIxBfx7h5s"
      },
      "source": []
    },
    {
      "cell_type": "code",
      "execution_count": null,
      "metadata": {
        "colab": {
          "background_save": true
        },
        "id": "nFdpqUoI5Wga"
      },
      "outputs": [],
      "source": [
        "df_Drug.BP.value_counts()"
      ]
    },
    {
      "cell_type": "markdown",
      "metadata": {
        "id": "mlsUcc39vf56"
      },
      "source": [
        "# **🦾 Time for fit and predict the model**"
      ]
    },
    {
      "cell_type": "markdown",
      "metadata": {
        "id": "ohT9XJGuHy6t"
      },
      "source": [
        "Define x and y for each cancer first."
      ]
    },
    {
      "cell_type": "code",
      "execution_count": null,
      "metadata": {
        "colab": {
          "background_save": true
        },
        "id": "3AxDcSKzRdbl"
      },
      "outputs": [],
      "source": [
        "# Diabetes\n",
        "x_DB= df_Diabetes.drop(columns=['Pregnancies','Outcome'])\n",
        "y_DB= df_Diabetes.Outcome\n",
        "\n",
        "# Liver Disease\n",
        "x_LD= df_Liver_Disease.drop(columns=['Gender','Dataset'])\n",
        "y_LD= df_Liver_Disease.Dataset\n",
        "\n",
        "#Breast Cancer\n",
        "#if x, y need to be transformed to np array -> .values\n",
        "x_BC = df_Breast_Cancer.iloc[:, 1:30]\n",
        "y_BC = df_Breast_Cancer.iloc[:,0]\n",
        "\n",
        "# Heart Disease\n",
        "x_HD = df_Heart_Disease.drop(columns=['sex','target'])\n",
        "y_HD = df_Heart_Disease.target\n",
        "\n",
        "# Chronic Kidney Disease\n",
        "x_CKD = df_CKD.iloc[:, :24]\n",
        "y_CKD = df_CKD.iloc[:,24]\n",
        "\n",
        "# Drug Treatment\n",
        "x_Drug = df_Drug.drop(columns = 'Drug', axis=1)\n",
        "y_Drug = df_Drug.Drug"
      ]
    },
    {
      "cell_type": "markdown",
      "metadata": {
        "id": "ZwWT395mH3rt"
      },
      "source": [
        "Now, we split and standarize each data from each cancer."
      ]
    },
    {
      "cell_type": "code",
      "execution_count": null,
      "metadata": {
        "colab": {
          "background_save": true
        },
        "id": "R17j1I6-HqMN"
      },
      "outputs": [],
      "source": [
        "def split_and_standarize(x, y):\n",
        "  #split data into training and test data\n",
        "  from sklearn.model_selection import train_test_split\n",
        "  x_train, x_test, y_train, y_test = train_test_split(x, y, train_size = 0.25,shuffle = True, random_state= 53, stratify=y)\n",
        "  return x_train, x_test, y_train, y_test\n",
        "  #standarize the data\n",
        "  from sklearn.preprocessing import StandardScaler\n",
        "  scaler = StandardScaler()\n",
        "  x_train = scaler.fit_transform(x_train)\n",
        "  x_test = scaler.fit_transform(x_test)\n",
        "  return  x_train,  x_test\n",
        "\n",
        "x_DB_train, x_DB_test, y_DB_train, y_DB_test = split_and_standarize(x_DB, y_DB)\n",
        "x_LD_train, x_LD_test, y_LD_train, y_LD_test = split_and_standarize(x_LD, y_LD)\n",
        "x_BC_train, x_BC_test, y_BC_train, y_BC_test = split_and_standarize(x_BC, y_BC)\n",
        "x_HD_train, x_HD_test, y_HD_train, y_HD_test = split_and_standarize(x_HD, y_HD)\n",
        "x_CKD_train, x_CKD_test, y_CKD_train, y_CKD_test = split_and_standarize(x_CKD, y_CKD)\n",
        "x_Drug_train, x_Drug_test, y_Drug_train, y_Drug_test = split_and_standarize(x_Drug, y_Drug)\n"
      ]
    },
    {
      "cell_type": "code",
      "execution_count": null,
      "metadata": {
        "colab": {
          "background_save": true
        },
        "id": "cvD9oN6pRs4o"
      },
      "outputs": [],
      "source": [
        "def models(x_train, y_train):\n",
        "  #logistic regression\n",
        "  from sklearn.linear_model import LogisticRegression\n",
        "  logis = LogisticRegression(random_state=0).fit(x_train,y_train)\n",
        "  #decision tree\n",
        "  from sklearn.tree import DecisionTreeClassifier\n",
        "  tree = DecisionTreeClassifier(criterion = 'entropy', random_state=0).fit(x_train,y_train)\n",
        "  #random forest\n",
        "  from sklearn.ensemble import RandomForestClassifier\n",
        "  forest = RandomForestClassifier(criterion = 'entropy', random_state=0).fit(x_train,y_train)\n",
        "  #KNN\n",
        "  from sklearn.neighbors import KNeighborsClassifier\n",
        "  neigh = KNeighborsClassifier(n_neighbors=3).fit(x_train,y_train)\n",
        "  #SVM\n",
        "  from sklearn import svm\n",
        "  svm_model = svm.SVC(kernel='linear').fit(x_train,y_train)\n",
        "\n",
        "  print('[0]score of logistic regression model: ' , logis.score(x_train, y_train))\n",
        "  print('[1]score of decision tree model: ' , tree.score(x_train, y_train))\n",
        "  print('[2]score of random forest model: ' , forest.score(x_train, y_train))\n",
        "  print('[3]score of KNN model: ' , neigh.score(x_train, y_train))\n",
        "  print('[4]score of SVM model: ' , svm_model.score(x_train, y_train))\n",
        "  return logis, tree, forest, neigh, svm_model"
      ]
    },
    {
      "cell_type": "code",
      "execution_count": null,
      "metadata": {
        "colab": {
          "background_save": true
        },
        "id": "mFPvIeEzf_PZ"
      },
      "outputs": [],
      "source": [
        "model_DB = models(x_DB_train, y_DB_train)\n",
        "model_LD = models(x_LD_train, y_LD_train)\n",
        "model_BC = models(x_BC_train, y_BC_train)\n",
        "model_HD = models(x_HD_train, y_HD_train)\n",
        "model_CKD = models(x_CKD_train, y_CKD_train)\n",
        "model_Drug = models(x_Drug_train, y_Drug_train)"
      ]
    },
    {
      "cell_type": "markdown",
      "metadata": {
        "id": "DBxw0mAhLsny"
      },
      "source": [
        "After the models are fitted, we want to see the accuracy/ performance of all cancers with 5 models."
      ]
    },
    {
      "cell_type": "code",
      "execution_count": null,
      "metadata": {
        "colab": {
          "background_save": true
        },
        "id": "_8YA-7FlRxFW"
      },
      "outputs": [],
      "source": [
        "from sklearn.metrics import classification_report\n",
        "from sklearn.metrics import accuracy_score\n",
        "# for i in range(5):\n",
        "#   print()\n",
        "#   print(f'model {i+1}')\n",
        "#   print(classification_report(y_test, model[i].predict(x_LD_test)))\n",
        "#   print(f'accuracy score is {accuracy_score(y_test, model[i].predict(x_LD_test)).round(2)}')\n",
        "\n",
        "def accuracy(name, model, x_test, y_test):\n",
        "  print()\n",
        "  print(f'The accuracy for {name}')\n",
        "  for i in range(5):\n",
        "    print(f'model {i+1}')\n",
        "    print(classification_report(y_test, model[i].predict(x_test)))\n",
        "    print(f'accuracy score is {accuracy_score(y_test, model[i].predict(x_test)).round(2)}')\n",
        "\n",
        "accuracy('Diabetes', model_DB, x_DB_test, y_DB_test)\n",
        "accuracy('Liver Disease', model_LD, x_LD_test, y_LD_test)\n",
        "accuracy('Breast Cancer', model_BC, x_BC_test, y_BC_test)\n",
        "accuracy('Heart Disease', model_HD, x_HD_test, y_HD_test)\n",
        "accuracy('Chronic Kidney Disease', model_CKD, x_CKD_test, y_CKD_test)\n",
        "accuracy('Drug dataset', model_Drug, x_Drug_test, y_Drug_test)"
      ]
    },
    {
      "cell_type": "code",
      "execution_count": null,
      "metadata": {
        "colab": {
          "background_save": true
        },
        "id": "SYxWX0xARxHy"
      },
      "outputs": [],
      "source": [
        "def accuarcy_score_only(model, x_test, y_test):\n",
        "  accuracy_log = accuracy_score(y_test, model[0].predict(x_test)).round(2)\n",
        "  accuracy_tree = accuracy_score(y_test, model[1].predict(x_test)).round(2)\n",
        "  accuracy_random = accuracy_score(y_test, model[2].predict(x_test)).round(2)\n",
        "  accuracy_knn = accuracy_score(y_test, model[3].predict(x_test)).round(2)\n",
        "  accuracy_svm = accuracy_score(y_test, model[4].predict(x_test)).round(2)\n",
        "  return accuracy_log, accuracy_tree, accuracy_random, accuracy_knn, accuracy_svm\n",
        "\n",
        "accuracy_for_DB = accuarcy_score_only(model_DB, x_DB_test, y_DB_test)\n",
        "accuracy_for_LD = accuarcy_score_only(model_LD, x_LD_test, y_LD_test)\n",
        "accuracy_for_BC = accuarcy_score_only(model_BC, x_BC_test, y_BC_test)\n",
        "accuracy_for_HD = accuarcy_score_only(model_HD, x_HD_test, y_HD_test)\n",
        "accuracy_for_CKD = accuarcy_score_only(model_CKD, x_CKD_test, y_CKD_test)\n",
        "accuracy_for_Drug = accuarcy_score_only(model_Drug, x_Drug_test, y_Drug_test)"
      ]
    },
    {
      "cell_type": "code",
      "execution_count": null,
      "metadata": {
        "colab": {
          "background_save": true
        },
        "id": "-ZcQ2X6uitT2"
      },
      "outputs": [],
      "source": [
        "dic = {'model': ['logistic', 'decision tree', 'random forest', 'KNN', 'SVM'],\n",
        "       'Diabetes': accuracy_for_DB,\n",
        "       'Liver Disease': accuracy_for_LD,\n",
        "       'Breast Cancer': accuracy_for_BC,\n",
        "       'Heart_Disease': accuracy_for_HD,\n",
        "       'Chronic Kidney Disease': accuracy_for_CKD,\n",
        "       'Drug Dataset':accuracy_for_Drug}\n",
        "df = pd.DataFrame(data=dic)\n",
        "df.set_index('model', inplace=True)\n",
        "df"
      ]
    },
    {
      "cell_type": "markdown",
      "metadata": {
        "id": "tnf5FW6zL3yR"
      },
      "source": [
        "We can see that the best moodel for all cancers is SVM."
      ]
    },
    {
      "cell_type": "code",
      "execution_count": null,
      "metadata": {
        "colab": {
          "background_save": true
        },
        "id": "vn4MuO3CRxJw"
      },
      "outputs": [],
      "source": [
        "df.plot(kind = 'line', title= 'Accuracy Across Disease', xlabel = 'model', ylabel = 'accuracy score')"
      ]
    },
    {
      "cell_type": "markdown",
      "metadata": {
        "id": "1KX-W7SaMAFs"
      },
      "source": [
        "# **🎰 Ready for Deployment**\n",
        "\n",
        "Now, we want to create an input for users to enter the correlated data. So we can predict outcome from the data users enter.\n",
        "\n",
        "\n",
        "First, I want to observe how training data is supposed to look like."
      ]
    },
    {
      "cell_type": "code",
      "execution_count": null,
      "metadata": {
        "colab": {
          "background_save": true
        },
        "id": "K7novmqID7EX"
      },
      "outputs": [],
      "source": [
        "x_DB_train.head()"
      ]
    },
    {
      "cell_type": "code",
      "execution_count": null,
      "metadata": {
        "colab": {
          "background_save": true
        },
        "id": "T2zVnW-JDtnC"
      },
      "outputs": [],
      "source": [
        "type(x_DB_train)"
      ]
    },
    {
      "cell_type": "code",
      "execution_count": null,
      "metadata": {
        "colab": {
          "background_save": true
        },
        "id": "puO8mNLGIXh9"
      },
      "outputs": [],
      "source": [
        "x_DB_test.head()"
      ]
    },
    {
      "cell_type": "markdown",
      "metadata": {
        "id": "_PPOUJ0ZNZVx"
      },
      "source": [
        "Now, we want to create new x_test for each cancer type."
      ]
    },
    {
      "cell_type": "code",
      "execution_count": 1356,
      "metadata": {
        "id": "RCArQ_fG5tfT"
      },
      "outputs": [],
      "source": [
        "#create a new x_DB_test\n",
        "def create_new_xDBtest():\n",
        "  user_Glucose = input('Please enter the glucose level: ')\n",
        "  user_BP = input('Please enter the blood pressure: ')\n",
        "  user_ST = input('Please enter the skin thickness: ')\n",
        "  user_Insulin = input('Please enter the insulin: ')\n",
        "  user_BMI = input('Please enter the BMI: ')\n",
        "  user_DPF = input('Please enter the Diabetes Pedigree Function: ')\n",
        "  user_age_DB = input('Please enter the age: ')\n",
        "\n",
        "\n",
        "  name = ['Glucose', 'BloodPressure', 'SkinThickness', 'Insulin', 'BMI',\n",
        "        'DiabetesPedigreeFunction', 'Age']\n",
        "  user = [user_Glucose,user_BP,user_ST,user_Insulin,user_BMI,user_DPF,user_age_DB]\n",
        "  dic = {name: user for name, user in zip(name,user)}\n",
        "  new_x_DB_test = pd.DataFrame(data=dic, index=[0])\n",
        "  return new_x_DB_test"
      ]
    },
    {
      "cell_type": "code",
      "execution_count": 1357,
      "metadata": {
        "id": "KhHxmA50rSYH"
      },
      "outputs": [],
      "source": [
        "def create_new_xLDtest():\n",
        "  # remember to convert to log\n",
        "  import math\n",
        "  user_age_liver = input('Please enter the age: ')\n",
        "  user_TB = input('Please enter the total bilirubin: ')\n",
        "  user_DB = input('Please enter the direct bilirubin: ')\n",
        "  user_AP = input('Please enter the alkaline phosphotase: ')\n",
        "  user_AlA = input('Please enter the alamine aminotransferase: ')\n",
        "\n",
        "  user_AsA = input('Please enter the aspartate aminotransferase: ')\n",
        "  user_TP = input('Please enter the total protiens: ')\n",
        "  user_Albumin = input('Please enter the albumin: ')\n",
        "  user_AG = input('Please enter the albumin and globulin_Ratio: ')\n",
        "\n",
        "\n",
        "  name = ['Age', 'Total_Bilirubin', 'Direct_Bilirubin', 'Alkaline_Phosphotase',\n",
        "       'Alamine_Aminotransferase', 'Aspartate_Aminotransferase',\n",
        "       'Total_Protiens', 'Albumin', 'Albumin_and_Globulin_Ratio']\n",
        "  user = [user_age_liver,user_TB,user_DB,user_AP,user_AlA,user_AsA,user_TP,user_Albumin,user_AG]\n",
        "  user = [math.log10(float(num)) for num in user]\n",
        "  dic = {name: user for name, user in zip(name,user)}\n",
        "  new_x_LD_test = pd.DataFrame(data=dic, index=[0])\n",
        "  return new_x_LD_test"
      ]
    },
    {
      "cell_type": "code",
      "execution_count": 1358,
      "metadata": {
        "id": "5kmb4hoZrSlc"
      },
      "outputs": [],
      "source": [
        "def create_new_xBCtest():\n",
        "\n",
        "  user_radius_mean = input('Please enter the radius mean: ')\n",
        "  user_texture_mean = input('Please enter the texture mean: ')\n",
        "  user_perimeter_mean = input('Please enter the perimeter mean: ')\n",
        "  user_area_mean = input('Please enter the area mean: ')\n",
        "  user_smoothness_mean = input('Please enter the smoothness mean: ')\n",
        "\n",
        "  user_compactness_mean = input('Please enter the compactness mean: ')\n",
        "  user_concavity_mean = input('Please enter the concavity mean: ')\n",
        "  user_concave_points_mean = input('Please enter the concave points mean: ')\n",
        "  user_symmetry_mean = input('Please enter the symmetry mean: ')\n",
        "  user_fractal_dimension_mean = input('Please enter the fractal dimension mean: ')\n",
        "\n",
        "  user_radius_se = input('Please enter the radius_se: ')\n",
        "  user_texture_se = input('Please enter the texture_se: ')\n",
        "  user_perimeter_se = input('Please enter the perimeter_se: ')\n",
        "  user_area_se = input('Please enter the area_se: ')\n",
        "  user_smoothness_se = input('Please enter the smoothness_se: ')\n",
        "\n",
        "  user_compactness_se = input('Please enter the compactness_se: ')\n",
        "  user_concavity_se = input('Please enter the concavity_se: ')\n",
        "  user_concave_points_se = input('Please enter the concave points_se: ')\n",
        "  user_fractal_dimension_se = input('Please enter the fractal_dimension_se: ')\n",
        "  user_radius_worst = input('Please enter the radius_worst: ')\n",
        "\n",
        "  user_texture_worst = input('Please enter the texture_worst: ')\n",
        "  user_perimeter_worst = input('Please enter the perimeter_worst: ')\n",
        "  user_area_worst = input('Please enter the area_worst: ')\n",
        "  user_smoothness_worst = input('Please enter the smoothness_worst: ')\n",
        "  user_compactness_worst = input('Please enter the compactness_worst: ')\n",
        "\n",
        "  user_concavity_worst = input('Please enter the concavity_worst: ')\n",
        "  user_concave_points_worst = input('Please enter the concave points_worst: ')\n",
        "  user_symmetry_worst = input('Please enter the symmetry_worst: ')\n",
        "  user_fractal_dimension_worst = input('Please enter the fractal_dimension_worst: ')\n",
        "\n",
        "\n",
        "\n",
        "  name = ['radius_mean', 'texture_mean', 'perimeter_mean',\n",
        "       'area_mean', 'smoothness_mean', 'compactness_mean', 'concavity_mean',\n",
        "       'concave points_mean', 'symmetry_mean', 'fractal_dimension_mean',\n",
        "       'radius_se', 'texture_se', 'perimeter_se', 'area_se', 'smoothness_se',\n",
        "       'compactness_se', 'concavity_se', 'concave points_se', 'symmetry_se',\n",
        "       'fractal_dimension_se', 'radius_worst', 'texture_worst',\n",
        "       'perimeter_worst', 'area_worst', 'smoothness_worst',\n",
        "       'compactness_worst', 'concavity_worst', 'concave points_worst',\n",
        "       'symmetry_worst', 'fractal_dimension_worst']\n",
        "  user = [\n",
        "          user_radius_mean, user_texture_mean, user_perimeter_mean, user_area_mean, user_smoothness_mean,\n",
        "          user_compactness_mean, user_concavity_mean, user_concave_points_mean, user_symmetry_mean, user_fractal_dimension_mean,\n",
        "          user_radius_se, user_texture_se, user_perimeter_se, user_area_se, user_smoothness_se,\n",
        "          user_compactness_se, user_concavity_se, user_concave_points_se, user_fractal_dimension_se, user_radius_worst,\n",
        "          user_texture_worst, user_perimeter_worst, user_area_worst, user_smoothness_worst, user_compactness_worst,\n",
        "          user_concavity_worst, user_concave_points_worst, user_symmetry_worst, user_fractal_dimension_worst\n",
        "          ]\n",
        "  dic = {name: user for name, user in zip(name,user)}\n",
        "  new_x_BC_test = pd.DataFrame(data=dic, index=[0])\n",
        "  return new_x_BC_test"
      ]
    },
    {
      "cell_type": "code",
      "execution_count": 1359,
      "metadata": {
        "id": "zQlPeB0Wf9Jk"
      },
      "outputs": [],
      "source": [
        "def create_new_xHDtest():\n",
        "  user_age_HD = input('Please enter the age: ')\n",
        "  user_cp = input('Please enter the Type of chest pain: ')\n",
        "  user_trestbps = input('Please enter the Resting blood pressure: ')\n",
        "  user_chol = input('Please enter the Serum cholesterol: ')\n",
        "  user_fbs = input('Please enter the Fasting blood sugar: ')\n",
        "\n",
        "  user_restecg = input('Please enter the Resting electrocardiographic results: ')\n",
        "  user_thalach = input('Please enter the Maximum heart rate achieved: ')\n",
        "  user_exang = input('Please enter the Exercise induced angina: ')\n",
        "  user_oldpeak = input('Please enter the ST depression induced by exercise relative to rest: ')\n",
        "  user_slope = input('Please enter the Slope of the peak exercise ST segment: ')\n",
        "\n",
        "  user_ca = input('Please enter the Number of major vessels colored by fluoroscopy: ')\n",
        "  user_thal = input('Please enter the Thalium stress test result: ')\n",
        "\n",
        "\n",
        "  name = ['age', 'cp', 'trestbps', 'chol', 'fbs', 'restecg', 'thalach',\n",
        "       'exang', 'oldpeak', 'slope', 'ca', 'thal']\n",
        "  user = [\n",
        "          user_age_HD, user_cp, user_trestbps, user_chol, user_fbs,\n",
        "          user_restecg, user_thalach, user_exang, user_oldpeak, user_slope,\n",
        "          user_ca, user_thal\n",
        "          ]\n",
        "  dic = {name: user for name, user in zip(name,user)}\n",
        "  new_x_HD_test = pd.DataFrame(data=dic, index=[0])\n",
        "  return new_x_HD_test\n"
      ]
    },
    {
      "cell_type": "code",
      "execution_count": 1361,
      "metadata": {
        "id": "jb_zRf0SsyCO"
      },
      "outputs": [],
      "source": [
        "def create_new_xCKDtest():\n",
        "  user_age_CKD = input('Please enter the age: ')\n",
        "  user_bp_CKD = input('Please enter the blood pressure: ')\n",
        "  user_sg = input('Please enter the specific gravity: ')\n",
        "  user_al = input('Please enter the albumin: ')\n",
        "  user_su = input('Please enter the sugar: ')\n",
        "\n",
        "  user_rbc = input('Please enter the red blood cells: ')\n",
        "  user_pc = input('Please enter the pus cell: ')\n",
        "  user_pcc = input('Please enter the pus cell clumps: ')\n",
        "  user_ba = input('Please enter the bacteria: ')\n",
        "  user_bgr = input('Please enter the blood glucose random: ')\n",
        "\n",
        "  user_bu = input('Please enter the blood urea: ')\n",
        "  user_sc = input('Please enter the serum creatinine: ')\n",
        "  user_sod = input('Please enter the sodium: ')\n",
        "  user_pot = input('Please enter the potassium: ')\n",
        "  user_hemo = input('Please enter the hemoglobin: ')\n",
        "\n",
        "  user_pcv = input('Please enter the packed cell volume: ')\n",
        "  user_wc = input('Please enter the white blood cell count: ')\n",
        "  user_rc = input('Please enter the red blood cell count: ')\n",
        "  user_htn = input('Please enter the hypertension: ')\n",
        "  user_dm = input('Please enter the diabetes mellitus: ')\n",
        "\n",
        "  user_cad = input('Please enter the coronary artery disease: ')\n",
        "  user_appet = input('Please enter the appetite: ')\n",
        "  user_pe = input('Please enter the pedal edema: ')\n",
        "  user_ane = input('Please enter the anemia: ')\n",
        "\n",
        "\n",
        "  name = ['age', 'blood_pressure', 'specific_gravity', 'albumin', 'sugar',\n",
        "       'red_blood_cells', 'pus_cell', 'pus_cell_clumps', 'bacteria',\n",
        "       'blood_glucose_random', 'blood_urea', 'serum_creatinine', 'sodium',\n",
        "       'potassium', 'haemoglobin', 'packed_cell_volume',\n",
        "       'white_blood_cell_count', 'red_blood_cell_count', 'hypertension',\n",
        "       'diabetes_mellitus', 'coronary_artery_disease', 'appetite',\n",
        "       'peda_edema', 'aanemia']\n",
        "  user = [\n",
        "          user_age_CKD, user_bp_CKD, user_sg, user_al, user_su,\n",
        "          user_rbc, user_pc, user_pcc, user_ba, user_bgr,\n",
        "          user_bu, user_sc, user_sod, user_pot, user_hemo,\n",
        "          user_pcv, user_wc, user_rc, user_htn, user_dm,\n",
        "          user_cad, user_appet, user_pe, user_ane\n",
        "          ]\n",
        "  dic = {name: user for name, user in zip(name,user)}\n",
        "  new_x_CKD_test = pd.DataFrame(data=dic, index=[0])\n",
        "  return new_x_CKD_test"
      ]
    },
    {
      "cell_type": "code",
      "execution_count": 1362,
      "metadata": {
        "id": "II3P1lVV4mCU"
      },
      "outputs": [],
      "source": [
        "def create_new_xDrugtest():\n",
        "  user_age_Drug = input('Please enter the age: ')\n",
        "  user_sex = input('Please enter the gender: ')\n",
        "  user_bp_Drug = input('Please enter the blood pressure: ')\n",
        "  user_chol_Drug = input('Please enter the Cholesterol: ')\n",
        "  user_Na_to_K = input('Please enter the Na/k ratio: ')\n",
        "\n",
        "\n",
        "  name = ['Age', 'Sex', 'BP', 'Cholesterol', 'Na_to_K']\n",
        "  user = [user_age_Drug, user_sex, user_bp_Drug, user_chol_Drug, user_Na_to_K]\n",
        "  dic = {name: user for name, user in zip(name,user)}\n",
        "  new_x_Drug_test = pd.DataFrame(data=dic, index=[0])\n",
        "  return new_x_Drug_test"
      ]
    },
    {
      "cell_type": "code",
      "execution_count": 1363,
      "metadata": {
        "id": "edUVE2Ltrq5I"
      },
      "outputs": [],
      "source": [
        "def make_prediction(x_train, y_train, x_test, cancer_name):\n",
        "  from sklearn import svm\n",
        "  svm_model = svm.SVC(kernel='linear')\n",
        "  svm_model = svm_model.fit(x_train,y_train)\n",
        "  predict_ans = svm_model.predict(x_test)\n",
        "  if predict_ans.any() ==0:\n",
        "    print(f'This patient is not likely to have {cancer_name}!')\n",
        "  else:\n",
        "    print(f'This patient has potentially {cancer_name}!')"
      ]
    },
    {
      "cell_type": "code",
      "execution_count": 1364,
      "metadata": {
        "id": "wbtSLk0KrrAi",
        "colab": {
          "base_uri": "https://localhost:8080/"
        },
        "outputId": "cb4d2ef7-eac2-40b4-890f-45cfb6d00ea8"
      },
      "outputs": [
        {
          "output_type": "stream",
          "name": "stdout",
          "text": [
            "Do you want to predict 'Drug Treatment' or 'Disease Outcome': Disease Outcome\n",
            "Please enter the disease or cancer type: diabetes\n",
            "Please enter the glucose level: 10\n",
            "Please enter the blood pressure: 20.5\n",
            "Please enter the skin thickness: 32\n",
            "Please enter the insulin: 15.2\n",
            "Please enter the BMI: 24\n",
            "Please enter the Diabetes Pedigree Function: 42.5\n",
            "Please enter the age: 60\n",
            "This patient has potentially Diabetes!\n"
          ]
        }
      ],
      "source": [
        "drug_or_cancer = input(\"Do you want to predict 'Drug Treatment' or 'Disease Outcome': \")\n",
        "if drug_or_cancer == 'Drug Treatment':\n",
        "  new_x_Drug_test = create_new_xDrugtest()\n",
        "  from sklearn import svm\n",
        "  svm_model = svm.SVC(kernel='linear')\n",
        "  svm_model = svm_model.fit(x_Drug_train,y_Drug_train)\n",
        "  predict_ans = svm_model.predict(x_Drug_test)\n",
        "  for key, value in Drug_mapping.items():\n",
        "    if value == predict_ans.item():\n",
        "      print(f'The drug this patient should take is {key}')\n",
        "\n",
        "\n",
        "\n",
        "if drug_or_cancer == 'Disease Outcome':\n",
        "  choose_cancer= input('Please enter the disease or cancer type: ').lower()\n",
        "  if choose_cancer == 'diabetes':\n",
        "    new_x_DB_test = create_new_xDBtest()\n",
        "    make_prediction(x_DB_train, y_DB_train, new_x_DB_test, 'Diabetes')\n",
        "  elif choose_cancer == 'liver disease':\n",
        "    new_x_LD_test = create_new_xLDtest()\n",
        "    make_prediction(x_LD_train, y_LD_train, new_x_LD_test, 'Liver Disease')\n",
        "\n",
        "  elif choose_cancer == 'breast cancer':\n",
        "    new_x_BC_test = create_new_xBCtest()\n",
        "    make_prediction(x_BC_train, y_BC_train, new_x_BC_test, 'Breast Cancer')\n",
        "\n",
        "  elif choose_cancer == 'heart disease':\n",
        "    new_x_HD_test = create_new_xHDtest()\n",
        "    make_prediction(x_HD_train, y_HD_train, new_x_HD_test, 'Heart Disease')\n",
        "\n",
        "  elif choose_cancer == 'chronic kidney disease':\n",
        "    new_x_CKD_test = create_new_xCKDtest()\n",
        "    make_prediction(x_CKD_train, y_CKD_train, new_x_CKD_test, 'Chronic Kidney Disease')\n",
        "\n",
        "  else:\n",
        "    print('Sorry, this is not a valid input.')"
      ]
    }
  ],
  "metadata": {
    "colab": {
      "provenance": [],
      "toc_visible": true,
      "authorship_tag": "ABX9TyO8dXsgEKAAas2AKh9c5nc7",
      "include_colab_link": true
    },
    "kernelspec": {
      "display_name": "Python 3",
      "name": "python3"
    },
    "language_info": {
      "name": "python"
    }
  },
  "nbformat": 4,
  "nbformat_minor": 0
}